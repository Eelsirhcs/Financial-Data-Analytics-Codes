{
 "cells": [
  {
   "cell_type": "markdown",
   "metadata": {},
   "source": [
    "# Assignment 2 \n",
    "# FI 8090\n",
    "## Group 2: Caroline MacMillan, Chris Lee, and Jonghwa Baek"
   ]
  },
  {
   "cell_type": "code",
   "execution_count": 1,
   "metadata": {},
   "outputs": [],
   "source": [
    "#Packages used in this assignment\n",
    "import pandas as pd\n",
    "import yfinance as yf\n",
    "from yahoofinancials import YahooFinancials\n",
    "from fredapi import Fred\n",
    "fred = Fred(api_key='8e5b8f870e07617c9822516d2d0a2769')\n",
    "import numpy as np  \n",
    "import matplotlib.pyplot as plt  \n",
    "import statsmodels.api as sm\n",
    "from scipy import stats\n",
    "import statsmodels.formula.api as smf\n",
    "from sklearn.linear_model import LinearRegression"
   ]
  },
  {
   "cell_type": "markdown",
   "metadata": {},
   "source": [
    "### Part 1"
   ]
  },
  {
   "cell_type": "markdown",
   "metadata": {},
   "source": [
    "#### i.\tDownload monthly price data of S&P500 and a stock of your choice for the period 01/01/2004 to 12/31/2019 (or any fifteen year period)"
   ]
  },
  {
   "cell_type": "code",
   "execution_count": 2,
   "metadata": {},
   "outputs": [],
   "source": [
    "assets = ['^GSPC', 'AAPL'] #^GSPC is S&P500, AAPL is Apple, the stock of our choice\n",
    "\n",
    "data = YahooFinancials(assets).get_historical_price_data(start_date = '2004-01-01', \n",
    "                                                         end_date = '2019-12-31', \n",
    "                                                         time_interval = 'monthly')\n",
    "prices_df = pd.DataFrame({a: {x['formatted_date']: x['adjclose'] \n",
    "                              for x in data[a]['prices']} for a in assets})"
   ]
  },
  {
   "cell_type": "code",
   "execution_count": 3,
   "metadata": {},
   "outputs": [
    {
     "data": {
      "text/html": [
       "<div>\n",
       "<style scoped>\n",
       "    .dataframe tbody tr th:only-of-type {\n",
       "        vertical-align: middle;\n",
       "    }\n",
       "\n",
       "    .dataframe tbody tr th {\n",
       "        vertical-align: top;\n",
       "    }\n",
       "\n",
       "    .dataframe thead th {\n",
       "        text-align: right;\n",
       "    }\n",
       "</style>\n",
       "<table border=\"1\" class=\"dataframe\">\n",
       "  <thead>\n",
       "    <tr style=\"text-align: right;\">\n",
       "      <th></th>\n",
       "      <th>^GSPC</th>\n",
       "      <th>AAPL</th>\n",
       "    </tr>\n",
       "  </thead>\n",
       "  <tbody>\n",
       "    <tr>\n",
       "      <th>2004-01-01</th>\n",
       "      <td>1131.130005</td>\n",
       "      <td>0.348125</td>\n",
       "    </tr>\n",
       "    <tr>\n",
       "      <th>2004-02-01</th>\n",
       "      <td>1144.939941</td>\n",
       "      <td>0.369111</td>\n",
       "    </tr>\n",
       "    <tr>\n",
       "      <th>2004-03-01</th>\n",
       "      <td>1126.209961</td>\n",
       "      <td>0.417256</td>\n",
       "    </tr>\n",
       "    <tr>\n",
       "      <th>2004-04-01</th>\n",
       "      <td>1107.300049</td>\n",
       "      <td>0.397813</td>\n",
       "    </tr>\n",
       "    <tr>\n",
       "      <th>2004-05-01</th>\n",
       "      <td>1120.680054</td>\n",
       "      <td>0.432996</td>\n",
       "    </tr>\n",
       "  </tbody>\n",
       "</table>\n",
       "</div>"
      ],
      "text/plain": [
       "                  ^GSPC      AAPL\n",
       "2004-01-01  1131.130005  0.348125\n",
       "2004-02-01  1144.939941  0.369111\n",
       "2004-03-01  1126.209961  0.417256\n",
       "2004-04-01  1107.300049  0.397813\n",
       "2004-05-01  1120.680054  0.432996"
      ]
     },
     "execution_count": 3,
     "metadata": {},
     "output_type": "execute_result"
    }
   ],
   "source": [
    "prices_df.head()"
   ]
  },
  {
   "cell_type": "markdown",
   "metadata": {},
   "source": [
    "#### ii. Compute the monthly returns for the S&P 500 and the stock. Construct one data frame to store the return series. "
   ]
  },
  {
   "cell_type": "code",
   "execution_count": 4,
   "metadata": {},
   "outputs": [],
   "source": [
    "omr = (((prices_df/prices_df.shift(1)) - 1) * 100)\n",
    "monthly_returns = omr.dropna()"
   ]
  },
  {
   "cell_type": "code",
   "execution_count": 5,
   "metadata": {},
   "outputs": [
    {
     "data": {
      "text/html": [
       "<div>\n",
       "<style scoped>\n",
       "    .dataframe tbody tr th:only-of-type {\n",
       "        vertical-align: middle;\n",
       "    }\n",
       "\n",
       "    .dataframe tbody tr th {\n",
       "        vertical-align: top;\n",
       "    }\n",
       "\n",
       "    .dataframe thead th {\n",
       "        text-align: right;\n",
       "    }\n",
       "</style>\n",
       "<table border=\"1\" class=\"dataframe\">\n",
       "  <thead>\n",
       "    <tr style=\"text-align: right;\">\n",
       "      <th></th>\n",
       "      <th>^GSPC</th>\n",
       "      <th>AAPL</th>\n",
       "    </tr>\n",
       "  </thead>\n",
       "  <tbody>\n",
       "    <tr>\n",
       "      <th>2004-02-01</th>\n",
       "      <td>1.220897</td>\n",
       "      <td>6.028374</td>\n",
       "    </tr>\n",
       "    <tr>\n",
       "      <th>2004-03-01</th>\n",
       "      <td>-1.635892</td>\n",
       "      <td>13.043446</td>\n",
       "    </tr>\n",
       "    <tr>\n",
       "      <th>2004-04-01</th>\n",
       "      <td>-1.679075</td>\n",
       "      <td>-4.659762</td>\n",
       "    </tr>\n",
       "    <tr>\n",
       "      <th>2004-05-01</th>\n",
       "      <td>1.208345</td>\n",
       "      <td>8.844095</td>\n",
       "    </tr>\n",
       "    <tr>\n",
       "      <th>2004-06-01</th>\n",
       "      <td>1.798900</td>\n",
       "      <td>15.965792</td>\n",
       "    </tr>\n",
       "  </tbody>\n",
       "</table>\n",
       "</div>"
      ],
      "text/plain": [
       "               ^GSPC       AAPL\n",
       "2004-02-01  1.220897   6.028374\n",
       "2004-03-01 -1.635892  13.043446\n",
       "2004-04-01 -1.679075  -4.659762\n",
       "2004-05-01  1.208345   8.844095\n",
       "2004-06-01  1.798900  15.965792"
      ]
     },
     "execution_count": 5,
     "metadata": {},
     "output_type": "execute_result"
    }
   ],
   "source": [
    "monthly_returns.head()"
   ]
  },
  {
   "cell_type": "markdown",
   "metadata": {},
   "source": [
    "#### iii.\tConstruct summary statistics, histogram, correlation matrix of the return series. "
   ]
  },
  {
   "cell_type": "code",
   "execution_count": 6,
   "metadata": {},
   "outputs": [],
   "source": [
    "#Regression with True returns\n",
    "x = monthly_returns['^GSPC']\n",
    "y = monthly_returns['AAPL']\n",
    "result = smf.ols(formula = \"y ~ x\", data = monthly_returns).fit()"
   ]
  },
  {
   "cell_type": "code",
   "execution_count": 7,
   "metadata": {},
   "outputs": [
    {
     "data": {
      "text/html": [
       "<table class=\"simpletable\">\n",
       "<caption>OLS Regression Results</caption>\n",
       "<tr>\n",
       "  <th>Dep. Variable:</th>            <td>y</td>        <th>  R-squared:         </th> <td>   0.262</td>\n",
       "</tr>\n",
       "<tr>\n",
       "  <th>Model:</th>                   <td>OLS</td>       <th>  Adj. R-squared:    </th> <td>   0.258</td>\n",
       "</tr>\n",
       "<tr>\n",
       "  <th>Method:</th>             <td>Least Squares</td>  <th>  F-statistic:       </th> <td>   67.12</td>\n",
       "</tr>\n",
       "<tr>\n",
       "  <th>Date:</th>             <td>Wed, 14 Oct 2020</td> <th>  Prob (F-statistic):</th> <td>3.76e-14</td>\n",
       "</tr>\n",
       "<tr>\n",
       "  <th>Time:</th>                 <td>13:56:12</td>     <th>  Log-Likelihood:    </th> <td> -672.55</td>\n",
       "</tr>\n",
       "<tr>\n",
       "  <th>No. Observations:</th>      <td>   191</td>      <th>  AIC:               </th> <td>   1349.</td>\n",
       "</tr>\n",
       "<tr>\n",
       "  <th>Df Residuals:</th>          <td>   189</td>      <th>  BIC:               </th> <td>   1356.</td>\n",
       "</tr>\n",
       "<tr>\n",
       "  <th>Df Model:</th>              <td>     1</td>      <th>                     </th>     <td> </td>   \n",
       "</tr>\n",
       "<tr>\n",
       "  <th>Covariance Type:</th>      <td>nonrobust</td>    <th>                     </th>     <td> </td>   \n",
       "</tr>\n",
       "</table>\n",
       "<table class=\"simpletable\">\n",
       "<tr>\n",
       "      <td></td>         <th>coef</th>     <th>std err</th>      <th>t</th>      <th>P>|t|</th>  <th>[0.025</th>    <th>0.975]</th>  \n",
       "</tr>\n",
       "<tr>\n",
       "  <th>Intercept</th> <td>    2.5064</td> <td>    0.603</td> <td>    4.156</td> <td> 0.000</td> <td>    1.317</td> <td>    3.696</td>\n",
       "</tr>\n",
       "<tr>\n",
       "  <th>x</th>         <td>    1.2529</td> <td>    0.153</td> <td>    8.193</td> <td> 0.000</td> <td>    0.951</td> <td>    1.555</td>\n",
       "</tr>\n",
       "</table>\n",
       "<table class=\"simpletable\">\n",
       "<tr>\n",
       "  <th>Omnibus:</th>       <td> 8.327</td> <th>  Durbin-Watson:     </th> <td>   1.856</td>\n",
       "</tr>\n",
       "<tr>\n",
       "  <th>Prob(Omnibus):</th> <td> 0.016</td> <th>  Jarque-Bera (JB):  </th> <td>  15.991</td>\n",
       "</tr>\n",
       "<tr>\n",
       "  <th>Skew:</th>          <td> 0.023</td> <th>  Prob(JB):          </th> <td>0.000337</td>\n",
       "</tr>\n",
       "<tr>\n",
       "  <th>Kurtosis:</th>      <td> 4.417</td> <th>  Cond. No.          </th> <td>    4.00</td>\n",
       "</tr>\n",
       "</table><br/><br/>Warnings:<br/>[1] Standard Errors assume that the covariance matrix of the errors is correctly specified."
      ],
      "text/plain": [
       "<class 'statsmodels.iolib.summary.Summary'>\n",
       "\"\"\"\n",
       "                            OLS Regression Results                            \n",
       "==============================================================================\n",
       "Dep. Variable:                      y   R-squared:                       0.262\n",
       "Model:                            OLS   Adj. R-squared:                  0.258\n",
       "Method:                 Least Squares   F-statistic:                     67.12\n",
       "Date:                Wed, 14 Oct 2020   Prob (F-statistic):           3.76e-14\n",
       "Time:                        13:56:12   Log-Likelihood:                -672.55\n",
       "No. Observations:                 191   AIC:                             1349.\n",
       "Df Residuals:                     189   BIC:                             1356.\n",
       "Df Model:                           1                                         \n",
       "Covariance Type:            nonrobust                                         \n",
       "==============================================================================\n",
       "                 coef    std err          t      P>|t|      [0.025      0.975]\n",
       "------------------------------------------------------------------------------\n",
       "Intercept      2.5064      0.603      4.156      0.000       1.317       3.696\n",
       "x              1.2529      0.153      8.193      0.000       0.951       1.555\n",
       "==============================================================================\n",
       "Omnibus:                        8.327   Durbin-Watson:                   1.856\n",
       "Prob(Omnibus):                  0.016   Jarque-Bera (JB):               15.991\n",
       "Skew:                           0.023   Prob(JB):                     0.000337\n",
       "Kurtosis:                       4.417   Cond. No.                         4.00\n",
       "==============================================================================\n",
       "\n",
       "Warnings:\n",
       "[1] Standard Errors assume that the covariance matrix of the errors is correctly specified.\n",
       "\"\"\""
      ]
     },
     "execution_count": 7,
     "metadata": {},
     "output_type": "execute_result"
    }
   ],
   "source": [
    "result.summary()"
   ]
  },
  {
   "cell_type": "code",
   "execution_count": 8,
   "metadata": {
    "scrolled": false
   },
   "outputs": [
    {
     "name": "stdout",
     "output_type": "stream",
     "text": [
      "                            OLS Regression Results                            \n",
      "==============================================================================\n",
      "Dep. Variable:                      y   R-squared:                       0.262\n",
      "Model:                            OLS   Adj. R-squared:                  0.258\n",
      "Method:                 Least Squares   F-statistic:                     67.12\n",
      "Date:                Wed, 14 Oct 2020   Prob (F-statistic):           3.76e-14\n",
      "Time:                        13:56:12   Log-Likelihood:                -672.55\n",
      "No. Observations:                 191   AIC:                             1349.\n",
      "Df Residuals:                     189   BIC:                             1356.\n",
      "Df Model:                           1                                         \n",
      "Covariance Type:            nonrobust                                         \n",
      "==============================================================================\n",
      "                 coef    std err          t      P>|t|      [0.025      0.975]\n",
      "------------------------------------------------------------------------------\n",
      "Intercept      2.5064      0.603      4.156      0.000       1.317       3.696\n",
      "x              1.2529      0.153      8.193      0.000       0.951       1.555\n",
      "==============================================================================\n",
      "Omnibus:                        8.327   Durbin-Watson:                   1.856\n",
      "Prob(Omnibus):                  0.016   Jarque-Bera (JB):               15.991\n",
      "Skew:                           0.023   Prob(JB):                     0.000337\n",
      "Kurtosis:                       4.417   Cond. No.                         4.00\n",
      "==============================================================================\n",
      "\n",
      "Warnings:\n",
      "[1] Standard Errors assume that the covariance matrix of the errors is correctly specified.\n"
     ]
    }
   ],
   "source": [
    "print(result.summary())"
   ]
  },
  {
   "cell_type": "code",
   "execution_count": 9,
   "metadata": {
    "scrolled": true
   },
   "outputs": [
    {
     "data": {
      "text/html": [
       "<div>\n",
       "<style scoped>\n",
       "    .dataframe tbody tr th:only-of-type {\n",
       "        vertical-align: middle;\n",
       "    }\n",
       "\n",
       "    .dataframe tbody tr th {\n",
       "        vertical-align: top;\n",
       "    }\n",
       "\n",
       "    .dataframe thead th {\n",
       "        text-align: right;\n",
       "    }\n",
       "</style>\n",
       "<table border=\"1\" class=\"dataframe\">\n",
       "  <thead>\n",
       "    <tr style=\"text-align: right;\">\n",
       "      <th></th>\n",
       "      <th>^GSPC</th>\n",
       "      <th>AAPL</th>\n",
       "    </tr>\n",
       "  </thead>\n",
       "  <tbody>\n",
       "    <tr>\n",
       "      <th>count</th>\n",
       "      <td>191.000000</td>\n",
       "      <td>191.000000</td>\n",
       "    </tr>\n",
       "    <tr>\n",
       "      <th>mean</th>\n",
       "      <td>0.628167</td>\n",
       "      <td>3.293451</td>\n",
       "    </tr>\n",
       "    <tr>\n",
       "      <th>std</th>\n",
       "      <td>3.903193</td>\n",
       "      <td>9.552638</td>\n",
       "    </tr>\n",
       "    <tr>\n",
       "      <th>min</th>\n",
       "      <td>-16.942452</td>\n",
       "      <td>-32.955791</td>\n",
       "    </tr>\n",
       "    <tr>\n",
       "      <th>25%</th>\n",
       "      <td>-1.529683</td>\n",
       "      <td>-2.050540</td>\n",
       "    </tr>\n",
       "    <tr>\n",
       "      <th>50%</th>\n",
       "      <td>1.157625</td>\n",
       "      <td>4.093452</td>\n",
       "    </tr>\n",
       "    <tr>\n",
       "      <th>75%</th>\n",
       "      <td>2.985078</td>\n",
       "      <td>9.322231</td>\n",
       "    </tr>\n",
       "    <tr>\n",
       "      <th>max</th>\n",
       "      <td>10.772304</td>\n",
       "      <td>35.225802</td>\n",
       "    </tr>\n",
       "  </tbody>\n",
       "</table>\n",
       "</div>"
      ],
      "text/plain": [
       "            ^GSPC        AAPL\n",
       "count  191.000000  191.000000\n",
       "mean     0.628167    3.293451\n",
       "std      3.903193    9.552638\n",
       "min    -16.942452  -32.955791\n",
       "25%     -1.529683   -2.050540\n",
       "50%      1.157625    4.093452\n",
       "75%      2.985078    9.322231\n",
       "max     10.772304   35.225802"
      ]
     },
     "execution_count": 9,
     "metadata": {},
     "output_type": "execute_result"
    }
   ],
   "source": [
    "monthly_returns.describe() #.describe() to see the statistical details."
   ]
  },
  {
   "cell_type": "code",
   "execution_count": 10,
   "metadata": {
    "scrolled": false
   },
   "outputs": [
    {
     "data": {
      "image/png": "[encoded data removed]",
      "text/plain": [
       "<Figure size 432x288 with 1 Axes>"
      ]
     },
     "metadata": {
      "needs_background": "light"
     },
     "output_type": "display_data"
    },
    {
     "data": {
      "image/png": "[encoded data removed]",
      "text/plain": [
       "<Figure size 432x288 with 1 Axes>"
      ]
     },
     "metadata": {
      "needs_background": "light"
     },
     "output_type": "display_data"
    }
   ],
   "source": [
    "def indhist(stock, indTitle): #Function for ease of plotting monthly returns individually\n",
    "    monthly_returns[stock].plot.hist(bins = 50)\n",
    "    plt.ylabel(\"Percent\", fontsize = 15)\n",
    "    plt.title(indTitle, fontsize = 15)\n",
    "    plt.show()\n",
    "    \n",
    "for a in assets: #For loop to plot both individual stocks' plots at once\n",
    "    indhist(a, a + ' Monthly Returns Data')"
   ]
  },
  {
   "cell_type": "code",
   "execution_count": 11,
   "metadata": {},
   "outputs": [
    {
     "data": {
      "text/html": [
       "<div>\n",
       "<style scoped>\n",
       "    .dataframe tbody tr th:only-of-type {\n",
       "        vertical-align: middle;\n",
       "    }\n",
       "\n",
       "    .dataframe tbody tr th {\n",
       "        vertical-align: top;\n",
       "    }\n",
       "\n",
       "    .dataframe thead th {\n",
       "        text-align: right;\n",
       "    }\n",
       "</style>\n",
       "<table border=\"1\" class=\"dataframe\">\n",
       "  <thead>\n",
       "    <tr style=\"text-align: right;\">\n",
       "      <th></th>\n",
       "      <th>^GSPC</th>\n",
       "      <th>AAPL</th>\n",
       "    </tr>\n",
       "  </thead>\n",
       "  <tbody>\n",
       "    <tr>\n",
       "      <th>^GSPC</th>\n",
       "      <td>1.000000</td>\n",
       "      <td>0.511927</td>\n",
       "    </tr>\n",
       "    <tr>\n",
       "      <th>AAPL</th>\n",
       "      <td>0.511927</td>\n",
       "      <td>1.000000</td>\n",
       "    </tr>\n",
       "  </tbody>\n",
       "</table>\n",
       "</div>"
      ],
      "text/plain": [
       "          ^GSPC      AAPL\n",
       "^GSPC  1.000000  0.511927\n",
       "AAPL   0.511927  1.000000"
      ]
     },
     "execution_count": 11,
     "metadata": {},
     "output_type": "execute_result"
    }
   ],
   "source": [
    "monthly_returns.corr()  #correlation matrix of the monthly returns series"
   ]
  },
  {
   "cell_type": "markdown",
   "metadata": {},
   "source": [
    "#### iv.\tDownload 3 month TBill rate from Fred. Consider the TBill data  for the same sample period 01/01/2004 to 12/31/2019 (or any fifteen year period that you have chosen) . "
   ]
  },
  {
   "cell_type": "code",
   "execution_count": 12,
   "metadata": {},
   "outputs": [],
   "source": [
    "#Downloading the Data and converting the Data into a DataFrame\n",
    "TBill = pd.DataFrame(fred.get_series('TB3MS', \n",
    "                                     observation_start = '2004-01-01', \n",
    "                                     observation_end = '2019-12-31'), columns = ['TBill'])"
   ]
  },
  {
   "cell_type": "code",
   "execution_count": 13,
   "metadata": {
    "scrolled": false
   },
   "outputs": [
    {
     "data": {
      "text/html": [
       "<div>\n",
       "<style scoped>\n",
       "    .dataframe tbody tr th:only-of-type {\n",
       "        vertical-align: middle;\n",
       "    }\n",
       "\n",
       "    .dataframe tbody tr th {\n",
       "        vertical-align: top;\n",
       "    }\n",
       "\n",
       "    .dataframe thead th {\n",
       "        text-align: right;\n",
       "    }\n",
       "</style>\n",
       "<table border=\"1\" class=\"dataframe\">\n",
       "  <thead>\n",
       "    <tr style=\"text-align: right;\">\n",
       "      <th></th>\n",
       "      <th>TBill</th>\n",
       "    </tr>\n",
       "  </thead>\n",
       "  <tbody>\n",
       "    <tr>\n",
       "      <th>2004-01-01</th>\n",
       "      <td>0.073333</td>\n",
       "    </tr>\n",
       "    <tr>\n",
       "      <th>2004-02-01</th>\n",
       "      <td>0.077500</td>\n",
       "    </tr>\n",
       "    <tr>\n",
       "      <th>2004-03-01</th>\n",
       "      <td>0.078333</td>\n",
       "    </tr>\n",
       "    <tr>\n",
       "      <th>2004-04-01</th>\n",
       "      <td>0.078333</td>\n",
       "    </tr>\n",
       "    <tr>\n",
       "      <th>2004-05-01</th>\n",
       "      <td>0.085000</td>\n",
       "    </tr>\n",
       "  </tbody>\n",
       "</table>\n",
       "</div>"
      ],
      "text/plain": [
       "               TBill\n",
       "2004-01-01  0.073333\n",
       "2004-02-01  0.077500\n",
       "2004-03-01  0.078333\n",
       "2004-04-01  0.078333\n",
       "2004-05-01  0.085000"
      ]
     },
     "execution_count": 13,
     "metadata": {},
     "output_type": "execute_result"
    }
   ],
   "source": [
    "amTBill = TBill/12\n",
    "amTBill.head()"
   ]
  },
  {
   "cell_type": "code",
   "execution_count": 14,
   "metadata": {},
   "outputs": [],
   "source": [
    "# gmTBill = (((1 + TBill)**(1/12)) - 1 )\n",
    "# gmTBill.head()"
   ]
  },
  {
   "cell_type": "markdown",
   "metadata": {},
   "source": [
    "#### v.\tConstruct a matrix of return series combining Stock, S&P500, and TBill for the sample period. "
   ]
  },
  {
   "cell_type": "code",
   "execution_count": 15,
   "metadata": {},
   "outputs": [],
   "source": [
    "#Concatenating the two dataframes\n",
    "monthly_returns2 = pd.concat([omr, amTBill], axis = 1).dropna()data2014.head()"
   ]
  },
  {
   "cell_type": "code",
   "execution_count": 16,
   "metadata": {},
   "outputs": [
    {
     "data": {
      "text/html": [
       "<div>\n",
       "<style scoped>\n",
       "    .dataframe tbody tr th:only-of-type {\n",
       "        vertical-align: middle;\n",
       "    }\n",
       "\n",
       "    .dataframe tbody tr th {\n",
       "        vertical-align: top;\n",
       "    }\n",
       "\n",
       "    .dataframe thead th {\n",
       "        text-align: right;\n",
       "    }\n",
       "</style>\n",
       "<table border=\"1\" class=\"dataframe\">\n",
       "  <thead>\n",
       "    <tr style=\"text-align: right;\">\n",
       "      <th></th>\n",
       "      <th>^GSPC</th>\n",
       "      <th>AAPL</th>\n",
       "      <th>TBill</th>\n",
       "    </tr>\n",
       "  </thead>\n",
       "  <tbody>\n",
       "    <tr>\n",
       "      <th>2004-02-01</th>\n",
       "      <td>1.220897</td>\n",
       "      <td>6.028374</td>\n",
       "      <td>0.077500</td>\n",
       "    </tr>\n",
       "    <tr>\n",
       "      <th>2004-03-01</th>\n",
       "      <td>-1.635892</td>\n",
       "      <td>13.043446</td>\n",
       "      <td>0.078333</td>\n",
       "    </tr>\n",
       "    <tr>\n",
       "      <th>2004-04-01</th>\n",
       "      <td>-1.679075</td>\n",
       "      <td>-4.659762</td>\n",
       "      <td>0.078333</td>\n",
       "    </tr>\n",
       "    <tr>\n",
       "      <th>2004-05-01</th>\n",
       "      <td>1.208345</td>\n",
       "      <td>8.844095</td>\n",
       "      <td>0.085000</td>\n",
       "    </tr>\n",
       "    <tr>\n",
       "      <th>2004-06-01</th>\n",
       "      <td>1.798900</td>\n",
       "      <td>15.965792</td>\n",
       "      <td>0.105833</td>\n",
       "    </tr>\n",
       "  </tbody>\n",
       "</table>\n",
       "</div>"
      ],
      "text/plain": [
       "               ^GSPC       AAPL     TBill\n",
       "2004-02-01  1.220897   6.028374  0.077500\n",
       "2004-03-01 -1.635892  13.043446  0.078333\n",
       "2004-04-01 -1.679075  -4.659762  0.078333\n",
       "2004-05-01  1.208345   8.844095  0.085000\n",
       "2004-06-01  1.798900  15.965792  0.105833"
      ]
     },
     "execution_count": 16,
     "metadata": {},
     "output_type": "execute_result"
    }
   ],
   "source": [
    "monthly_returns2.head()"
   ]
  },
  {
   "cell_type": "markdown",
   "metadata": {},
   "source": [
    "#### vi.\tFind Beta for the stock based on the sample data using CAPM model. \n",
    "\n",
    "##### <center> CAPM: Stock Return = Risk Free Return + $\\beta$(Market Return - Risk Free Return)\n",
    "#### <center> Regress Return of Stock agasint Return of Market where $\\beta$ is the slope of the regression."
   ]
  },
  {
   "cell_type": "code",
   "execution_count": 17,
   "metadata": {},
   "outputs": [],
   "source": [
    "monthly_returns2['market_excess'] = monthly_returns2['^GSPC'] - monthly_returns2['TBill'] #Market Risk Premium\n",
    "monthly_returns2['stock_excess'] = monthly_returns2['AAPL'] - monthly_returns2['TBill'] #Risk Premium of Apple"
   ]
  },
  {
   "cell_type": "code",
   "execution_count": 18,
   "metadata": {},
   "outputs": [
    {
     "data": {
      "text/html": [
       "<div>\n",
       "<style scoped>\n",
       "    .dataframe tbody tr th:only-of-type {\n",
       "        vertical-align: middle;\n",
       "    }\n",
       "\n",
       "    .dataframe tbody tr th {\n",
       "        vertical-align: top;\n",
       "    }\n",
       "\n",
       "    .dataframe thead th {\n",
       "        text-align: right;\n",
       "    }\n",
       "</style>\n",
       "<table border=\"1\" class=\"dataframe\">\n",
       "  <thead>\n",
       "    <tr style=\"text-align: right;\">\n",
       "      <th></th>\n",
       "      <th>^GSPC</th>\n",
       "      <th>AAPL</th>\n",
       "      <th>TBill</th>\n",
       "      <th>market_excess</th>\n",
       "      <th>stock_excess</th>\n",
       "    </tr>\n",
       "  </thead>\n",
       "  <tbody>\n",
       "    <tr>\n",
       "      <th>2004-02-01</th>\n",
       "      <td>1.220897</td>\n",
       "      <td>6.028374</td>\n",
       "      <td>0.077500</td>\n",
       "      <td>1.143397</td>\n",
       "      <td>5.950874</td>\n",
       "    </tr>\n",
       "    <tr>\n",
       "      <th>2004-03-01</th>\n",
       "      <td>-1.635892</td>\n",
       "      <td>13.043446</td>\n",
       "      <td>0.078333</td>\n",
       "      <td>-1.714225</td>\n",
       "      <td>12.965113</td>\n",
       "    </tr>\n",
       "    <tr>\n",
       "      <th>2004-04-01</th>\n",
       "      <td>-1.679075</td>\n",
       "      <td>-4.659762</td>\n",
       "      <td>0.078333</td>\n",
       "      <td>-1.757409</td>\n",
       "      <td>-4.738095</td>\n",
       "    </tr>\n",
       "    <tr>\n",
       "      <th>2004-05-01</th>\n",
       "      <td>1.208345</td>\n",
       "      <td>8.844095</td>\n",
       "      <td>0.085000</td>\n",
       "      <td>1.123345</td>\n",
       "      <td>8.759095</td>\n",
       "    </tr>\n",
       "    <tr>\n",
       "      <th>2004-06-01</th>\n",
       "      <td>1.798900</td>\n",
       "      <td>15.965792</td>\n",
       "      <td>0.105833</td>\n",
       "      <td>1.693067</td>\n",
       "      <td>15.859959</td>\n",
       "    </tr>\n",
       "  </tbody>\n",
       "</table>\n",
       "</div>"
      ],
      "text/plain": [
       "               ^GSPC       AAPL     TBill  market_excess  stock_excess\n",
       "2004-02-01  1.220897   6.028374  0.077500       1.143397      5.950874\n",
       "2004-03-01 -1.635892  13.043446  0.078333      -1.714225     12.965113\n",
       "2004-04-01 -1.679075  -4.659762  0.078333      -1.757409     -4.738095\n",
       "2004-05-01  1.208345   8.844095  0.085000       1.123345      8.759095\n",
       "2004-06-01  1.798900  15.965792  0.105833       1.693067     15.859959"
      ]
     },
     "execution_count": 18,
     "metadata": {},
     "output_type": "execute_result"
    }
   ],
   "source": [
    "monthly_returns2.head()"
   ]
  },
  {
   "cell_type": "code",
   "execution_count": 19,
   "metadata": {},
   "outputs": [
    {
     "data": {
      "text/html": [
       "<table class=\"simpletable\">\n",
       "<caption>OLS Regression Results</caption>\n",
       "<tr>\n",
       "  <th>Dep. Variable:</th>      <td>stock_excess</td>   <th>  R-squared:         </th> <td>   0.260</td>\n",
       "</tr>\n",
       "<tr>\n",
       "  <th>Model:</th>                   <td>OLS</td>       <th>  Adj. R-squared:    </th> <td>   0.256</td>\n",
       "</tr>\n",
       "<tr>\n",
       "  <th>Method:</th>             <td>Least Squares</td>  <th>  F-statistic:       </th> <td>   66.31</td>\n",
       "</tr>\n",
       "<tr>\n",
       "  <th>Date:</th>             <td>Wed, 14 Oct 2020</td> <th>  Prob (F-statistic):</th> <td>5.09e-14</td>\n",
       "</tr>\n",
       "<tr>\n",
       "  <th>Time:</th>                 <td>13:56:13</td>     <th>  Log-Likelihood:    </th> <td> -672.64</td>\n",
       "</tr>\n",
       "<tr>\n",
       "  <th>No. Observations:</th>      <td>   191</td>      <th>  AIC:               </th> <td>   1349.</td>\n",
       "</tr>\n",
       "<tr>\n",
       "  <th>Df Residuals:</th>          <td>   189</td>      <th>  BIC:               </th> <td>   1356.</td>\n",
       "</tr>\n",
       "<tr>\n",
       "  <th>Df Model:</th>              <td>     1</td>      <th>                     </th>     <td> </td>   \n",
       "</tr>\n",
       "<tr>\n",
       "  <th>Covariance Type:</th>      <td>nonrobust</td>    <th>                     </th>     <td> </td>   \n",
       "</tr>\n",
       "</table>\n",
       "<table class=\"simpletable\">\n",
       "<tr>\n",
       "        <td></td>           <th>coef</th>     <th>std err</th>      <th>t</th>      <th>P>|t|</th>  <th>[0.025</th>    <th>0.975]</th>  \n",
       "</tr>\n",
       "<tr>\n",
       "  <th>Intercept</th>     <td>    2.5384</td> <td>    0.601</td> <td>    4.224</td> <td> 0.000</td> <td>    1.353</td> <td>    3.724</td>\n",
       "</tr>\n",
       "<tr>\n",
       "  <th>market_excess</th> <td>    1.2441</td> <td>    0.153</td> <td>    8.143</td> <td> 0.000</td> <td>    0.943</td> <td>    1.545</td>\n",
       "</tr>\n",
       "</table>\n",
       "<table class=\"simpletable\">\n",
       "<tr>\n",
       "  <th>Omnibus:</th>       <td> 8.348</td> <th>  Durbin-Watson:     </th> <td>   1.853</td>\n",
       "</tr>\n",
       "<tr>\n",
       "  <th>Prob(Omnibus):</th> <td> 0.015</td> <th>  Jarque-Bera (JB):  </th> <td>  16.054</td>\n",
       "</tr>\n",
       "<tr>\n",
       "  <th>Skew:</th>          <td> 0.024</td> <th>  Prob(JB):          </th> <td>0.000327</td>\n",
       "</tr>\n",
       "<tr>\n",
       "  <th>Kurtosis:</th>      <td> 4.419</td> <th>  Cond. No.          </th> <td>    3.97</td>\n",
       "</tr>\n",
       "</table><br/><br/>Warnings:<br/>[1] Standard Errors assume that the covariance matrix of the errors is correctly specified."
      ],
      "text/plain": [
       "<class 'statsmodels.iolib.summary.Summary'>\n",
       "\"\"\"\n",
       "                            OLS Regression Results                            \n",
       "==============================================================================\n",
       "Dep. Variable:           stock_excess   R-squared:                       0.260\n",
       "Model:                            OLS   Adj. R-squared:                  0.256\n",
       "Method:                 Least Squares   F-statistic:                     66.31\n",
       "Date:                Wed, 14 Oct 2020   Prob (F-statistic):           5.09e-14\n",
       "Time:                        13:56:13   Log-Likelihood:                -672.64\n",
       "No. Observations:                 191   AIC:                             1349.\n",
       "Df Residuals:                     189   BIC:                             1356.\n",
       "Df Model:                           1                                         \n",
       "Covariance Type:            nonrobust                                         \n",
       "=================================================================================\n",
       "                    coef    std err          t      P>|t|      [0.025      0.975]\n",
       "---------------------------------------------------------------------------------\n",
       "Intercept         2.5384      0.601      4.224      0.000       1.353       3.724\n",
       "market_excess     1.2441      0.153      8.143      0.000       0.943       1.545\n",
       "==============================================================================\n",
       "Omnibus:                        8.348   Durbin-Watson:                   1.853\n",
       "Prob(Omnibus):                  0.015   Jarque-Bera (JB):               16.054\n",
       "Skew:                           0.024   Prob(JB):                     0.000327\n",
       "Kurtosis:                       4.419   Cond. No.                         3.97\n",
       "==============================================================================\n",
       "\n",
       "Warnings:\n",
       "[1] Standard Errors assume that the covariance matrix of the errors is correctly specified.\n",
       "\"\"\""
      ]
     },
     "execution_count": 19,
     "metadata": {},
     "output_type": "execute_result"
    }
   ],
   "source": [
    "result = smf.ols(formula = 'stock_excess ~ market_excess', data = monthly_returns2).fit()\n",
    "result.summary()"
   ]
  },
  {
   "cell_type": "code",
   "execution_count": 20,
   "metadata": {},
   "outputs": [
    {
     "data": {
      "text/plain": [
       "1.2440628358290535"
      ]
     },
     "execution_count": 20,
     "metadata": {},
     "output_type": "execute_result"
    }
   ],
   "source": [
    "beta1 = result.params['market_excess']\n",
    "beta1"
   ]
  },
  {
   "cell_type": "markdown",
   "metadata": {},
   "source": [
    "#### vii. Test the null hypothesis: $H_{0}: \\beta_{1} = 0$ ; what do you conclude? Draw your conclusion based on p-value.  "
   ]
  },
  {
   "cell_type": "markdown",
   "metadata": {},
   "source": [
    "Null Hypothesis, $H_{0}$: the mean is equal to zero. Alternative Hypothesis, $H_{A}$: the mean is not equal to zero. Since the p-value that we got is 0, we reject the Null Hypothesis, concluding that the move of Apple's return is sensitive to the move of the market return, S&P 500 in this example."
   ]
  },
  {
   "cell_type": "markdown",
   "metadata": {},
   "source": [
    "#### viii. Estimate $\\beta_{1}$  numerically (based on covariance of the stock return with market return and variance of market return) using the sample period data. Obtain beta of the stock from available stock report (refer the financial website that you choose).  Discuss why these three measures are same or different.\n",
    "\n",
    "### <center> $\\beta = \\frac{\\text{cov}(R_{i},R_{m})}{\\sigma^{2}_{m}}$\n",
    "\n"
   ]
  },
  {
   "cell_type": "code",
   "execution_count": 21,
   "metadata": {},
   "outputs": [],
   "source": [
    "# #Covariance matrix with normalized data and extracting the covariance coefficient\n",
    "# cov = np.cov(monthly_returns2['stock_excess'], monthly_returns2['market_excess'], bias = True)[0][1] \n",
    "# variance_market = monthly_returns2['market_excess'].var()\n",
    "# beta2 = cov/variance_market\n",
    "# print(\"The Beta is:\", beta2)"
   ]
  },
  {
   "cell_type": "code",
   "execution_count": 22,
   "metadata": {},
   "outputs": [
    {
     "name": "stdout",
     "output_type": "stream",
     "text": [
      "The Beta is: 1.2463250992889987\n"
     ]
    }
   ],
   "source": [
    "#Beta Using True returns\n",
    "x = monthly_returns2['^GSPC']\n",
    "y = monthly_returns2['AAPL']\n",
    "#Covariance matrix with normalized data and extracting the covariance coefficient\n",
    "cov = np.cov(x, y, bias = True)[0][1]\n",
    "variance_market = x.var()\n",
    "beta2 = cov/variance_market\n",
    "print(\"The Beta is:\", beta2)"
   ]
  },
  {
   "cell_type": "code",
   "execution_count": 23,
   "metadata": {},
   "outputs": [
    {
     "name": "stdout",
     "output_type": "stream",
     "text": [
      "The Beta from CAPM model is: 1.2440628358290535\n",
      "The Beta from calculating numerically is: 1.2463250992889987\n",
      "The Beta from Yahoo Finance is: 1.31\n"
     ]
    }
   ],
   "source": [
    "print(\"The Beta from CAPM model is:\", beta1)\n",
    "print(\"The Beta from calculating numerically is:\", beta2)\n",
    "print(\"The Beta from Yahoo Finance is: 1.31\")"
   ]
  },
  {
   "cell_type": "markdown",
   "metadata": {},
   "source": [
    "Betas from the first two measures are not significantly different from each other, since all measures are explaining the same concept, which is how sensitive the stock return is in response to the market return. However, the beta from yahoo finance shows higher value than the other measures. Besides the different time period(5Y) yahoo finance beta is based on, it is assumed that the investors have been highly speculative on the Apple's stock especially over the last 5 years, which may drive higher beta. Speculation refers to conducting financial transaction with expection of significant gain while taking substantial risks of losing value, and it often takes places when the market trend is favorable. While overall stock market has been upward trend with higher growth for the the same period, Apple, one of the most active stocks in the market may have been able to outperform the market, which may be explained by speculative investment associated with high liquidity. Overall, Apple's stock has been more volatile and sensitive relative to the market for the past 5 years, resulting in higher beta than the other measures based on longer term period data.\n",
    "\n",
    "*Beta from Yahoo Finance: 1.31  (Source: https://finance.yahoo.com/quote/AAPL?p=AAPL&.tsrc=fin-srch)*"
   ]
  },
  {
   "cell_type": "markdown",
   "metadata": {},
   "source": [
    "#### ix.\tProvide interpretation of the coefficient estimate $\\beta_{1}$    . \t"
   ]
  },
  {
   "cell_type": "markdown",
   "metadata": {},
   "source": [
    "- Apple's stock has a positive relationship with the market returns\n",
    "- The coefficient estimate here, 1.2529, means that every 1 unit of movement in the market return explains 1.2529 unit of movement in the stock return. In other words, if market returns increase(decrease) by 1%, the Apple's stock returns increase(decrease) by 1.2529%. This is indeed the definition of beta."
   ]
  },
  {
   "cell_type": "markdown",
   "metadata": {},
   "source": [
    "#### x.\tComment on model accuracy: standard error and R-square."
   ]
  },
  {
   "cell_type": "markdown",
   "metadata": {},
   "source": [
    "Regression results show relatively high standard errors for both intercept and coefficient, 2.5064 and 1.2529 respectively while having R-square 26%, implying low explanatory power. Apple's stock is a component of S&P 500, so by definition of beta, the S&P500 trend may account for some of the Apple's return, however, S&P alone may not be sufficient to explain all of the stock return. Thus, it is reasonably assumed that there may be other factors that have significant impacts on the Apple's return; including macroeconomic indicators like GDP growth or unemployment rates or company specific factors like sales performance of the existing & new lines(i.e. iPhone, Apple Watch, or Airpods).  It may be recommened to add additional independent variables and to test how they have effects on the dependent for more accurante and thorough analysis. By adding them, we may expect high explanatory power with relatively low errors from the new model."
   ]
  },
  {
   "cell_type": "markdown",
   "metadata": {},
   "source": [
    "#### xi. Provide the scatter plot and the fitted line for the linear regression model.   "
   ]
  },
  {
   "cell_type": "code",
   "execution_count": 24,
   "metadata": {},
   "outputs": [],
   "source": [
    "#Regression with True returns\n",
    "x = monthly_returns2['^GSPC']\n",
    "y = monthly_returns2['AAPL']\n",
    "result = smf.ols(formula = \"y ~ x\", data = monthly_returns).fit()"
   ]
  },
  {
   "cell_type": "code",
   "execution_count": 25,
   "metadata": {
    "scrolled": false
   },
   "outputs": [
    {
     "data": {
      "text/plain": [
       "Intercept    2.506430\n",
       "x            1.252885\n",
       "dtype: float64"
      ]
     },
     "execution_count": 25,
     "metadata": {},
     "output_type": "execute_result"
    }
   ],
   "source": [
    "result.params"
   ]
  },
  {
   "cell_type": "code",
   "execution_count": 26,
   "metadata": {
    "scrolled": true
   },
   "outputs": [],
   "source": [
    "ypred = result.params[1]*x + result.params[0]"
   ]
  },
  {
   "cell_type": "code",
   "execution_count": 27,
   "metadata": {},
   "outputs": [],
   "source": [
    "#Alternative method\n",
    "# ypred = LinearRegression().fit(x_reshaped, y_reshaped).predict(x_reshaped)\n",
    "# print(LinearRegression().fit(x_reshaped, y_reshaped).intercept_)\n",
    "# print(LinearRegression().fit(x_reshaped, y_reshaped).coef_)"
   ]
  },
  {
   "cell_type": "code",
   "execution_count": 28,
   "metadata": {
    "scrolled": true
   },
   "outputs": [
    {
     "data": {
      "image/png": "[encoded data removed]",
      "text/plain": [
       "<Figure size 432x288 with 1 Axes>"
      ]
     },
     "metadata": {
      "needs_background": "light"
     },
     "output_type": "display_data"
    }
   ],
   "source": [
    "plt.scatter(x, y,  color = 'gray')\n",
    "plt.plot(x, ypred, color = 'red', linewidth = 2)\n",
    "plt.title(\"Scatter Plot and Fitted Line\")\n",
    "plt.xlabel(\"Market\")\n",
    "plt.ylabel(\"AAPL\")\n",
    "plt.show()"
   ]
  },
  {
   "cell_type": "markdown",
   "metadata": {},
   "source": [
    "#### xii. Discuss $\\alpha$ as estimated by the fitted model.\t"
   ]
  },
  {
   "cell_type": "code",
   "execution_count": 29,
   "metadata": {},
   "outputs": [
    {
     "name": "stdout",
     "output_type": "stream",
     "text": [
      "The alpha is: 2.5064299237044514\n",
      "The beta is: 1.2528847050747298\n"
     ]
    }
   ],
   "source": [
    "(alpha, beta) = result.params[0:2]\n",
    "print(\"The alpha is:\", alpha)\n",
    "print(\"The beta is:\", beta)"
   ]
  },
  {
   "cell_type": "markdown",
   "metadata": {},
   "source": [
    "Alpha is same as an intercept in the single resgression model. The alpha is the average stock return earned regardless of extra return associated with beta."
   ]
  },
  {
   "cell_type": "markdown",
   "metadata": {},
   "source": [
    "### Part 2"
   ]
  },
  {
   "cell_type": "code",
   "execution_count": 30,
   "metadata": {},
   "outputs": [],
   "source": [
    "data = pd.read_csv('credit.csv')"
   ]
  },
  {
   "cell_type": "markdown",
   "metadata": {},
   "source": [
    "#### A. Perform the following steps."
   ]
  },
  {
   "cell_type": "markdown",
   "metadata": {},
   "source": [
    "#### i.\tObserve the dimension of the Credit data."
   ]
  },
  {
   "cell_type": "code",
   "execution_count": 31,
   "metadata": {},
   "outputs": [
    {
     "data": {
      "text/html": [
       "<div>\n",
       "<style scoped>\n",
       "    .dataframe tbody tr th:only-of-type {\n",
       "        vertical-align: middle;\n",
       "    }\n",
       "\n",
       "    .dataframe tbody tr th {\n",
       "        vertical-align: top;\n",
       "    }\n",
       "\n",
       "    .dataframe thead th {\n",
       "        text-align: right;\n",
       "    }\n",
       "</style>\n",
       "<table border=\"1\" class=\"dataframe\">\n",
       "  <thead>\n",
       "    <tr style=\"text-align: right;\">\n",
       "      <th></th>\n",
       "      <th>Unnamed: 0</th>\n",
       "      <th>Income</th>\n",
       "      <th>Limit</th>\n",
       "      <th>Rating</th>\n",
       "      <th>Cards</th>\n",
       "      <th>Age</th>\n",
       "      <th>Education</th>\n",
       "      <th>Gender</th>\n",
       "      <th>Student</th>\n",
       "      <th>Married</th>\n",
       "      <th>Ethnicity</th>\n",
       "      <th>Balance</th>\n",
       "    </tr>\n",
       "  </thead>\n",
       "  <tbody>\n",
       "    <tr>\n",
       "      <th>0</th>\n",
       "      <td>1</td>\n",
       "      <td>14.891</td>\n",
       "      <td>3606</td>\n",
       "      <td>283</td>\n",
       "      <td>2</td>\n",
       "      <td>34</td>\n",
       "      <td>11</td>\n",
       "      <td>Male</td>\n",
       "      <td>No</td>\n",
       "      <td>Yes</td>\n",
       "      <td>Caucasian</td>\n",
       "      <td>333</td>\n",
       "    </tr>\n",
       "    <tr>\n",
       "      <th>1</th>\n",
       "      <td>2</td>\n",
       "      <td>106.025</td>\n",
       "      <td>6645</td>\n",
       "      <td>483</td>\n",
       "      <td>3</td>\n",
       "      <td>82</td>\n",
       "      <td>15</td>\n",
       "      <td>Female</td>\n",
       "      <td>Yes</td>\n",
       "      <td>Yes</td>\n",
       "      <td>Asian</td>\n",
       "      <td>903</td>\n",
       "    </tr>\n",
       "    <tr>\n",
       "      <th>2</th>\n",
       "      <td>3</td>\n",
       "      <td>104.593</td>\n",
       "      <td>7075</td>\n",
       "      <td>514</td>\n",
       "      <td>4</td>\n",
       "      <td>71</td>\n",
       "      <td>11</td>\n",
       "      <td>Male</td>\n",
       "      <td>No</td>\n",
       "      <td>No</td>\n",
       "      <td>Asian</td>\n",
       "      <td>580</td>\n",
       "    </tr>\n",
       "    <tr>\n",
       "      <th>3</th>\n",
       "      <td>4</td>\n",
       "      <td>148.924</td>\n",
       "      <td>9504</td>\n",
       "      <td>681</td>\n",
       "      <td>3</td>\n",
       "      <td>36</td>\n",
       "      <td>11</td>\n",
       "      <td>Female</td>\n",
       "      <td>No</td>\n",
       "      <td>No</td>\n",
       "      <td>Asian</td>\n",
       "      <td>964</td>\n",
       "    </tr>\n",
       "    <tr>\n",
       "      <th>4</th>\n",
       "      <td>5</td>\n",
       "      <td>55.882</td>\n",
       "      <td>4897</td>\n",
       "      <td>357</td>\n",
       "      <td>2</td>\n",
       "      <td>68</td>\n",
       "      <td>16</td>\n",
       "      <td>Male</td>\n",
       "      <td>No</td>\n",
       "      <td>Yes</td>\n",
       "      <td>Caucasian</td>\n",
       "      <td>331</td>\n",
       "    </tr>\n",
       "  </tbody>\n",
       "</table>\n",
       "</div>"
      ],
      "text/plain": [
       "   Unnamed: 0   Income  Limit  Rating  Cards  Age  Education  Gender Student  \\\n",
       "0           1   14.891   3606     283      2   34         11    Male      No   \n",
       "1           2  106.025   6645     483      3   82         15  Female     Yes   \n",
       "2           3  104.593   7075     514      4   71         11    Male      No   \n",
       "3           4  148.924   9504     681      3   36         11  Female      No   \n",
       "4           5   55.882   4897     357      2   68         16    Male      No   \n",
       "\n",
       "  Married  Ethnicity  Balance  \n",
       "0     Yes  Caucasian      333  \n",
       "1     Yes      Asian      903  \n",
       "2      No      Asian      580  \n",
       "3      No      Asian      964  \n",
       "4     Yes  Caucasian      331  "
      ]
     },
     "execution_count": 31,
     "metadata": {},
     "output_type": "execute_result"
    }
   ],
   "source": [
    "data.head() #Head of the Credit Data"
   ]
  },
  {
   "cell_type": "code",
   "execution_count": 32,
   "metadata": {},
   "outputs": [
    {
     "data": {
      "text/plain": [
       "(400, 12)"
      ]
     },
     "execution_count": 32,
     "metadata": {},
     "output_type": "execute_result"
    }
   ],
   "source": [
    "data.shape #Dimension of the Credit Data"
   ]
  },
  {
   "cell_type": "code",
   "execution_count": 33,
   "metadata": {},
   "outputs": [
    {
     "data": {
      "text/html": [
       "<div>\n",
       "<style scoped>\n",
       "    .dataframe tbody tr th:only-of-type {\n",
       "        vertical-align: middle;\n",
       "    }\n",
       "\n",
       "    .dataframe tbody tr th {\n",
       "        vertical-align: top;\n",
       "    }\n",
       "\n",
       "    .dataframe thead th {\n",
       "        text-align: right;\n",
       "    }\n",
       "</style>\n",
       "<table border=\"1\" class=\"dataframe\">\n",
       "  <thead>\n",
       "    <tr style=\"text-align: right;\">\n",
       "      <th></th>\n",
       "      <th>Income</th>\n",
       "      <th>Limit</th>\n",
       "      <th>Rating</th>\n",
       "      <th>Cards</th>\n",
       "      <th>Age</th>\n",
       "      <th>Education</th>\n",
       "      <th>Gender</th>\n",
       "      <th>Student</th>\n",
       "      <th>Married</th>\n",
       "      <th>Ethnicity</th>\n",
       "      <th>Balance</th>\n",
       "    </tr>\n",
       "  </thead>\n",
       "  <tbody>\n",
       "    <tr>\n",
       "      <th>0</th>\n",
       "      <td>14.891</td>\n",
       "      <td>3606</td>\n",
       "      <td>283</td>\n",
       "      <td>2</td>\n",
       "      <td>34</td>\n",
       "      <td>11</td>\n",
       "      <td>Male</td>\n",
       "      <td>No</td>\n",
       "      <td>Yes</td>\n",
       "      <td>Caucasian</td>\n",
       "      <td>333</td>\n",
       "    </tr>\n",
       "    <tr>\n",
       "      <th>1</th>\n",
       "      <td>106.025</td>\n",
       "      <td>6645</td>\n",
       "      <td>483</td>\n",
       "      <td>3</td>\n",
       "      <td>82</td>\n",
       "      <td>15</td>\n",
       "      <td>Female</td>\n",
       "      <td>Yes</td>\n",
       "      <td>Yes</td>\n",
       "      <td>Asian</td>\n",
       "      <td>903</td>\n",
       "    </tr>\n",
       "    <tr>\n",
       "      <th>2</th>\n",
       "      <td>104.593</td>\n",
       "      <td>7075</td>\n",
       "      <td>514</td>\n",
       "      <td>4</td>\n",
       "      <td>71</td>\n",
       "      <td>11</td>\n",
       "      <td>Male</td>\n",
       "      <td>No</td>\n",
       "      <td>No</td>\n",
       "      <td>Asian</td>\n",
       "      <td>580</td>\n",
       "    </tr>\n",
       "    <tr>\n",
       "      <th>3</th>\n",
       "      <td>148.924</td>\n",
       "      <td>9504</td>\n",
       "      <td>681</td>\n",
       "      <td>3</td>\n",
       "      <td>36</td>\n",
       "      <td>11</td>\n",
       "      <td>Female</td>\n",
       "      <td>No</td>\n",
       "      <td>No</td>\n",
       "      <td>Asian</td>\n",
       "      <td>964</td>\n",
       "    </tr>\n",
       "    <tr>\n",
       "      <th>4</th>\n",
       "      <td>55.882</td>\n",
       "      <td>4897</td>\n",
       "      <td>357</td>\n",
       "      <td>2</td>\n",
       "      <td>68</td>\n",
       "      <td>16</td>\n",
       "      <td>Male</td>\n",
       "      <td>No</td>\n",
       "      <td>Yes</td>\n",
       "      <td>Caucasian</td>\n",
       "      <td>331</td>\n",
       "    </tr>\n",
       "  </tbody>\n",
       "</table>\n",
       "</div>"
      ],
      "text/plain": [
       "    Income  Limit  Rating  Cards  Age  Education  Gender Student Married  \\\n",
       "0   14.891   3606     283      2   34         11    Male      No     Yes   \n",
       "1  106.025   6645     483      3   82         15  Female     Yes     Yes   \n",
       "2  104.593   7075     514      4   71         11    Male      No      No   \n",
       "3  148.924   9504     681      3   36         11  Female      No      No   \n",
       "4   55.882   4897     357      2   68         16    Male      No     Yes   \n",
       "\n",
       "   Ethnicity  Balance  \n",
       "0  Caucasian      333  \n",
       "1      Asian      903  \n",
       "2      Asian      580  \n",
       "3      Asian      964  \n",
       "4  Caucasian      331  "
      ]
     },
     "execution_count": 33,
     "metadata": {},
     "output_type": "execute_result"
    }
   ],
   "source": [
    "credit = data.drop(columns=['Unnamed: 0']) #Dropped the first column, 'Unnamed: 0'.\n",
    "credit.head()"
   ]
  },
  {
   "cell_type": "code",
   "execution_count": 34,
   "metadata": {},
   "outputs": [
    {
     "data": {
      "text/plain": [
       "Income       False\n",
       "Limit        False\n",
       "Rating       False\n",
       "Cards        False\n",
       "Age          False\n",
       "Education    False\n",
       "Gender       False\n",
       "Student      False\n",
       "Married      False\n",
       "Ethnicity    False\n",
       "Balance      False\n",
       "dtype: bool"
      ]
     },
     "execution_count": 34,
     "metadata": {},
     "output_type": "execute_result"
    }
   ],
   "source": [
    "credit.isnull().any() #Checking if there are any null values in the data to clean"
   ]
  },
  {
   "cell_type": "code",
   "execution_count": 35,
   "metadata": {},
   "outputs": [
    {
     "name": "stdout",
     "output_type": "stream",
     "text": [
      "Credit data dimension:  (400, 11)\n",
      "Credit data size:  4400\n"
     ]
    }
   ],
   "source": [
    "print(\"Credit data dimension: \", credit.shape) #Dimension of the new data\n",
    "print(\"Credit data size: \", credit.size) #Size of the new data"
   ]
  },
  {
   "cell_type": "markdown",
   "metadata": {},
   "source": [
    "#### ii. Provide a summary stat for the variables in Credit data."
   ]
  },
  {
   "cell_type": "code",
   "execution_count": 36,
   "metadata": {
    "scrolled": false
   },
   "outputs": [
    {
     "name": "stdout",
     "output_type": "stream",
     "text": [
      "                            OLS Regression Results                            \n",
      "==============================================================================\n",
      "Dep. Variable:                Balance   R-squared:                       0.955\n",
      "Model:                            OLS   Adj. R-squared:                  0.954\n",
      "Method:                 Least Squares   F-statistic:                     750.3\n",
      "Date:                Wed, 14 Oct 2020   Prob (F-statistic):          1.11e-253\n",
      "Time:                        13:56:13   Log-Likelihood:                -2398.7\n",
      "No. Observations:                 400   AIC:                             4821.\n",
      "Df Residuals:                     388   BIC:                             4869.\n",
      "Df Model:                          11                                         \n",
      "Covariance Type:            nonrobust                                         \n",
      "==========================================================================================\n",
      "                             coef    std err          t      P>|t|      [0.025      0.975]\n",
      "------------------------------------------------------------------------------------------\n",
      "Intercept               -479.2079     35.774    -13.395      0.000    -549.543    -408.873\n",
      "Gender[T.Female]         -10.6532      9.914     -1.075      0.283     -30.145       8.839\n",
      "Student[T.Yes]           425.7474     16.723     25.459      0.000     392.869     458.626\n",
      "Married[T.Yes]            -8.5339     10.363     -0.824      0.411     -28.908      11.841\n",
      "Ethnicity[T.Asian]        16.8042     14.119      1.190      0.235     -10.955      44.564\n",
      "Ethnicity[T.Caucasian]    10.1070     12.210      0.828      0.408     -13.899      34.113\n",
      "Income                    -7.8031      0.234    -33.314      0.000      -8.264      -7.343\n",
      "Limit                      0.1909      0.033      5.824      0.000       0.126       0.255\n",
      "Rating                     1.1365      0.491      2.315      0.021       0.171       2.102\n",
      "Cards                     17.7245      4.341      4.083      0.000       9.190      26.259\n",
      "Age                       -0.6139      0.294     -2.088      0.037      -1.192      -0.036\n",
      "Education                 -1.0989      1.598     -0.688      0.492      -4.241       2.043\n",
      "==============================================================================\n",
      "Omnibus:                       34.899   Durbin-Watson:                   1.968\n",
      "Prob(Omnibus):                  0.000   Jarque-Bera (JB):               41.766\n",
      "Skew:                           0.782   Prob(JB):                     8.52e-10\n",
      "Kurtosis:                       3.241   Cond. No.                     3.87e+04\n",
      "==============================================================================\n",
      "\n",
      "Warnings:\n",
      "[1] Standard Errors assume that the covariance matrix of the errors is correctly specified.\n",
      "[2] The condition number is large, 3.87e+04. This might indicate that there are\n",
      "strong multicollinearity or other numerical problems.\n"
     ]
    }
   ],
   "source": [
    "result = smf.ols(formula = 'Balance ~ Income + Limit + Rating + Cards + Age + Education + Gender + Student + Married + Ethnicity', data = credit).fit()    \n",
    "print(result.summary()) "
   ]
  },
  {
   "cell_type": "markdown",
   "metadata": {},
   "source": [
    "Since the P-values of Gender, Marital Status, Ethnicity, and Education are greater than 0.1 we can conclude that these variables are not significantly different from zero. We conclude that these factors do not have a significant effect on credit card balance. Since the P-Values of Student, Income, Limit, Cards, and Age are less than 0.05, we can conclude that these variables are statistically significant from zero and have an effect on credit card balance."
   ]
  },
  {
   "cell_type": "markdown",
   "metadata": {},
   "source": [
    "#### iii. What is the percentage of Student in the Credit data? What is the percentage of Female in the Credit data? What is the percentage of Student who are Female in the Credit data?"
   ]
  },
  {
   "cell_type": "code",
   "execution_count": 37,
   "metadata": {
    "scrolled": true
   },
   "outputs": [
    {
     "name": "stdout",
     "output_type": "stream",
     "text": [
      "10.00% is the percentage of Students in the Credit Data.\n",
      "51.75% is the percentage of Females in the Credit Data.\n",
      "60.00% is the percentage of Students who are Female.\n",
      "6.00% is the percentage of Female Students in the entire Credit Data.\n"
     ]
    }
   ],
   "source": [
    "scount = (credit['Student'] == 'Yes').sum() / len(credit['Student'])*100             \n",
    "fcount = (credit['Gender'] == 'Female').sum()          \n",
    "sfcount = 0\n",
    "for i in range(len(credit[['Student', 'Gender']])):\n",
    "    if (credit[['Student','Gender']].iloc[i,0] == 'Yes') and (credit[['Student','Gender']].iloc[i,1] == 'Female'):\n",
    "        sfcount += 1\n",
    "        \n",
    "print(str('{0:.2f}'.format(scount)) + '% is the percentage of Students in the Credit Data.')\n",
    "print(str(round((fcount / len(credit['Gender']))*100, 2)) + '% is the percentage of Females in the Credit Data.')\n",
    "print(str('{0:.2f}'.format(sfcount / (credit['Student'] == 'Yes').sum()*100)) + '% is the percentage of Students who are Female.')\n",
    "print(str('{0:.2f}'.format(sfcount / len(credit['Gender'])*100)) + '% is the percentage of Female Students in the entire Credit Data.')"
   ]
  },
  {
   "cell_type": "code",
   "execution_count": 38,
   "metadata": {},
   "outputs": [],
   "source": [
    "#Alternative Solution\n",
    "# scount = 0\n",
    "# for i in credit['Student']:\n",
    "#     if i == 'Yes':\n",
    "#         scount += 1\n",
    "# fcount = 0\n",
    "# for i in credit['Gender']:\n",
    "#     if i == 'Female':\n",
    "#         fcount += 1   "
   ]
  },
  {
   "cell_type": "markdown",
   "metadata": {},
   "source": [
    "#### B.\tConstruct a linear regression model to test the following:"
   ]
  },
  {
   "cell_type": "markdown",
   "metadata": {},
   "source": [
    "#### i. Test how Credit Rating and Student effect Credit Card Balance. In the same model, also test whether the effect of Credit Rating on Credit Card Balance is different for students vs. non-students."
   ]
  },
  {
   "cell_type": "code",
   "execution_count": 39,
   "metadata": {},
   "outputs": [
    {
     "data": {
      "text/html": [
       "<div>\n",
       "<style scoped>\n",
       "    .dataframe tbody tr th:only-of-type {\n",
       "        vertical-align: middle;\n",
       "    }\n",
       "\n",
       "    .dataframe tbody tr th {\n",
       "        vertical-align: top;\n",
       "    }\n",
       "\n",
       "    .dataframe thead th {\n",
       "        text-align: right;\n",
       "    }\n",
       "</style>\n",
       "<table border=\"1\" class=\"dataframe\">\n",
       "  <thead>\n",
       "    <tr style=\"text-align: right;\">\n",
       "      <th></th>\n",
       "      <th>Income</th>\n",
       "      <th>Limit</th>\n",
       "      <th>Rating</th>\n",
       "      <th>Cards</th>\n",
       "      <th>Age</th>\n",
       "      <th>Education</th>\n",
       "      <th>Gender</th>\n",
       "      <th>Student</th>\n",
       "      <th>Married</th>\n",
       "      <th>Ethnicity</th>\n",
       "      <th>Balance</th>\n",
       "      <th>Non_Student_Dummy</th>\n",
       "      <th>Student_Dummy</th>\n",
       "      <th>Male</th>\n",
       "      <th>Female</th>\n",
       "    </tr>\n",
       "  </thead>\n",
       "  <tbody>\n",
       "    <tr>\n",
       "      <th>0</th>\n",
       "      <td>14.891</td>\n",
       "      <td>3606</td>\n",
       "      <td>283</td>\n",
       "      <td>2</td>\n",
       "      <td>34</td>\n",
       "      <td>11</td>\n",
       "      <td>Male</td>\n",
       "      <td>No</td>\n",
       "      <td>Yes</td>\n",
       "      <td>Caucasian</td>\n",
       "      <td>333</td>\n",
       "      <td>1</td>\n",
       "      <td>0</td>\n",
       "      <td>1</td>\n",
       "      <td>0</td>\n",
       "    </tr>\n",
       "    <tr>\n",
       "      <th>1</th>\n",
       "      <td>106.025</td>\n",
       "      <td>6645</td>\n",
       "      <td>483</td>\n",
       "      <td>3</td>\n",
       "      <td>82</td>\n",
       "      <td>15</td>\n",
       "      <td>Female</td>\n",
       "      <td>Yes</td>\n",
       "      <td>Yes</td>\n",
       "      <td>Asian</td>\n",
       "      <td>903</td>\n",
       "      <td>0</td>\n",
       "      <td>1</td>\n",
       "      <td>0</td>\n",
       "      <td>1</td>\n",
       "    </tr>\n",
       "    <tr>\n",
       "      <th>2</th>\n",
       "      <td>104.593</td>\n",
       "      <td>7075</td>\n",
       "      <td>514</td>\n",
       "      <td>4</td>\n",
       "      <td>71</td>\n",
       "      <td>11</td>\n",
       "      <td>Male</td>\n",
       "      <td>No</td>\n",
       "      <td>No</td>\n",
       "      <td>Asian</td>\n",
       "      <td>580</td>\n",
       "      <td>1</td>\n",
       "      <td>0</td>\n",
       "      <td>1</td>\n",
       "      <td>0</td>\n",
       "    </tr>\n",
       "    <tr>\n",
       "      <th>3</th>\n",
       "      <td>148.924</td>\n",
       "      <td>9504</td>\n",
       "      <td>681</td>\n",
       "      <td>3</td>\n",
       "      <td>36</td>\n",
       "      <td>11</td>\n",
       "      <td>Female</td>\n",
       "      <td>No</td>\n",
       "      <td>No</td>\n",
       "      <td>Asian</td>\n",
       "      <td>964</td>\n",
       "      <td>1</td>\n",
       "      <td>0</td>\n",
       "      <td>0</td>\n",
       "      <td>1</td>\n",
       "    </tr>\n",
       "    <tr>\n",
       "      <th>4</th>\n",
       "      <td>55.882</td>\n",
       "      <td>4897</td>\n",
       "      <td>357</td>\n",
       "      <td>2</td>\n",
       "      <td>68</td>\n",
       "      <td>16</td>\n",
       "      <td>Male</td>\n",
       "      <td>No</td>\n",
       "      <td>Yes</td>\n",
       "      <td>Caucasian</td>\n",
       "      <td>331</td>\n",
       "      <td>1</td>\n",
       "      <td>0</td>\n",
       "      <td>1</td>\n",
       "      <td>0</td>\n",
       "    </tr>\n",
       "  </tbody>\n",
       "</table>\n",
       "</div>"
      ],
      "text/plain": [
       "    Income  Limit  Rating  Cards  Age  Education  Gender Student Married  \\\n",
       "0   14.891   3606     283      2   34         11    Male      No     Yes   \n",
       "1  106.025   6645     483      3   82         15  Female     Yes     Yes   \n",
       "2  104.593   7075     514      4   71         11    Male      No      No   \n",
       "3  148.924   9504     681      3   36         11  Female      No      No   \n",
       "4   55.882   4897     357      2   68         16    Male      No     Yes   \n",
       "\n",
       "   Ethnicity  Balance  Non_Student_Dummy  Student_Dummy   Male  Female  \n",
       "0  Caucasian      333                  1              0      1       0  \n",
       "1      Asian      903                  0              1      0       1  \n",
       "2      Asian      580                  1              0      1       0  \n",
       "3      Asian      964                  1              0      0       1  \n",
       "4  Caucasian      331                  1              0      1       0  "
      ]
     },
     "execution_count": 39,
     "metadata": {},
     "output_type": "execute_result"
    }
   ],
   "source": [
    "student_dummy = pd.get_dummies(credit['Student'])\n",
    "student_dummy.columns = ['Non_Student_Dummy', 'Student_Dummy']\n",
    "gender_dummy = pd.get_dummies(credit['Gender'])\n",
    "dummied = pd.concat([credit,student_dummy, gender_dummy], axis=1)\n",
    "dummied.head()    "
   ]
  },
  {
   "cell_type": "code",
   "execution_count": 40,
   "metadata": {},
   "outputs": [
    {
     "name": "stdout",
     "output_type": "stream",
     "text": [
      "                            OLS Regression Results                            \n",
      "==============================================================================\n",
      "Dep. Variable:                Balance   R-squared:                       0.814\n",
      "Model:                            OLS   Adj. R-squared:                  0.813\n",
      "Method:                 Least Squares   F-statistic:                     579.3\n",
      "Date:                Wed, 14 Oct 2020   Prob (F-statistic):          2.13e-144\n",
      "Time:                        13:56:13   Log-Likelihood:                -2682.5\n",
      "No. Observations:                 400   AIC:                             5373.\n",
      "Df Residuals:                     396   BIC:                             5389.\n",
      "Df Model:                           3                                         \n",
      "Covariance Type:            nonrobust                                         \n",
      "========================================================================================\n",
      "                           coef    std err          t      P>|t|      [0.025      0.975]\n",
      "----------------------------------------------------------------------------------------\n",
      "Intercept             -423.3712     26.146    -16.193      0.000    -474.773    -371.969\n",
      "Rating                   2.5454      0.067     37.728      0.000       2.413       2.678\n",
      "Student_Dummy          311.9994     85.868      3.633      0.000     143.186     480.813\n",
      "Rating:Student_Dummy     0.2461      0.224      1.100      0.272      -0.194       0.686\n",
      "==============================================================================\n",
      "Omnibus:                       13.303   Durbin-Watson:                   1.975\n",
      "Prob(Omnibus):                  0.001   Jarque-Bera (JB):               14.026\n",
      "Skew:                          -0.400   Prob(JB):                     0.000900\n",
      "Kurtosis:                       3.451   Cond. No.                     3.38e+03\n",
      "==============================================================================\n",
      "\n",
      "Warnings:\n",
      "[1] Standard Errors assume that the covariance matrix of the errors is correctly specified.\n",
      "[2] The condition number is large, 3.38e+03. This might indicate that there are\n",
      "strong multicollinearity or other numerical problems.\n"
     ]
    }
   ],
   "source": [
    "CCB = smf.ols(formula = 'Balance ~ Rating + Student_Dummy + Rating * Student_Dummy', data = dummied).fit()    \n",
    "print(CCB.summary()) "
   ]
  },
  {
   "cell_type": "markdown",
   "metadata": {},
   "source": [
    "#### ii. Provide a summary of the model. "
   ]
  },
  {
   "cell_type": "markdown",
   "metadata": {},
   "source": [
    "- Since the p-value of both Rating and Student are close to zero and t statistics are higher than the threshold, it is reasonably assumed that both variables are significantly different from zero. Hence, it is concluded that Rating and Student have significant effect on the credit balance.\n",
    " \n",
    "- Average credit card balance is -111.3718 for students and -423.3712 for non-students. Average students are likely to have around 311.9994 higher credit balance than non-students and the difference is statistically significant(p-value=0.000).\n",
    "\n",
    "- Effect of rating is as follows; 2.7915 for students and 2.5454 for non students. The difference is not statistically significant given high p-value (0.272). Thus, Credit Rating on Credit Card Balance is not different between students and non-students."
   ]
  },
  {
   "cell_type": "markdown",
   "metadata": {},
   "source": [
    "### Part 3"
   ]
  },
  {
   "cell_type": "markdown",
   "metadata": {},
   "source": [
    "#### i.\tTest whether Age influence Credit Card Balance on the basis of simple linear regression.(Provide a summary of the model). \n"
   ]
  },
  {
   "cell_type": "code",
   "execution_count": 41,
   "metadata": {
    "scrolled": false
   },
   "outputs": [
    {
     "name": "stdout",
     "output_type": "stream",
     "text": [
      "                            OLS Regression Results                            \n",
      "==============================================================================\n",
      "Dep. Variable:                Balance   R-squared:                       0.000\n",
      "Model:                            OLS   Adj. R-squared:                 -0.003\n",
      "Method:                 Least Squares   F-statistic:                  0.001340\n",
      "Date:                Wed, 14 Oct 2020   Prob (F-statistic):              0.971\n",
      "Time:                        13:56:13   Log-Likelihood:                -3019.4\n",
      "No. Observations:                 400   AIC:                             6043.\n",
      "Df Residuals:                     398   BIC:                             6051.\n",
      "Df Model:                           1                                         \n",
      "Covariance Type:            nonrobust                                         \n",
      "==============================================================================\n",
      "                 coef    std err          t      P>|t|      [0.025      0.975]\n",
      "------------------------------------------------------------------------------\n",
      "Intercept    517.2922     77.852      6.645      0.000     364.241     670.344\n",
      "Age            0.0489      1.336      0.037      0.971      -2.578       2.675\n",
      "==============================================================================\n",
      "Omnibus:                       28.715   Durbin-Watson:                   1.945\n",
      "Prob(Omnibus):                  0.000   Jarque-Bera (JB):               27.393\n",
      "Skew:                           0.582   Prob(JB):                     1.13e-06\n",
      "Kurtosis:                       2.463   Cond. No.                         197.\n",
      "==============================================================================\n",
      "\n",
      "Warnings:\n",
      "[1] Standard Errors assume that the covariance matrix of the errors is correctly specified.\n"
     ]
    }
   ],
   "source": [
    "result = smf.ols(formula = 'Balance ~ Age', data = credit).fit()    \n",
    "print(result.summary()) "
   ]
  },
  {
   "cell_type": "markdown",
   "metadata": {},
   "source": [
    "The simple linear regression of Credit Card Balance on Age returns a $\\beta_{1}$ coefficient of 0.0489, meaning for every increase of 1 year, credit card balance will increase by 0.0489. However, the p-value of Age is 0.971, which is very high, meaning that we fail to reject the null hypothesis. We conclude that Age does not have a significant impact on Credit Card Balance in this simple linear regression."
   ]
  },
  {
   "cell_type": "markdown",
   "metadata": {},
   "source": [
    "#### ii.\tUse Age and Credit Rating as predictors of Credit Card Balance (response variable) in a multiple linear regression setting. (Provide a summary of the model).   "
   ]
  },
  {
   "cell_type": "code",
   "execution_count": 42,
   "metadata": {
    "scrolled": false
   },
   "outputs": [
    {
     "name": "stdout",
     "output_type": "stream",
     "text": [
      "                            OLS Regression Results                            \n",
      "==============================================================================\n",
      "Dep. Variable:                Balance   R-squared:                       0.754\n",
      "Model:                            OLS   Adj. R-squared:                  0.752\n",
      "Method:                 Least Squares   F-statistic:                     606.9\n",
      "Date:                Wed, 14 Oct 2020   Prob (F-statistic):          1.82e-121\n",
      "Time:                        13:56:13   Log-Likelihood:                -2739.2\n",
      "No. Observations:                 400   AIC:                             5484.\n",
      "Df Residuals:                     397   BIC:                             5496.\n",
      "Df Model:                           2                                         \n",
      "Covariance Type:            nonrobust                                         \n",
      "==============================================================================\n",
      "                 coef    std err          t      P>|t|      [0.025      0.975]\n",
      "------------------------------------------------------------------------------\n",
      "Intercept   -269.5811     44.806     -6.017      0.000    -357.668    -181.494\n",
      "Age           -2.3508      0.668     -3.521      0.000      -3.663      -1.038\n",
      "Rating         2.5933      0.074     34.840      0.000       2.447       2.740\n",
      "==============================================================================\n",
      "Omnibus:                       20.938   Durbin-Watson:                   1.963\n",
      "Prob(Omnibus):                  0.000   Jarque-Bera (JB):               34.510\n",
      "Skew:                           0.358   Prob(JB):                     3.21e-08\n",
      "Kurtosis:                       4.249   Cond. No.                     1.53e+03\n",
      "==============================================================================\n",
      "\n",
      "Warnings:\n",
      "[1] Standard Errors assume that the covariance matrix of the errors is correctly specified.\n",
      "[2] The condition number is large, 1.53e+03. This might indicate that there are\n",
      "strong multicollinearity or other numerical problems.\n"
     ]
    }
   ],
   "source": [
    "result = smf.ols(formula = 'Balance ~ Age + Rating', data = credit).fit()    \n",
    "print(result.summary()) "
   ]
  },
  {
   "cell_type": "markdown",
   "metadata": {},
   "source": [
    "In this multiple linear regression the coefficents for Age and Rating are -2.3508 and 2.5933, respectively. This implies that for every 1 year increase in age, all else equal, credit card balance will decrease by 2.3508. And for every 1 unit increase in credit rating, all else equal, credit card balance will increase by 2.5933. Note that because the p-values of both Age and Rating are close to zero, we reject the null hypothesis and conclude that in this multiple linear regression, both Age and Rating have a significant impact on credit card balance."
   ]
  },
  {
   "cell_type": "markdown",
   "metadata": {},
   "source": [
    "#### iii.\tCompare effect of Age from part (i) and (ii): Write the explanation for part (iii) in Python code."
   ]
  },
  {
   "cell_type": "markdown",
   "metadata": {},
   "source": [
    "- From part (i): The simple linear regression of Credit Card Balance on Age returns a $\\beta_{1}$ coefficient of 0.0489, meaning for every increase of 1 year of age, credit card balance will increase by \\\\$0.0489. However, the p-value of Age is 0.971, which is very high, meaning that we fail to reject the null hypothesis. We conclude that Age does not have a significant impact on Credit Card Balance in this simple linear regression.\n",
    "\n",
    "- From part (ii): The multiple linear regression the coefficents for Age and Rating are -2.3508 and 2.5933, respectively. This implies that for every 1 year increase in age, all else equal, credit card balance will decrease by \\\\$2.3508. And for every 1 unit increase in credit rating, all else equal, credit card balance will increase by \\\\$2.5933. Note that because the p-values of both Age and Rating are close to zero, we reject the null hypothesis and conclude that in this multiple linear regression, both Age and Rating have a significant impact on credit card balance.\n",
    "\n",
    "- From both part (i) and (ii), age has different impact on the credit card balance, one if positive and one is negative. While the effect of Age was not statistically significant in simple linear regression (p-value = 0.971, which is very high), it was significant in multiple linear regression (p-value = 0). This means that when considering the impact of Age alone on Credit Card Balance, Age is not significant, but in the multiple linear regression, when you can consider Age while holding Credit Rating the same, Age does have a significant effact on Credit Card Balance. The multiple linear regression model with Age and Rating is a better fit than the simple linear regression. "
   ]
  },
  {
   "cell_type": "markdown",
   "metadata": {},
   "source": [
    "#### iv.\tObserve the distribution of Age. Construct 3 dummy variables based on Age distribution: \n",
    "#### <center> 1. Age 40 and below (Age $\\leq $40)\n",
    "#### <center> 2. Age Between 41 to 56 (41 $\\leq$ Age $\\leq$ 56)\n",
    "#### <center>  3. Age group over 56 (Age > 56)\n",
    "\n",
    "#### Construct model to observe whether credit card balance is significantly different for different age group. Consider the age group over 56 as the baseline. \n"
   ]
  },
  {
   "cell_type": "code",
   "execution_count": 43,
   "metadata": {},
   "outputs": [],
   "source": [
    "age_40_and_below = []\n",
    "age_bet_41_to_56 = []\n",
    "age_over_56 = []\n",
    "\n",
    "for element in credit['Age']:\n",
    "    if element <= 40:\n",
    "        age_40_and_below.append(1)\n",
    "        age_bet_41_to_56.append(0)\n",
    "        age_over_56.append(0)\n",
    "    elif (element >= 41 and element <= 56):\n",
    "        age_40_and_below.append(0)\n",
    "        age_bet_41_to_56.append(1)\n",
    "        age_over_56.append(0)\n",
    "    elif element > 56:\n",
    "        age_40_and_below.append(0)\n",
    "        age_bet_41_to_56.append(0)\n",
    "        age_over_56.append(1)"
   ]
  },
  {
   "cell_type": "code",
   "execution_count": 44,
   "metadata": {
    "scrolled": true
   },
   "outputs": [
    {
     "data": {
      "text/html": [
       "<div>\n",
       "<style scoped>\n",
       "    .dataframe tbody tr th:only-of-type {\n",
       "        vertical-align: middle;\n",
       "    }\n",
       "\n",
       "    .dataframe tbody tr th {\n",
       "        vertical-align: top;\n",
       "    }\n",
       "\n",
       "    .dataframe thead th {\n",
       "        text-align: right;\n",
       "    }\n",
       "</style>\n",
       "<table border=\"1\" class=\"dataframe\">\n",
       "  <thead>\n",
       "    <tr style=\"text-align: right;\">\n",
       "      <th></th>\n",
       "      <th>age_40_and_below</th>\n",
       "      <th>age_bet_41_and_56</th>\n",
       "      <th>age_over_56</th>\n",
       "    </tr>\n",
       "  </thead>\n",
       "  <tbody>\n",
       "    <tr>\n",
       "      <th>0</th>\n",
       "      <td>1</td>\n",
       "      <td>0</td>\n",
       "      <td>0</td>\n",
       "    </tr>\n",
       "    <tr>\n",
       "      <th>1</th>\n",
       "      <td>0</td>\n",
       "      <td>0</td>\n",
       "      <td>1</td>\n",
       "    </tr>\n",
       "    <tr>\n",
       "      <th>2</th>\n",
       "      <td>0</td>\n",
       "      <td>0</td>\n",
       "      <td>1</td>\n",
       "    </tr>\n",
       "    <tr>\n",
       "      <th>3</th>\n",
       "      <td>1</td>\n",
       "      <td>0</td>\n",
       "      <td>0</td>\n",
       "    </tr>\n",
       "    <tr>\n",
       "      <th>4</th>\n",
       "      <td>0</td>\n",
       "      <td>0</td>\n",
       "      <td>1</td>\n",
       "    </tr>\n",
       "  </tbody>\n",
       "</table>\n",
       "</div>"
      ],
      "text/plain": [
       "   age_40_and_below  age_bet_41_and_56  age_over_56\n",
       "0                 1                  0            0\n",
       "1                 0                  0            1\n",
       "2                 0                  0            1\n",
       "3                 1                  0            0\n",
       "4                 0                  0            1"
      ]
     },
     "execution_count": 44,
     "metadata": {},
     "output_type": "execute_result"
    }
   ],
   "source": [
    "age_dummies = pd.DataFrame(list(zip(age_40_and_below, \n",
    "                                    age_bet_41_to_56, \n",
    "                                    age_over_56)), \n",
    "                           columns = ['age_40_and_below', \n",
    "                                      'age_bet_41_and_56', \n",
    "                                      'age_over_56'])\n",
    "age_dummies.head()"
   ]
  },
  {
   "cell_type": "code",
   "execution_count": 45,
   "metadata": {
    "scrolled": true
   },
   "outputs": [
    {
     "data": {
      "text/html": [
       "<div>\n",
       "<style scoped>\n",
       "    .dataframe tbody tr th:only-of-type {\n",
       "        vertical-align: middle;\n",
       "    }\n",
       "\n",
       "    .dataframe tbody tr th {\n",
       "        vertical-align: top;\n",
       "    }\n",
       "\n",
       "    .dataframe thead th {\n",
       "        text-align: right;\n",
       "    }\n",
       "</style>\n",
       "<table border=\"1\" class=\"dataframe\">\n",
       "  <thead>\n",
       "    <tr style=\"text-align: right;\">\n",
       "      <th></th>\n",
       "      <th>Income</th>\n",
       "      <th>Limit</th>\n",
       "      <th>Rating</th>\n",
       "      <th>Cards</th>\n",
       "      <th>Age</th>\n",
       "      <th>Education</th>\n",
       "      <th>Gender</th>\n",
       "      <th>Student</th>\n",
       "      <th>Married</th>\n",
       "      <th>Ethnicity</th>\n",
       "      <th>Balance</th>\n",
       "      <th>age_40_and_below</th>\n",
       "      <th>age_bet_41_and_56</th>\n",
       "      <th>age_over_56</th>\n",
       "    </tr>\n",
       "  </thead>\n",
       "  <tbody>\n",
       "    <tr>\n",
       "      <th>0</th>\n",
       "      <td>14.891</td>\n",
       "      <td>3606</td>\n",
       "      <td>283</td>\n",
       "      <td>2</td>\n",
       "      <td>34</td>\n",
       "      <td>11</td>\n",
       "      <td>Male</td>\n",
       "      <td>No</td>\n",
       "      <td>Yes</td>\n",
       "      <td>Caucasian</td>\n",
       "      <td>333</td>\n",
       "      <td>1</td>\n",
       "      <td>0</td>\n",
       "      <td>0</td>\n",
       "    </tr>\n",
       "    <tr>\n",
       "      <th>1</th>\n",
       "      <td>106.025</td>\n",
       "      <td>6645</td>\n",
       "      <td>483</td>\n",
       "      <td>3</td>\n",
       "      <td>82</td>\n",
       "      <td>15</td>\n",
       "      <td>Female</td>\n",
       "      <td>Yes</td>\n",
       "      <td>Yes</td>\n",
       "      <td>Asian</td>\n",
       "      <td>903</td>\n",
       "      <td>0</td>\n",
       "      <td>0</td>\n",
       "      <td>1</td>\n",
       "    </tr>\n",
       "    <tr>\n",
       "      <th>2</th>\n",
       "      <td>104.593</td>\n",
       "      <td>7075</td>\n",
       "      <td>514</td>\n",
       "      <td>4</td>\n",
       "      <td>71</td>\n",
       "      <td>11</td>\n",
       "      <td>Male</td>\n",
       "      <td>No</td>\n",
       "      <td>No</td>\n",
       "      <td>Asian</td>\n",
       "      <td>580</td>\n",
       "      <td>0</td>\n",
       "      <td>0</td>\n",
       "      <td>1</td>\n",
       "    </tr>\n",
       "    <tr>\n",
       "      <th>3</th>\n",
       "      <td>148.924</td>\n",
       "      <td>9504</td>\n",
       "      <td>681</td>\n",
       "      <td>3</td>\n",
       "      <td>36</td>\n",
       "      <td>11</td>\n",
       "      <td>Female</td>\n",
       "      <td>No</td>\n",
       "      <td>No</td>\n",
       "      <td>Asian</td>\n",
       "      <td>964</td>\n",
       "      <td>1</td>\n",
       "      <td>0</td>\n",
       "      <td>0</td>\n",
       "    </tr>\n",
       "    <tr>\n",
       "      <th>4</th>\n",
       "      <td>55.882</td>\n",
       "      <td>4897</td>\n",
       "      <td>357</td>\n",
       "      <td>2</td>\n",
       "      <td>68</td>\n",
       "      <td>16</td>\n",
       "      <td>Male</td>\n",
       "      <td>No</td>\n",
       "      <td>Yes</td>\n",
       "      <td>Caucasian</td>\n",
       "      <td>331</td>\n",
       "      <td>0</td>\n",
       "      <td>0</td>\n",
       "      <td>1</td>\n",
       "    </tr>\n",
       "  </tbody>\n",
       "</table>\n",
       "</div>"
      ],
      "text/plain": [
       "    Income  Limit  Rating  Cards  Age  Education  Gender Student Married  \\\n",
       "0   14.891   3606     283      2   34         11    Male      No     Yes   \n",
       "1  106.025   6645     483      3   82         15  Female     Yes     Yes   \n",
       "2  104.593   7075     514      4   71         11    Male      No      No   \n",
       "3  148.924   9504     681      3   36         11  Female      No      No   \n",
       "4   55.882   4897     357      2   68         16    Male      No     Yes   \n",
       "\n",
       "   Ethnicity  Balance  age_40_and_below  age_bet_41_and_56  age_over_56  \n",
       "0  Caucasian      333                 1                  0            0  \n",
       "1      Asian      903                 0                  0            1  \n",
       "2      Asian      580                 0                  0            1  \n",
       "3      Asian      964                 1                  0            0  \n",
       "4  Caucasian      331                 0                  0            1  "
      ]
     },
     "execution_count": 45,
     "metadata": {},
     "output_type": "execute_result"
    }
   ],
   "source": [
    "Credit_with_AD = pd.concat([credit, age_dummies], axis= 1)\n",
    "Credit_with_AD.head()"
   ]
  },
  {
   "cell_type": "code",
   "execution_count": 46,
   "metadata": {
    "scrolled": false
   },
   "outputs": [
    {
     "name": "stdout",
     "output_type": "stream",
     "text": [
      "                            OLS Regression Results                            \n",
      "==============================================================================\n",
      "Dep. Variable:                Balance   R-squared:                       0.018\n",
      "Model:                            OLS   Adj. R-squared:                  0.013\n",
      "Method:                 Least Squares   F-statistic:                     3.557\n",
      "Date:                Wed, 14 Oct 2020   Prob (F-statistic):             0.0294\n",
      "Time:                        13:56:14   Log-Likelihood:                -3015.8\n",
      "No. Observations:                 400   AIC:                             6038.\n",
      "Df Residuals:                     397   BIC:                             6050.\n",
      "Df Model:                           2                                         \n",
      "Covariance Type:            nonrobust                                         \n",
      "====================================================================================\n",
      "                       coef    std err          t      P>|t|      [0.025      0.975]\n",
      "------------------------------------------------------------------------------------\n",
      "Intercept          483.0825     32.799     14.728      0.000     418.601     547.564\n",
      "age_40_and_below    -5.4671     58.045     -0.094      0.925    -119.581     108.647\n",
      "age_bet_41_to_56   132.7871     53.764      2.470      0.014      27.089     238.485\n",
      "==============================================================================\n",
      "Omnibus:                       29.076   Durbin-Watson:                   1.950\n",
      "Prob(Omnibus):                  0.000   Jarque-Bera (JB):               26.474\n",
      "Skew:                           0.562   Prob(JB):                     1.78e-06\n",
      "Kurtosis:                       2.431   Cond. No.                         3.27\n",
      "==============================================================================\n",
      "\n",
      "Warnings:\n",
      "[1] Standard Errors assume that the covariance matrix of the errors is correctly specified.\n"
     ]
    }
   ],
   "source": [
    "result = smf.ols(formula = 'Balance ~ age_40_and_below + age_bet_41_to_56', data = Credit_with_AD).fit()    \n",
    "print(result.summary()) "
   ]
  },
  {
   "cell_type": "markdown",
   "metadata": {},
   "source": [
    "- For our regression, we excluded the Age group over 56 as it is going to be our base line. \n",
    "- With $\\beta_{0}$ = 483.0825, representing the average credit card balance for our base line, the age group over 56, being significant.\n",
    "- With $\\beta_{1}$ having a really high p-value of 0.925 which implies that there is no significant difference in credit card balance between the Age group over 56 and the Age group below 40.\n",
    "- With $\\beta_{2}$ = 132.7871 has a p-value of 0.014 which is less than 0.05, implies that the Age group between 41 to 56 has significantly $132.79 higher credit card balance on average as compared to the Age group over 56."
   ]
  }
 ],
 "metadata": {
  "kernelspec": {
   "display_name": "Python 3",
   "language": "python",
   "name": "python3"
  },
  "language_info": {
   "codemirror_mode": {
    "name": "ipython",
    "version": 3
   },
   "file_extension": ".py",
   "mimetype": "text/x-python",
   "name": "python",
   "nbconvert_exporter": "python",
   "pygments_lexer": "ipython3",
   "version": "3.7.3"
  }
 },
 "nbformat": 4,
 "nbformat_minor": 2
}
