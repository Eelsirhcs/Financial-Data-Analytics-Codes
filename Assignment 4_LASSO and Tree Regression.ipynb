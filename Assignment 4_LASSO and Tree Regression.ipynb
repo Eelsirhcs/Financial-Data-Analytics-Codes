{
 "cells": [
  {
   "cell_type": "markdown",
   "metadata": {},
   "source": [
    "# Assignment 4: Lasso, Tree Regression, and Cross Validation \n",
    "# FI 8090\n",
    "## Group 2: Caroline MacMillan, Chris Lee, and Jonghwa Baek"
   ]
  },
  {
   "cell_type": "code",
   "execution_count": 1,
   "metadata": {},
   "outputs": [
    {
     "name": "stderr",
     "output_type": "stream",
     "text": [
      "C:\\Users\\leech\\AppData\\Local\\Continuum\\anaconda3\\lib\\site-packages\\statsmodels\\tools\\_testing.py:19: FutureWarning: pandas.util.testing is deprecated. Use the functions in the public API at pandas.testing instead.\n",
      "  import pandas.util.testing as tm\n",
      "C:\\Users\\leech\\AppData\\Local\\Continuum\\anaconda3\\lib\\site-packages\\statsmodels\\compat\\pandas.py:23: FutureWarning: The Panel class is removed from pandas. Accessing it from the top-level namespace will also be removed in the next version\n",
      "  data_klasses = (pandas.Series, pandas.DataFrame, pandas.Panel)\n"
     ]
    }
   ],
   "source": [
    "#Importing all the packages used in Assignment 4\n",
    "%matplotlib inline\n",
    "\n",
    "import pandas as pd\n",
    "import numpy as np\n",
    "import matplotlib.pyplot as plt\n",
    "import statsmodels.api as sm\n",
    "import graphviz\n",
    "import operator\n",
    "\n",
    "from sklearn.tree import DecisionTreeRegressor, DecisionTreeClassifier, export_graphviz \n",
    "from sklearn.ensemble import RandomForestRegressor\n",
    "from sklearn.metrics import mean_squared_error\n",
    "from sklearn.model_selection import train_test_split\n",
    "from sklearn.linear_model import Lasso, LassoCV"
   ]
  },
  {
   "cell_type": "markdown",
   "metadata": {},
   "source": [
    "### Part 1"
   ]
  },
  {
   "cell_type": "markdown",
   "metadata": {},
   "source": [
    "Description of College data set:\n",
    "\n",
    "Statistics for a large number of US Colleges from the 1995 issue of US News and World Report.\n",
    "\n",
    "A data frame with 777 observations on the following 18 variables.\n",
    "- Private A factor with levels No and Yes indicating private or public university\n",
    "- Apps Number of applications received(projection)\n",
    "- Accept Number of applications accepted\n",
    "- Enroll Number of new students enrolled\n",
    "- Top10perc Pct. new students from top 10% of H.S. class\n",
    "- Top25perc Pct. new students from top 25% of H.S. class\n",
    "- F.Undergrad Number of fulltime undergraduates\n",
    "- P.Undergrad Number of parttime undergraduates\n",
    "- Outstate Out-of-state tuition\n",
    "- Room.Board Room and board costs\n",
    "- Books Estimated book costs\n",
    "- Personal Estimated personal spending\n",
    "- PhD Pct. of faculty with Ph.D.’s\n",
    "- Terminal Pct. of faculty with terminal degree\n",
    "- S.F.Ratio Student/faculty ratio\n",
    "- perc.alumni Pct. alumni who donate\n",
    "- Expend Instructional expenditure per student\n",
    "- Grad.Rate Graduation rate\n",
    "\n",
    "## LASSO \n",
    "Predict the number of applications received $\\color{red}{\\text{Apps}}$ using all other variables in the $\\color{red}{\\text{College}}$ data set using $\\textbf{LASSO}$ model for variable selection:  \n"
   ]
  },
  {
   "cell_type": "code",
   "execution_count": 2,
   "metadata": {
    "scrolled": true
   },
   "outputs": [
    {
     "data": {
      "text/html": [
       "<div>\n",
       "<style scoped>\n",
       "    .dataframe tbody tr th:only-of-type {\n",
       "        vertical-align: middle;\n",
       "    }\n",
       "\n",
       "    .dataframe tbody tr th {\n",
       "        vertical-align: top;\n",
       "    }\n",
       "\n",
       "    .dataframe thead th {\n",
       "        text-align: right;\n",
       "    }\n",
       "</style>\n",
       "<table border=\"1\" class=\"dataframe\">\n",
       "  <thead>\n",
       "    <tr style=\"text-align: right;\">\n",
       "      <th></th>\n",
       "      <th>Unnamed: 0</th>\n",
       "      <th>Private</th>\n",
       "      <th>Apps</th>\n",
       "      <th>Accept</th>\n",
       "      <th>Enroll</th>\n",
       "      <th>Top10perc</th>\n",
       "      <th>Top25perc</th>\n",
       "      <th>F.Undergrad</th>\n",
       "      <th>P.Undergrad</th>\n",
       "      <th>Outstate</th>\n",
       "      <th>Room.Board</th>\n",
       "      <th>Books</th>\n",
       "      <th>Personal</th>\n",
       "      <th>PhD</th>\n",
       "      <th>Terminal</th>\n",
       "      <th>S.F.Ratio</th>\n",
       "      <th>perc.alumni</th>\n",
       "      <th>Expend</th>\n",
       "      <th>Grad.Rate</th>\n",
       "    </tr>\n",
       "  </thead>\n",
       "  <tbody>\n",
       "    <tr>\n",
       "      <th>0</th>\n",
       "      <td>Abilene Christian University</td>\n",
       "      <td>Yes</td>\n",
       "      <td>1660</td>\n",
       "      <td>1232</td>\n",
       "      <td>721</td>\n",
       "      <td>23</td>\n",
       "      <td>52</td>\n",
       "      <td>2885</td>\n",
       "      <td>537</td>\n",
       "      <td>7440</td>\n",
       "      <td>3300</td>\n",
       "      <td>450</td>\n",
       "      <td>2200</td>\n",
       "      <td>70</td>\n",
       "      <td>78</td>\n",
       "      <td>18.1</td>\n",
       "      <td>12</td>\n",
       "      <td>7041</td>\n",
       "      <td>60</td>\n",
       "    </tr>\n",
       "    <tr>\n",
       "      <th>1</th>\n",
       "      <td>Adelphi University</td>\n",
       "      <td>Yes</td>\n",
       "      <td>2186</td>\n",
       "      <td>1924</td>\n",
       "      <td>512</td>\n",
       "      <td>16</td>\n",
       "      <td>29</td>\n",
       "      <td>2683</td>\n",
       "      <td>1227</td>\n",
       "      <td>12280</td>\n",
       "      <td>6450</td>\n",
       "      <td>750</td>\n",
       "      <td>1500</td>\n",
       "      <td>29</td>\n",
       "      <td>30</td>\n",
       "      <td>12.2</td>\n",
       "      <td>16</td>\n",
       "      <td>10527</td>\n",
       "      <td>56</td>\n",
       "    </tr>\n",
       "    <tr>\n",
       "      <th>2</th>\n",
       "      <td>Adrian College</td>\n",
       "      <td>Yes</td>\n",
       "      <td>1428</td>\n",
       "      <td>1097</td>\n",
       "      <td>336</td>\n",
       "      <td>22</td>\n",
       "      <td>50</td>\n",
       "      <td>1036</td>\n",
       "      <td>99</td>\n",
       "      <td>11250</td>\n",
       "      <td>3750</td>\n",
       "      <td>400</td>\n",
       "      <td>1165</td>\n",
       "      <td>53</td>\n",
       "      <td>66</td>\n",
       "      <td>12.9</td>\n",
       "      <td>30</td>\n",
       "      <td>8735</td>\n",
       "      <td>54</td>\n",
       "    </tr>\n",
       "    <tr>\n",
       "      <th>3</th>\n",
       "      <td>Agnes Scott College</td>\n",
       "      <td>Yes</td>\n",
       "      <td>417</td>\n",
       "      <td>349</td>\n",
       "      <td>137</td>\n",
       "      <td>60</td>\n",
       "      <td>89</td>\n",
       "      <td>510</td>\n",
       "      <td>63</td>\n",
       "      <td>12960</td>\n",
       "      <td>5450</td>\n",
       "      <td>450</td>\n",
       "      <td>875</td>\n",
       "      <td>92</td>\n",
       "      <td>97</td>\n",
       "      <td>7.7</td>\n",
       "      <td>37</td>\n",
       "      <td>19016</td>\n",
       "      <td>59</td>\n",
       "    </tr>\n",
       "    <tr>\n",
       "      <th>4</th>\n",
       "      <td>Alaska Pacific University</td>\n",
       "      <td>Yes</td>\n",
       "      <td>193</td>\n",
       "      <td>146</td>\n",
       "      <td>55</td>\n",
       "      <td>16</td>\n",
       "      <td>44</td>\n",
       "      <td>249</td>\n",
       "      <td>869</td>\n",
       "      <td>7560</td>\n",
       "      <td>4120</td>\n",
       "      <td>800</td>\n",
       "      <td>1500</td>\n",
       "      <td>76</td>\n",
       "      <td>72</td>\n",
       "      <td>11.9</td>\n",
       "      <td>2</td>\n",
       "      <td>10922</td>\n",
       "      <td>15</td>\n",
       "    </tr>\n",
       "  </tbody>\n",
       "</table>\n",
       "</div>"
      ],
      "text/plain": [
       "                     Unnamed: 0 Private  Apps  Accept  Enroll  Top10perc  \\\n",
       "0  Abilene Christian University     Yes  1660    1232     721         23   \n",
       "1            Adelphi University     Yes  2186    1924     512         16   \n",
       "2                Adrian College     Yes  1428    1097     336         22   \n",
       "3           Agnes Scott College     Yes   417     349     137         60   \n",
       "4     Alaska Pacific University     Yes   193     146      55         16   \n",
       "\n",
       "   Top25perc  F.Undergrad  P.Undergrad  Outstate  Room.Board  Books  Personal  \\\n",
       "0         52         2885          537      7440        3300    450      2200   \n",
       "1         29         2683         1227     12280        6450    750      1500   \n",
       "2         50         1036           99     11250        3750    400      1165   \n",
       "3         89          510           63     12960        5450    450       875   \n",
       "4         44          249          869      7560        4120    800      1500   \n",
       "\n",
       "   PhD  Terminal  S.F.Ratio  perc.alumni  Expend  Grad.Rate  \n",
       "0   70        78       18.1           12    7041         60  \n",
       "1   29        30       12.2           16   10527         56  \n",
       "2   53        66       12.9           30    8735         54  \n",
       "3   92        97        7.7           37   19016         59  \n",
       "4   76        72       11.9            2   10922         15  "
      ]
     },
     "execution_count": 2,
     "metadata": {},
     "output_type": "execute_result"
    }
   ],
   "source": [
    "college = pd.read_csv('College.csv') #Importing the College Data set.\n",
    "college.head() #Taking a look at the imported College Data set."
   ]
  },
  {
   "cell_type": "code",
   "execution_count": 3,
   "metadata": {},
   "outputs": [
    {
     "data": {
      "text/plain": [
       "(777, 19)"
      ]
     },
     "execution_count": 3,
     "metadata": {},
     "output_type": "execute_result"
    }
   ],
   "source": [
    "college.shape #Checking the shape - Rows and Columns of the Data"
   ]
  },
  {
   "cell_type": "code",
   "execution_count": 4,
   "metadata": {},
   "outputs": [],
   "source": [
    "college_dummied = pd.get_dummies(data = college, columns = ['Private']) #Dummying the categorical feature 'Private'"
   ]
  },
  {
   "cell_type": "code",
   "execution_count": 5,
   "metadata": {},
   "outputs": [
    {
     "data": {
      "text/html": [
       "<div>\n",
       "<style scoped>\n",
       "    .dataframe tbody tr th:only-of-type {\n",
       "        vertical-align: middle;\n",
       "    }\n",
       "\n",
       "    .dataframe tbody tr th {\n",
       "        vertical-align: top;\n",
       "    }\n",
       "\n",
       "    .dataframe thead th {\n",
       "        text-align: right;\n",
       "    }\n",
       "</style>\n",
       "<table border=\"1\" class=\"dataframe\">\n",
       "  <thead>\n",
       "    <tr style=\"text-align: right;\">\n",
       "      <th></th>\n",
       "      <th>Unnamed: 0</th>\n",
       "      <th>Apps</th>\n",
       "      <th>Accept</th>\n",
       "      <th>Enroll</th>\n",
       "      <th>Top10perc</th>\n",
       "      <th>Top25perc</th>\n",
       "      <th>F.Undergrad</th>\n",
       "      <th>P.Undergrad</th>\n",
       "      <th>Outstate</th>\n",
       "      <th>Room.Board</th>\n",
       "      <th>Books</th>\n",
       "      <th>Personal</th>\n",
       "      <th>PhD</th>\n",
       "      <th>Terminal</th>\n",
       "      <th>S.F.Ratio</th>\n",
       "      <th>perc.alumni</th>\n",
       "      <th>Expend</th>\n",
       "      <th>Grad.Rate</th>\n",
       "      <th>Private_No</th>\n",
       "      <th>Private_Yes</th>\n",
       "    </tr>\n",
       "  </thead>\n",
       "  <tbody>\n",
       "    <tr>\n",
       "      <th>0</th>\n",
       "      <td>Abilene Christian University</td>\n",
       "      <td>1660</td>\n",
       "      <td>1232</td>\n",
       "      <td>721</td>\n",
       "      <td>23</td>\n",
       "      <td>52</td>\n",
       "      <td>2885</td>\n",
       "      <td>537</td>\n",
       "      <td>7440</td>\n",
       "      <td>3300</td>\n",
       "      <td>450</td>\n",
       "      <td>2200</td>\n",
       "      <td>70</td>\n",
       "      <td>78</td>\n",
       "      <td>18.1</td>\n",
       "      <td>12</td>\n",
       "      <td>7041</td>\n",
       "      <td>60</td>\n",
       "      <td>0</td>\n",
       "      <td>1</td>\n",
       "    </tr>\n",
       "    <tr>\n",
       "      <th>1</th>\n",
       "      <td>Adelphi University</td>\n",
       "      <td>2186</td>\n",
       "      <td>1924</td>\n",
       "      <td>512</td>\n",
       "      <td>16</td>\n",
       "      <td>29</td>\n",
       "      <td>2683</td>\n",
       "      <td>1227</td>\n",
       "      <td>12280</td>\n",
       "      <td>6450</td>\n",
       "      <td>750</td>\n",
       "      <td>1500</td>\n",
       "      <td>29</td>\n",
       "      <td>30</td>\n",
       "      <td>12.2</td>\n",
       "      <td>16</td>\n",
       "      <td>10527</td>\n",
       "      <td>56</td>\n",
       "      <td>0</td>\n",
       "      <td>1</td>\n",
       "    </tr>\n",
       "    <tr>\n",
       "      <th>2</th>\n",
       "      <td>Adrian College</td>\n",
       "      <td>1428</td>\n",
       "      <td>1097</td>\n",
       "      <td>336</td>\n",
       "      <td>22</td>\n",
       "      <td>50</td>\n",
       "      <td>1036</td>\n",
       "      <td>99</td>\n",
       "      <td>11250</td>\n",
       "      <td>3750</td>\n",
       "      <td>400</td>\n",
       "      <td>1165</td>\n",
       "      <td>53</td>\n",
       "      <td>66</td>\n",
       "      <td>12.9</td>\n",
       "      <td>30</td>\n",
       "      <td>8735</td>\n",
       "      <td>54</td>\n",
       "      <td>0</td>\n",
       "      <td>1</td>\n",
       "    </tr>\n",
       "    <tr>\n",
       "      <th>3</th>\n",
       "      <td>Agnes Scott College</td>\n",
       "      <td>417</td>\n",
       "      <td>349</td>\n",
       "      <td>137</td>\n",
       "      <td>60</td>\n",
       "      <td>89</td>\n",
       "      <td>510</td>\n",
       "      <td>63</td>\n",
       "      <td>12960</td>\n",
       "      <td>5450</td>\n",
       "      <td>450</td>\n",
       "      <td>875</td>\n",
       "      <td>92</td>\n",
       "      <td>97</td>\n",
       "      <td>7.7</td>\n",
       "      <td>37</td>\n",
       "      <td>19016</td>\n",
       "      <td>59</td>\n",
       "      <td>0</td>\n",
       "      <td>1</td>\n",
       "    </tr>\n",
       "    <tr>\n",
       "      <th>4</th>\n",
       "      <td>Alaska Pacific University</td>\n",
       "      <td>193</td>\n",
       "      <td>146</td>\n",
       "      <td>55</td>\n",
       "      <td>16</td>\n",
       "      <td>44</td>\n",
       "      <td>249</td>\n",
       "      <td>869</td>\n",
       "      <td>7560</td>\n",
       "      <td>4120</td>\n",
       "      <td>800</td>\n",
       "      <td>1500</td>\n",
       "      <td>76</td>\n",
       "      <td>72</td>\n",
       "      <td>11.9</td>\n",
       "      <td>2</td>\n",
       "      <td>10922</td>\n",
       "      <td>15</td>\n",
       "      <td>0</td>\n",
       "      <td>1</td>\n",
       "    </tr>\n",
       "  </tbody>\n",
       "</table>\n",
       "</div>"
      ],
      "text/plain": [
       "                     Unnamed: 0  Apps  Accept  Enroll  Top10perc  Top25perc  \\\n",
       "0  Abilene Christian University  1660    1232     721         23         52   \n",
       "1            Adelphi University  2186    1924     512         16         29   \n",
       "2                Adrian College  1428    1097     336         22         50   \n",
       "3           Agnes Scott College   417     349     137         60         89   \n",
       "4     Alaska Pacific University   193     146      55         16         44   \n",
       "\n",
       "   F.Undergrad  P.Undergrad  Outstate  Room.Board  Books  Personal  PhD  \\\n",
       "0         2885          537      7440        3300    450      2200   70   \n",
       "1         2683         1227     12280        6450    750      1500   29   \n",
       "2         1036           99     11250        3750    400      1165   53   \n",
       "3          510           63     12960        5450    450       875   92   \n",
       "4          249          869      7560        4120    800      1500   76   \n",
       "\n",
       "   Terminal  S.F.Ratio  perc.alumni  Expend  Grad.Rate  Private_No  \\\n",
       "0        78       18.1           12    7041         60           0   \n",
       "1        30       12.2           16   10527         56           0   \n",
       "2        66       12.9           30    8735         54           0   \n",
       "3        97        7.7           37   19016         59           0   \n",
       "4        72       11.9            2   10922         15           0   \n",
       "\n",
       "   Private_Yes  \n",
       "0            1  \n",
       "1            1  \n",
       "2            1  \n",
       "3            1  \n",
       "4            1  "
      ]
     },
     "execution_count": 5,
     "metadata": {},
     "output_type": "execute_result"
    }
   ],
   "source": [
    "college_dummied.head() #Taking a look at the new data with the Dummy Variables."
   ]
  },
  {
   "cell_type": "code",
   "execution_count": 6,
   "metadata": {
    "scrolled": false
   },
   "outputs": [
    {
     "data": {
      "text/plain": [
       "(777, 20)"
      ]
     },
     "execution_count": 6,
     "metadata": {},
     "output_type": "execute_result"
    }
   ],
   "source": [
    "college_dummied.shape #Checking the shape - Rows and Columns of the Data with Dummies"
   ]
  },
  {
   "cell_type": "markdown",
   "metadata": {},
   "source": [
    "#### a.\tSplit the data set randomly into training and test data set. "
   ]
  },
  {
   "cell_type": "code",
   "execution_count": 7,
   "metadata": {
    "scrolled": true
   },
   "outputs": [
    {
     "data": {
      "text/plain": [
       "0    1660\n",
       "1    2186\n",
       "2    1428\n",
       "3     417\n",
       "4     193\n",
       "Name: Apps, dtype: int64"
      ]
     },
     "execution_count": 7,
     "metadata": {},
     "output_type": "execute_result"
    }
   ],
   "source": [
    "X = college_dummied[college_dummied.columns[2:]].drop(['Private_No'], axis = 1) #Defining the independent variables - Features\n",
    "y = college_dummied['Apps'] #Defining the response - dependent variable.\n",
    "y.head()"
   ]
  },
  {
   "cell_type": "code",
   "execution_count": 8,
   "metadata": {},
   "outputs": [],
   "source": [
    "X_train, X_test , y_train, y_test = train_test_split(X, y, test_size = 0.3) #Splitting the data into training and testing with a 0.7/0.3 split."
   ]
  },
  {
   "cell_type": "code",
   "execution_count": 9,
   "metadata": {},
   "outputs": [
    {
     "name": "stdout",
     "output_type": "stream",
     "text": [
      "X_train: (543, 17)\n",
      "y_train: (543,)\n",
      "X_test: (234, 17)\n",
      "y_test: (234,)\n"
     ]
    }
   ],
   "source": [
    "print('X_train:', X_train.shape) #Checking the shape of the split data.\n",
    "print('y_train:', y_train.shape)\n",
    "print('X_test:', X_test.shape)\n",
    "print('y_test:', y_test.shape)"
   ]
  },
  {
   "cell_type": "markdown",
   "metadata": {},
   "source": [
    "#### b.\tFit Lasso model using on the training data set."
   ]
  },
  {
   "cell_type": "code",
   "execution_count": 10,
   "metadata": {
    "scrolled": true
   },
   "outputs": [
    {
     "data": {
      "text/plain": [
       "Lasso(alpha=1, normalize=True)"
      ]
     },
     "execution_count": 10,
     "metadata": {},
     "output_type": "execute_result"
    }
   ],
   "source": [
    "lassob = Lasso(alpha = 1, normalize = True) #Fitting a Lasso model on the training data set.\n",
    "lassob.fit(X_train, y_train)      "
   ]
  },
  {
   "cell_type": "code",
   "execution_count": 11,
   "metadata": {},
   "outputs": [
    {
     "name": "stdout",
     "output_type": "stream",
     "text": [
      "Accept           1.536954\n",
      "Enroll          -0.250222\n",
      "Top10perc       32.730354\n",
      "Top25perc       -2.011395\n",
      "F.Undergrad     -0.000000\n",
      "P.Undergrad      0.000000\n",
      "Outstate        -0.043610\n",
      "Room.Board       0.080326\n",
      "Books            0.000000\n",
      "Personal         0.000000\n",
      "PhD             -3.283692\n",
      "Terminal        -5.262049\n",
      "S.F.Ratio        0.000000\n",
      "perc.alumni     -1.725958\n",
      "Expend           0.053409\n",
      "Grad.Rate        4.719872\n",
      "Private_Yes   -307.203089\n",
      "dtype: float64\n",
      "MSE is 1242171.376156464\n"
     ]
    }
   ],
   "source": [
    "predb = lassob.predict(X_test) #Applying the model on the test data set.\n",
    "print(pd.Series(lassob.coef_, index = X.columns)) \n",
    "print(\"MSE is\", mean_squared_error(y_test, predb)) #Calculating the MSE of this Model"
   ]
  },
  {
   "cell_type": "markdown",
   "metadata": {},
   "source": [
    "#### c. Perform cross-validation on the training data set to choose the best lambda.  "
   ]
  },
  {
   "cell_type": "code",
   "execution_count": 12,
   "metadata": {},
   "outputs": [],
   "source": [
    "alphas = 10**np.linspace(10,-2,100)*0.3"
   ]
  },
  {
   "cell_type": "code",
   "execution_count": 13,
   "metadata": {},
   "outputs": [
    {
     "name": "stdout",
     "output_type": "stream",
     "text": [
      "1.8407721820239487\n"
     ]
    },
    {
     "data": {
      "text/plain": [
       "Lasso(alpha=1.8407721820239487, normalize=True)"
      ]
     },
     "execution_count": 13,
     "metadata": {},
     "output_type": "execute_result"
    }
   ],
   "source": [
    "lassocv = LassoCV(alphas = alphas, cv = 10, max_iter = 100000, normalize = True) #Using CV Lasso Regression to determine the best alpha to use.\n",
    "lassocv.fit(X_train, y_train) #Fitting the model.\n",
    "print(lassocv.alpha_) #Displaying the lambda.\n",
    "lassoc = Lasso(alpha = lassocv.alpha_, normalize = True) #Fitting Lasso model with the best lamda.\n",
    "lassoc.fit(X_train, y_train)"
   ]
  },
  {
   "cell_type": "markdown",
   "metadata": {},
   "source": [
    "#### d.\tEstimate the predicted values using the best lambda obtained in part (c) on the test data and compute test MSE. "
   ]
  },
  {
   "cell_type": "code",
   "execution_count": 14,
   "metadata": {
    "scrolled": true
   },
   "outputs": [
    {
     "name": "stdout",
     "output_type": "stream",
     "text": [
      "Accept           1.456184\n",
      "Enroll          -0.000000\n",
      "Top10perc       26.640296\n",
      "Top25perc       -0.000000\n",
      "F.Undergrad     -0.000000\n",
      "P.Undergrad      0.000000\n",
      "Outstate        -0.014236\n",
      "Room.Board       0.038932\n",
      "Books            0.000000\n",
      "Personal         0.000000\n",
      "PhD             -1.121905\n",
      "Terminal        -4.100051\n",
      "S.F.Ratio        0.000000\n",
      "perc.alumni     -0.871759\n",
      "Expend           0.045355\n",
      "Grad.Rate        2.782182\n",
      "Private_Yes   -193.963771\n",
      "dtype: float64\n",
      "MSE is 1297628.4623670129\n"
     ]
    }
   ],
   "source": [
    "predd = lassoc.predict(X_test) #Applying the lasso model with best alpha, on the test data set. \n",
    "print(pd.Series(lassoc.coef_, index = X.columns)) \n",
    "mse1d = mean_squared_error(y_test, predd)\n",
    "print(\"MSE is\", mean_squared_error(y_test, predd)) #Calculating the MSE for this model."
   ]
  },
  {
   "cell_type": "markdown",
   "metadata": {},
   "source": [
    "#### e.\tCompare the Lasso predicted test MSE (with the best lambda) with the null model (lambda=infinity) test MSE and least square regression model (lambda=0) test MSE. What do you conclude?  "
   ]
  },
  {
   "cell_type": "code",
   "execution_count": 15,
   "metadata": {},
   "outputs": [
    {
     "name": "stdout",
     "output_type": "stream",
     "text": [
      "Accept         0.0\n",
      "Enroll         0.0\n",
      "Top10perc      0.0\n",
      "Top25perc      0.0\n",
      "F.Undergrad    0.0\n",
      "P.Undergrad    0.0\n",
      "Outstate       0.0\n",
      "Room.Board     0.0\n",
      "Books          0.0\n",
      "Personal       0.0\n",
      "PhD            0.0\n",
      "Terminal       0.0\n",
      "S.F.Ratio      0.0\n",
      "perc.alumni   -0.0\n",
      "Expend         0.0\n",
      "Grad.Rate      0.0\n",
      "Private_Yes   -0.0\n",
      "dtype: float64\n",
      "MSE is 13233566.273857038\n"
     ]
    }
   ],
   "source": [
    "lasso_null = Lasso(alpha = 10**100, normalize = True) #Creating and Fitting the Null Model\n",
    "lasso_null.fit(X_train, y_train)             \n",
    "prede = lasso_null.predict(X_test) #Applying the null model on the test data set.\n",
    "print(pd.Series(lasso_null.coef_, index = X.columns)) \n",
    "nullmse = mean_squared_error(y_test, prede)\n",
    "print(\"MSE is\", mean_squared_error(y_test, prede)) #Calculating MSE"
   ]
  },
  {
   "cell_type": "code",
   "execution_count": 16,
   "metadata": {
    "scrolled": false
   },
   "outputs": [
    {
     "name": "stdout",
     "output_type": "stream",
     "text": [
      "Accept           1.673308\n",
      "Enroll          -0.873325\n",
      "Top10perc       52.326367\n",
      "Top25perc      -16.150527\n",
      "F.Undergrad      0.043530\n",
      "P.Undergrad      0.000657\n",
      "Outstate        -0.081145\n",
      "Room.Board       0.124176\n",
      "Books            0.028431\n",
      "Personal         0.007753\n",
      "PhD             -5.791057\n",
      "Terminal        -5.312529\n",
      "S.F.Ratio        3.164755\n",
      "perc.alumni     -1.673190\n",
      "Expend           0.059182\n",
      "Grad.Rate        7.957020\n",
      "Private_Yes   -436.966716\n",
      "dtype: float64\n",
      "MSE is 1203882.3457257512\n"
     ]
    },
    {
     "name": "stderr",
     "output_type": "stream",
     "text": [
      "C:\\Users\\leech\\AppData\\Local\\Continuum\\anaconda3\\lib\\site-packages\\ipykernel_launcher.py:2: UserWarning: With alpha=0, this algorithm does not converge well. You are advised to use the LinearRegression estimator\n",
      "  \n",
      "C:\\Users\\leech\\AppData\\Local\\Continuum\\anaconda3\\lib\\site-packages\\sklearn\\linear_model\\_coordinate_descent.py:531: UserWarning: Coordinate descent with no regularization may lead to unexpected results and is discouraged.\n",
      "  positive)\n",
      "C:\\Users\\leech\\AppData\\Local\\Continuum\\anaconda3\\lib\\site-packages\\sklearn\\linear_model\\_coordinate_descent.py:531: ConvergenceWarning: Objective did not converge. You might want to increase the number of iterations. Duality gap: 279825137.90153825, tolerance: 852706.1331915286\n",
      "  positive)\n"
     ]
    }
   ],
   "source": [
    "lasso_lr = Lasso(alpha = 0, normalize = True) #Creating and Fitting on the Least Squares Regression Model, Alpha = 0.\n",
    "lasso_lr.fit(X_train, y_train)               \n",
    "prede2 = lasso_lr.predict(X_test) #Applying the Least Squares Regression Model on the test data set.\n",
    "print(pd.Series(lasso_lr.coef_, index = X.columns)) \n",
    "lsrmse = mean_squared_error(y_test, prede2)\n",
    "print(\"MSE is\", mean_squared_error(y_test, prede2)) #Calculating the MSE."
   ]
  },
  {
   "cell_type": "code",
   "execution_count": 17,
   "metadata": {},
   "outputs": [
    {
     "name": "stdout",
     "output_type": "stream",
     "text": [
      "Lasso predicted test MSE (with the best lambda): 1297628.4623670129\n",
      "Null Model (lambda = infinity) test MSE: 13233566.273857038\n",
      "Least Square Regression Model (lambda = 0) test MSE: 1203882.3457257512\n"
     ]
    }
   ],
   "source": [
    "print('Lasso predicted test MSE (with the best lambda):', mse1d)\n",
    "print('Null Model (lambda = infinity) test MSE:', nullmse)\n",
    "print('Least Square Regression Model (lambda = 0) test MSE:', lsrmse)"
   ]
  },
  {
   "cell_type": "markdown",
   "metadata": {},
   "source": [
    "#### Conclusion:\n",
    "- With a very high lambda (infinity) value that is equivalent to null model, all coefficient estimates are equal to zero which resulted in a MSE value higher than the other two models.\n",
    "\n",
    "- Least square regression model returned a lower MSE than the Null model, but it is still needed to compare with the MSE from the best lambda model.\n",
    "\n",
    "- Lasso generally provides estimates that are different at each value of lambda. In our case, while testing on different splits, depending on the random split of the data, the Lasso Model with the best lambda, and the Lasso Model with lambda = 0, have different, but comparable, almost similar, test MSE values. However, in most cases, the Lasso model with the best lambda vs. a lambda of 0, the Lasso model with a lambda of 0 has the lowest MSE. In other words, the Lease Square Regression Model tends to have the lowest MSE in most cases in our problem.\n"
   ]
  },
  {
   "cell_type": "markdown",
   "metadata": {},
   "source": [
    "#### f.\tNow construct the Lasso model for the entire data set and obtain the Lasso coefficients using the best lambda obtained in part (c) and report the number of non-zero coefficient estimates.    "
   ]
  },
  {
   "cell_type": "code",
   "execution_count": 18,
   "metadata": {
    "scrolled": true
   },
   "outputs": [
    {
     "name": "stdout",
     "output_type": "stream",
     "text": [
      "Accept           1.392404\n",
      "Enroll          -0.000000\n",
      "Top10perc       26.829524\n",
      "Top25perc       -0.000000\n",
      "F.Undergrad      0.000000\n",
      "P.Undergrad      0.000000\n",
      "Outstate        -0.021844\n",
      "Room.Board       0.063062\n",
      "Books            0.000000\n",
      "Personal         0.000000\n",
      "PhD             -1.653485\n",
      "Terminal        -1.474814\n",
      "S.F.Ratio        0.000000\n",
      "perc.alumni     -0.000000\n",
      "Expend           0.055140\n",
      "Grad.Rate        1.335669\n",
      "Private_Yes   -315.869245\n",
      "dtype: float64\n",
      "MSE is 1168199.0030548845\n"
     ]
    }
   ],
   "source": [
    "lassoc.fit(X, y) #Fitting the Lasso Model with the best lambda with the entire data set.\n",
    "\n",
    "coef = pd.Series(lassoc.coef_, index = X.columns)\n",
    "dfzero = pd.DataFrame(coef == 0, columns = ['Zero']) #Creating the Dataframe consisting of Binary Value of the coefficients.\n",
    "\n",
    "print(coef)\n",
    "print(\"MSE is\", mean_squared_error(y, lassoc.predict(X))) #Calculating the MSE"
   ]
  },
  {
   "cell_type": "code",
   "execution_count": 19,
   "metadata": {},
   "outputs": [
    {
     "name": "stdout",
     "output_type": "stream",
     "text": [
      "Lasso picked 9 variables and eliminated the other 8 variables.\n",
      "Lasso picked: Accept, Top10perc, Outstate, Room.Board, PhD, Terminal, Expend, Grad.Rate, Private_Yes\n",
      "Lasso eliminated: Enroll, Top25perc, F.Undergrad, P.Undergrad, Books, Personal, S.F.Ratio, perc.alumni\n"
     ]
    }
   ],
   "source": [
    "print(\"Lasso picked \" + str(sum(coef != 0)) + \" variables and eliminated the other \" + str(sum(coef == 0)) + \" variables.\")\n",
    "print('Lasso picked:', ', '.join(list(dfzero.index[dfzero['Zero'] != True])))\n",
    "print('Lasso eliminated:', ', '.join(list(dfzero.index[dfzero['Zero']])))"
   ]
  },
  {
   "cell_type": "markdown",
   "metadata": {},
   "source": [
    "#### g.\tNow use the Lasso predictors obtained in part (f) to fit the Linear Regression Model and report the summary of the linear model."
   ]
  },
  {
   "cell_type": "code",
   "execution_count": 20,
   "metadata": {},
   "outputs": [],
   "source": [
    "eliminate = list(dfzero.index[dfzero['Zero']]) #Creating a list of the features that have been reduced to zero."
   ]
  },
  {
   "cell_type": "code",
   "execution_count": 21,
   "metadata": {
    "scrolled": false
   },
   "outputs": [
    {
     "data": {
      "text/html": [
       "<table class=\"simpletable\">\n",
       "<caption>OLS Regression Results</caption>\n",
       "<tr>\n",
       "  <th>Dep. Variable:</th>          <td>Apps</td>       <th>  R-squared:         </th> <td>   0.925</td> \n",
       "</tr>\n",
       "<tr>\n",
       "  <th>Model:</th>                   <td>OLS</td>       <th>  Adj. R-squared:    </th> <td>   0.924</td> \n",
       "</tr>\n",
       "<tr>\n",
       "  <th>Method:</th>             <td>Least Squares</td>  <th>  F-statistic:       </th> <td>   1054.</td> \n",
       "</tr>\n",
       "<tr>\n",
       "  <th>Date:</th>             <td>Wed, 18 Nov 2020</td> <th>  Prob (F-statistic):</th>  <td>  0.00</td>  \n",
       "</tr>\n",
       "<tr>\n",
       "  <th>Time:</th>                 <td>10:50:48</td>     <th>  Log-Likelihood:    </th> <td> -6513.5</td> \n",
       "</tr>\n",
       "<tr>\n",
       "  <th>No. Observations:</th>      <td>   777</td>      <th>  AIC:               </th> <td>1.305e+04</td>\n",
       "</tr>\n",
       "<tr>\n",
       "  <th>Df Residuals:</th>          <td>   767</td>      <th>  BIC:               </th> <td>1.309e+04</td>\n",
       "</tr>\n",
       "<tr>\n",
       "  <th>Df Model:</th>              <td>     9</td>      <th>                     </th>     <td> </td>    \n",
       "</tr>\n",
       "<tr>\n",
       "  <th>Covariance Type:</th>      <td>nonrobust</td>    <th>                     </th>     <td> </td>    \n",
       "</tr>\n",
       "</table>\n",
       "<table class=\"simpletable\">\n",
       "<tr>\n",
       "       <td></td>          <th>coef</th>     <th>std err</th>      <th>t</th>      <th>P>|t|</th>  <th>[0.025</th>    <th>0.975]</th>  \n",
       "</tr>\n",
       "<tr>\n",
       "  <th>const</th>       <td> -563.4339</td> <td>  274.653</td> <td>   -2.051</td> <td> 0.041</td> <td>-1102.596</td> <td>  -24.272</td>\n",
       "</tr>\n",
       "<tr>\n",
       "  <th>Accept</th>      <td>    1.4000</td> <td>    0.019</td> <td>   72.089</td> <td> 0.000</td> <td>    1.362</td> <td>    1.438</td>\n",
       "</tr>\n",
       "<tr>\n",
       "  <th>Top10perc</th>   <td>   32.0362</td> <td>    3.289</td> <td>    9.741</td> <td> 0.000</td> <td>   25.580</td> <td>   38.492</td>\n",
       "</tr>\n",
       "<tr>\n",
       "  <th>Outstate</th>    <td>   -0.0807</td> <td>    0.019</td> <td>   -4.339</td> <td> 0.000</td> <td>   -0.117</td> <td>   -0.044</td>\n",
       "</tr>\n",
       "<tr>\n",
       "  <th>Room.Board</th>  <td>    0.1961</td> <td>    0.048</td> <td>    4.118</td> <td> 0.000</td> <td>    0.103</td> <td>    0.290</td>\n",
       "</tr>\n",
       "<tr>\n",
       "  <th>PhD</th>         <td>   -8.0899</td> <td>    4.675</td> <td>   -1.730</td> <td> 0.084</td> <td>  -17.267</td> <td>    1.087</td>\n",
       "</tr>\n",
       "<tr>\n",
       "  <th>Terminal</th>    <td>   -5.9151</td> <td>    5.092</td> <td>   -1.162</td> <td> 0.246</td> <td>  -15.911</td> <td>    4.080</td>\n",
       "</tr>\n",
       "<tr>\n",
       "  <th>Expend</th>      <td>    0.0793</td> <td>    0.011</td> <td>    6.953</td> <td> 0.000</td> <td>    0.057</td> <td>    0.102</td>\n",
       "</tr>\n",
       "<tr>\n",
       "  <th>Grad.Rate</th>   <td>    7.3037</td> <td>    2.866</td> <td>    2.548</td> <td> 0.011</td> <td>    1.677</td> <td>   12.931</td>\n",
       "</tr>\n",
       "<tr>\n",
       "  <th>Private_Yes</th> <td> -469.7013</td> <td>  133.921</td> <td>   -3.507</td> <td> 0.000</td> <td> -732.597</td> <td> -206.806</td>\n",
       "</tr>\n",
       "</table>\n",
       "<table class=\"simpletable\">\n",
       "<tr>\n",
       "  <th>Omnibus:</th>       <td>555.957</td> <th>  Durbin-Watson:     </th> <td>   1.995</td> \n",
       "</tr>\n",
       "<tr>\n",
       "  <th>Prob(Omnibus):</th> <td> 0.000</td>  <th>  Jarque-Bera (JB):  </th> <td>15645.701</td>\n",
       "</tr>\n",
       "<tr>\n",
       "  <th>Skew:</th>          <td> 2.851</td>  <th>  Prob(JB):          </th> <td>    0.00</td> \n",
       "</tr>\n",
       "<tr>\n",
       "  <th>Kurtosis:</th>      <td>24.231</td>  <th>  Cond. No.          </th> <td>1.17e+05</td> \n",
       "</tr>\n",
       "</table><br/><br/>Warnings:<br/>[1] Standard Errors assume that the covariance matrix of the errors is correctly specified.<br/>[2] The condition number is large, 1.17e+05. This might indicate that there are<br/>strong multicollinearity or other numerical problems."
      ],
      "text/plain": [
       "<class 'statsmodels.iolib.summary.Summary'>\n",
       "\"\"\"\n",
       "                            OLS Regression Results                            \n",
       "==============================================================================\n",
       "Dep. Variable:                   Apps   R-squared:                       0.925\n",
       "Model:                            OLS   Adj. R-squared:                  0.924\n",
       "Method:                 Least Squares   F-statistic:                     1054.\n",
       "Date:                Wed, 18 Nov 2020   Prob (F-statistic):               0.00\n",
       "Time:                        10:50:48   Log-Likelihood:                -6513.5\n",
       "No. Observations:                 777   AIC:                         1.305e+04\n",
       "Df Residuals:                     767   BIC:                         1.309e+04\n",
       "Df Model:                           9                                         \n",
       "Covariance Type:            nonrobust                                         \n",
       "===============================================================================\n",
       "                  coef    std err          t      P>|t|      [0.025      0.975]\n",
       "-------------------------------------------------------------------------------\n",
       "const        -563.4339    274.653     -2.051      0.041   -1102.596     -24.272\n",
       "Accept          1.4000      0.019     72.089      0.000       1.362       1.438\n",
       "Top10perc      32.0362      3.289      9.741      0.000      25.580      38.492\n",
       "Outstate       -0.0807      0.019     -4.339      0.000      -0.117      -0.044\n",
       "Room.Board      0.1961      0.048      4.118      0.000       0.103       0.290\n",
       "PhD            -8.0899      4.675     -1.730      0.084     -17.267       1.087\n",
       "Terminal       -5.9151      5.092     -1.162      0.246     -15.911       4.080\n",
       "Expend          0.0793      0.011      6.953      0.000       0.057       0.102\n",
       "Grad.Rate       7.3037      2.866      2.548      0.011       1.677      12.931\n",
       "Private_Yes  -469.7013    133.921     -3.507      0.000    -732.597    -206.806\n",
       "==============================================================================\n",
       "Omnibus:                      555.957   Durbin-Watson:                   1.995\n",
       "Prob(Omnibus):                  0.000   Jarque-Bera (JB):            15645.701\n",
       "Skew:                           2.851   Prob(JB):                         0.00\n",
       "Kurtosis:                      24.231   Cond. No.                     1.17e+05\n",
       "==============================================================================\n",
       "\n",
       "Warnings:\n",
       "[1] Standard Errors assume that the covariance matrix of the errors is correctly specified.\n",
       "[2] The condition number is large, 1.17e+05. This might indicate that there are\n",
       "strong multicollinearity or other numerical problems.\n",
       "\"\"\""
      ]
     },
     "execution_count": 21,
     "metadata": {},
     "output_type": "execute_result"
    }
   ],
   "source": [
    "X1 = X.drop(eliminate, axis = 1) #Dropping the features that have been reduced to zero.\n",
    "X1 = sm.add_constant(X1)\n",
    "model = sm.OLS(y, X1).fit() #Creating and fitting a Linear Regression Model with the reduced features.\n",
    "predictions = model.predict(X1)\n",
    "model.summary() #Summary of the Linear Model."
   ]
  },
  {
   "cell_type": "markdown",
   "metadata": {},
   "source": [
    "### Part 2\t\t\t\t\n",
    "\n",
    "#### Regression Tree\n",
    "\n",
    "Predict the number of applications received $\\color{red}{\\text{Apps}}$ using all other variables in the $\\color{red}{\\text{College}}$ data set based on a Regression Tree:  \n",
    "\n",
    "Perform the following tasks: $\\textbf{Use the training and test data set that you created in Part 1(a).}$\n"
   ]
  },
  {
   "cell_type": "markdown",
   "metadata": {},
   "source": [
    "#### a.\tFit a Regression Tree (max depth =3) to the training data, with $\\color{red}{\\text{Apps}}$ as the response and the all other variables as predictors. Create a plot of the tree. Note how many terminal nodes the tree has."
   ]
  },
  {
   "cell_type": "code",
   "execution_count": 22,
   "metadata": {},
   "outputs": [],
   "source": [
    "regr_tree_college = DecisionTreeRegressor(max_depth = 3) #Creating and fitting a Regression Tree Model wth a max depth of 3.\n",
    "regr_tree_college.fit(X_train, y_train)\n",
    "export_graphviz(regr_tree_college, out_file = \"college_tree.dot\")"
   ]
  },
  {
   "cell_type": "code",
   "execution_count": 40,
   "metadata": {
    "scrolled": false
   },
   "outputs": [
    {
     "data": {
      "image/svg+xml": [
       "<?xml version=\"1.0\" encoding=\"UTF-8\" standalone=\"no\"?>\r\n",
       "<!DOCTYPE svg PUBLIC \"-//W3C//DTD SVG 1.1//EN\"\r\n",
       " \"http://www.w3.org/Graphics/SVG/1.1/DTD/svg11.dtd\">\r\n",
       "<!-- Generated by graphviz version 2.38.0 (20140413.2041)\r\n",
       " -->\r\n",
       "<!-- Title: Tree Pages: 1 -->\r\n",
       "<svg width=\"835pt\" height=\"373pt\"\r\n",
       " viewBox=\"0.00 0.00 834.50 373.00\" xmlns=\"http://www.w3.org/2000/svg\" xmlns:xlink=\"http://www.w3.org/1999/xlink\">\r\n",
       "<g id=\"graph0\" class=\"graph\" transform=\"scale(1 1) rotate(0) translate(4 369)\">\r\n",
       "<title>Tree</title>\r\n",
       "<polygon fill=\"white\" stroke=\"none\" points=\"-4,4 -4,-369 830.5,-369 830.5,4 -4,4\"/>\r\n",
       "<!-- 0 -->\r\n",
       "<g id=\"node1\" class=\"node\"><title>0</title>\r\n",
       "<polygon fill=\"none\" stroke=\"black\" points=\"612,-365 479,-365 479,-297 612,-297 612,-365\"/>\r\n",
       "<text text-anchor=\"middle\" x=\"545.5\" y=\"-349.8\" font-family=\"Times New Roman,serif\" font-size=\"14.00\">X[0] &lt;= 4509.0</text>\r\n",
       "<text text-anchor=\"middle\" x=\"545.5\" y=\"-334.8\" font-family=\"Times New Roman,serif\" font-size=\"14.00\">mse = 15703612.029</text>\r\n",
       "<text text-anchor=\"middle\" x=\"545.5\" y=\"-319.8\" font-family=\"Times New Roman,serif\" font-size=\"14.00\">samples = 543</text>\r\n",
       "<text text-anchor=\"middle\" x=\"545.5\" y=\"-304.8\" font-family=\"Times New Roman,serif\" font-size=\"14.00\">value = 3025.197</text>\r\n",
       "</g>\r\n",
       "<!-- 1 -->\r\n",
       "<g id=\"node2\" class=\"node\"><title>1</title>\r\n",
       "<polygon fill=\"none\" stroke=\"black\" points=\"467.5,-261 341.5,-261 341.5,-193 467.5,-193 467.5,-261\"/>\r\n",
       "<text text-anchor=\"middle\" x=\"404.5\" y=\"-245.8\" font-family=\"Times New Roman,serif\" font-size=\"14.00\">X[0] &lt;= 1920.0</text>\r\n",
       "<text text-anchor=\"middle\" x=\"404.5\" y=\"-230.8\" font-family=\"Times New Roman,serif\" font-size=\"14.00\">mse = 3612479.062</text>\r\n",
       "<text text-anchor=\"middle\" x=\"404.5\" y=\"-215.8\" font-family=\"Times New Roman,serif\" font-size=\"14.00\">samples = 481</text>\r\n",
       "<text text-anchor=\"middle\" x=\"404.5\" y=\"-200.8\" font-family=\"Times New Roman,serif\" font-size=\"14.00\">value = 1976.605</text>\r\n",
       "</g>\r\n",
       "<!-- 0&#45;&gt;1 -->\r\n",
       "<g id=\"edge1\" class=\"edge\"><title>0&#45;&gt;1</title>\r\n",
       "<path fill=\"none\" stroke=\"black\" d=\"M499.721,-296.884C486.669,-287.442 472.323,-277.064 458.815,-267.292\"/>\r\n",
       "<polygon fill=\"black\" stroke=\"black\" points=\"460.685,-264.325 450.531,-261.299 456.582,-269.996 460.685,-264.325\"/>\r\n",
       "<text text-anchor=\"middle\" x=\"454.493\" y=\"-282.283\" font-family=\"Times New Roman,serif\" font-size=\"14.00\">True</text>\r\n",
       "</g>\r\n",
       "<!-- 8 -->\r\n",
       "<g id=\"node9\" class=\"node\"><title>8</title>\r\n",
       "<polygon fill=\"none\" stroke=\"black\" points=\"686,-261 553,-261 553,-193 686,-193 686,-261\"/>\r\n",
       "<text text-anchor=\"middle\" x=\"619.5\" y=\"-245.8\" font-family=\"Times New Roman,serif\" font-size=\"14.00\">X[0] &lt;= 19786.5</text>\r\n",
       "<text text-anchor=\"middle\" x=\"619.5\" y=\"-230.8\" font-family=\"Times New Roman,serif\" font-size=\"14.00\">mse = 34798102.925</text>\r\n",
       "<text text-anchor=\"middle\" x=\"619.5\" y=\"-215.8\" font-family=\"Times New Roman,serif\" font-size=\"14.00\">samples = 62</text>\r\n",
       "<text text-anchor=\"middle\" x=\"619.5\" y=\"-200.8\" font-family=\"Times New Roman,serif\" font-size=\"14.00\">value = 11160.242</text>\r\n",
       "</g>\r\n",
       "<!-- 0&#45;&gt;8 -->\r\n",
       "<g id=\"edge8\" class=\"edge\"><title>0&#45;&gt;8</title>\r\n",
       "<path fill=\"none\" stroke=\"black\" d=\"M569.526,-296.884C575.859,-288.154 582.772,-278.625 589.382,-269.514\"/>\r\n",
       "<polygon fill=\"black\" stroke=\"black\" points=\"592.302,-271.449 595.342,-261.299 586.636,-267.338 592.302,-271.449\"/>\r\n",
       "<text text-anchor=\"middle\" x=\"599.27\" y=\"-282.289\" font-family=\"Times New Roman,serif\" font-size=\"14.00\">False</text>\r\n",
       "</g>\r\n",
       "<!-- 2 -->\r\n",
       "<g id=\"node3\" class=\"node\"><title>2</title>\r\n",
       "<polygon fill=\"none\" stroke=\"black\" points=\"256,-157 137,-157 137,-89 256,-89 256,-157\"/>\r\n",
       "<text text-anchor=\"middle\" x=\"196.5\" y=\"-141.8\" font-family=\"Times New Roman,serif\" font-size=\"14.00\">X[0] &lt;= 952.0</text>\r\n",
       "<text text-anchor=\"middle\" x=\"196.5\" y=\"-126.8\" font-family=\"Times New Roman,serif\" font-size=\"14.00\">mse = 599825.068</text>\r\n",
       "<text text-anchor=\"middle\" x=\"196.5\" y=\"-111.8\" font-family=\"Times New Roman,serif\" font-size=\"14.00\">samples = 370</text>\r\n",
       "<text text-anchor=\"middle\" x=\"196.5\" y=\"-96.8\" font-family=\"Times New Roman,serif\" font-size=\"14.00\">value = 1177.114</text>\r\n",
       "</g>\r\n",
       "<!-- 1&#45;&gt;2 -->\r\n",
       "<g id=\"edge2\" class=\"edge\"><title>1&#45;&gt;2</title>\r\n",
       "<path fill=\"none\" stroke=\"black\" d=\"M341.246,-194.981C317.294,-183.236 289.917,-169.81 265.466,-157.82\"/>\r\n",
       "<polygon fill=\"black\" stroke=\"black\" points=\"266.771,-154.562 256.251,-153.301 263.689,-160.847 266.771,-154.562\"/>\r\n",
       "</g>\r\n",
       "<!-- 5 -->\r\n",
       "<g id=\"node6\" class=\"node\"><title>5</title>\r\n",
       "<polygon fill=\"none\" stroke=\"black\" points=\"467.5,-157 341.5,-157 341.5,-89 467.5,-89 467.5,-157\"/>\r\n",
       "<text text-anchor=\"middle\" x=\"404.5\" y=\"-141.8\" font-family=\"Times New Roman,serif\" font-size=\"14.00\">X[3] &lt;= 91.0</text>\r\n",
       "<text text-anchor=\"middle\" x=\"404.5\" y=\"-126.8\" font-family=\"Times New Roman,serif\" font-size=\"14.00\">mse = 4421963.415</text>\r\n",
       "<text text-anchor=\"middle\" x=\"404.5\" y=\"-111.8\" font-family=\"Times New Roman,serif\" font-size=\"14.00\">samples = 111</text>\r\n",
       "<text text-anchor=\"middle\" x=\"404.5\" y=\"-96.8\" font-family=\"Times New Roman,serif\" font-size=\"14.00\">value = 4641.577</text>\r\n",
       "</g>\r\n",
       "<!-- 1&#45;&gt;5 -->\r\n",
       "<g id=\"edge5\" class=\"edge\"><title>1&#45;&gt;5</title>\r\n",
       "<path fill=\"none\" stroke=\"black\" d=\"M404.5,-192.884C404.5,-184.778 404.5,-175.982 404.5,-167.472\"/>\r\n",
       "<polygon fill=\"black\" stroke=\"black\" points=\"408,-167.299 404.5,-157.299 401,-167.299 408,-167.299\"/>\r\n",
       "</g>\r\n",
       "<!-- 3 -->\r\n",
       "<g id=\"node4\" class=\"node\"><title>3</title>\r\n",
       "<polygon fill=\"none\" stroke=\"black\" points=\"119,-53 -7.10543e-015,-53 -7.10543e-015,-0 119,-0 119,-53\"/>\r\n",
       "<text text-anchor=\"middle\" x=\"59.5\" y=\"-37.8\" font-family=\"Times New Roman,serif\" font-size=\"14.00\">mse = 106725.588</text>\r\n",
       "<text text-anchor=\"middle\" x=\"59.5\" y=\"-22.8\" font-family=\"Times New Roman,serif\" font-size=\"14.00\">samples = 238</text>\r\n",
       "<text text-anchor=\"middle\" x=\"59.5\" y=\"-7.8\" font-family=\"Times New Roman,serif\" font-size=\"14.00\">value = 725.16</text>\r\n",
       "</g>\r\n",
       "<!-- 2&#45;&gt;3 -->\r\n",
       "<g id=\"edge3\" class=\"edge\"><title>2&#45;&gt;3</title>\r\n",
       "<path fill=\"none\" stroke=\"black\" d=\"M148.584,-88.9485C134.526,-79.2516 119.193,-68.6752 105.272,-59.073\"/>\r\n",
       "<polygon fill=\"black\" stroke=\"black\" points=\"107.03,-56.0337 96.8114,-53.2367 103.056,-61.7959 107.03,-56.0337\"/>\r\n",
       "</g>\r\n",
       "<!-- 4 -->\r\n",
       "<g id=\"node5\" class=\"node\"><title>4</title>\r\n",
       "<polygon fill=\"none\" stroke=\"black\" points=\"256,-53 137,-53 137,-0 256,-0 256,-53\"/>\r\n",
       "<text text-anchor=\"middle\" x=\"196.5\" y=\"-37.8\" font-family=\"Times New Roman,serif\" font-size=\"14.00\">mse = 456567.303</text>\r\n",
       "<text text-anchor=\"middle\" x=\"196.5\" y=\"-22.8\" font-family=\"Times New Roman,serif\" font-size=\"14.00\">samples = 132</text>\r\n",
       "<text text-anchor=\"middle\" x=\"196.5\" y=\"-7.8\" font-family=\"Times New Roman,serif\" font-size=\"14.00\">value = 1992.0</text>\r\n",
       "</g>\r\n",
       "<!-- 2&#45;&gt;4 -->\r\n",
       "<g id=\"edge4\" class=\"edge\"><title>2&#45;&gt;4</title>\r\n",
       "<path fill=\"none\" stroke=\"black\" d=\"M196.5,-88.9485C196.5,-80.7153 196.5,-71.848 196.5,-63.4814\"/>\r\n",
       "<polygon fill=\"black\" stroke=\"black\" points=\"200,-63.2367 196.5,-53.2367 193,-63.2367 200,-63.2367\"/>\r\n",
       "</g>\r\n",
       "<!-- 6 -->\r\n",
       "<g id=\"node7\" class=\"node\"><title>6</title>\r\n",
       "<polygon fill=\"none\" stroke=\"black\" points=\"400.5,-53 274.5,-53 274.5,-0 400.5,-0 400.5,-53\"/>\r\n",
       "<text text-anchor=\"middle\" x=\"337.5\" y=\"-37.8\" font-family=\"Times New Roman,serif\" font-size=\"14.00\">mse = 1937791.636</text>\r\n",
       "<text text-anchor=\"middle\" x=\"337.5\" y=\"-22.8\" font-family=\"Times New Roman,serif\" font-size=\"14.00\">samples = 101</text>\r\n",
       "<text text-anchor=\"middle\" x=\"337.5\" y=\"-7.8\" font-family=\"Times New Roman,serif\" font-size=\"14.00\">value = 4195.515</text>\r\n",
       "</g>\r\n",
       "<!-- 5&#45;&gt;6 -->\r\n",
       "<g id=\"edge6\" class=\"edge\"><title>5&#45;&gt;6</title>\r\n",
       "<path fill=\"none\" stroke=\"black\" d=\"M381.067,-88.9485C374.775,-80.0749 367.962,-70.4648 361.633,-61.5388\"/>\r\n",
       "<polygon fill=\"black\" stroke=\"black\" points=\"364.386,-59.3701 355.747,-53.2367 358.676,-63.4188 364.386,-59.3701\"/>\r\n",
       "</g>\r\n",
       "<!-- 7 -->\r\n",
       "<g id=\"node8\" class=\"node\"><title>7</title>\r\n",
       "<polygon fill=\"none\" stroke=\"black\" points=\"538,-53 419,-53 419,-0 538,-0 538,-53\"/>\r\n",
       "<text text-anchor=\"middle\" x=\"478.5\" y=\"-37.8\" font-family=\"Times New Roman,serif\" font-size=\"14.00\">mse = 7205452.56</text>\r\n",
       "<text text-anchor=\"middle\" x=\"478.5\" y=\"-22.8\" font-family=\"Times New Roman,serif\" font-size=\"14.00\">samples = 10</text>\r\n",
       "<text text-anchor=\"middle\" x=\"478.5\" y=\"-7.8\" font-family=\"Times New Roman,serif\" font-size=\"14.00\">value = 9146.8</text>\r\n",
       "</g>\r\n",
       "<!-- 5&#45;&gt;7 -->\r\n",
       "<g id=\"edge7\" class=\"edge\"><title>5&#45;&gt;7</title>\r\n",
       "<path fill=\"none\" stroke=\"black\" d=\"M430.382,-88.9485C437.402,-79.9834 445.011,-70.2666 452.061,-61.2629\"/>\r\n",
       "<polygon fill=\"black\" stroke=\"black\" points=\"454.937,-63.2679 458.346,-53.2367 449.425,-58.9521 454.937,-63.2679\"/>\r\n",
       "</g>\r\n",
       "<!-- 9 -->\r\n",
       "<g id=\"node10\" class=\"node\"><title>9</title>\r\n",
       "<polygon fill=\"none\" stroke=\"black\" points=\"686,-157 553,-157 553,-89 686,-89 686,-157\"/>\r\n",
       "<text text-anchor=\"middle\" x=\"619.5\" y=\"-141.8\" font-family=\"Times New Roman,serif\" font-size=\"14.00\">X[0] &lt;= 9204.0</text>\r\n",
       "<text text-anchor=\"middle\" x=\"619.5\" y=\"-126.8\" font-family=\"Times New Roman,serif\" font-size=\"14.00\">mse = 12639632.144</text>\r\n",
       "<text text-anchor=\"middle\" x=\"619.5\" y=\"-111.8\" font-family=\"Times New Roman,serif\" font-size=\"14.00\">samples = 61</text>\r\n",
       "<text text-anchor=\"middle\" x=\"619.5\" y=\"-96.8\" font-family=\"Times New Roman,serif\" font-size=\"14.00\">value = 10554.77</text>\r\n",
       "</g>\r\n",
       "<!-- 8&#45;&gt;9 -->\r\n",
       "<g id=\"edge9\" class=\"edge\"><title>8&#45;&gt;9</title>\r\n",
       "<path fill=\"none\" stroke=\"black\" d=\"M619.5,-192.884C619.5,-184.778 619.5,-175.982 619.5,-167.472\"/>\r\n",
       "<polygon fill=\"black\" stroke=\"black\" points=\"623,-167.299 619.5,-157.299 616,-167.299 623,-167.299\"/>\r\n",
       "</g>\r\n",
       "<!-- 12 -->\r\n",
       "<g id=\"node13\" class=\"node\"><title>12</title>\r\n",
       "<polygon fill=\"none\" stroke=\"black\" points=\"809,-149.5 704,-149.5 704,-96.5 809,-96.5 809,-149.5\"/>\r\n",
       "<text text-anchor=\"middle\" x=\"756.5\" y=\"-134.3\" font-family=\"Times New Roman,serif\" font-size=\"14.00\">mse = 0.0</text>\r\n",
       "<text text-anchor=\"middle\" x=\"756.5\" y=\"-119.3\" font-family=\"Times New Roman,serif\" font-size=\"14.00\">samples = 1</text>\r\n",
       "<text text-anchor=\"middle\" x=\"756.5\" y=\"-104.3\" font-family=\"Times New Roman,serif\" font-size=\"14.00\">value = 48094.0</text>\r\n",
       "</g>\r\n",
       "<!-- 8&#45;&gt;12 -->\r\n",
       "<g id=\"edge12\" class=\"edge\"><title>8&#45;&gt;12</title>\r\n",
       "<path fill=\"none\" stroke=\"black\" d=\"M663.98,-192.884C680.081,-180.896 698.209,-167.399 714.125,-155.549\"/>\r\n",
       "<polygon fill=\"black\" stroke=\"black\" points=\"716.292,-158.299 722.223,-149.52 712.112,-152.684 716.292,-158.299\"/>\r\n",
       "</g>\r\n",
       "<!-- 10 -->\r\n",
       "<g id=\"node11\" class=\"node\"><title>10</title>\r\n",
       "<polygon fill=\"none\" stroke=\"black\" points=\"682.5,-53 556.5,-53 556.5,-0 682.5,-0 682.5,-53\"/>\r\n",
       "<text text-anchor=\"middle\" x=\"619.5\" y=\"-37.8\" font-family=\"Times New Roman,serif\" font-size=\"14.00\">mse = 5554281.618</text>\r\n",
       "<text text-anchor=\"middle\" x=\"619.5\" y=\"-22.8\" font-family=\"Times New Roman,serif\" font-size=\"14.00\">samples = 49</text>\r\n",
       "<text text-anchor=\"middle\" x=\"619.5\" y=\"-7.8\" font-family=\"Times New Roman,serif\" font-size=\"14.00\">value = 9228.122</text>\r\n",
       "</g>\r\n",
       "<!-- 9&#45;&gt;10 -->\r\n",
       "<g id=\"edge10\" class=\"edge\"><title>9&#45;&gt;10</title>\r\n",
       "<path fill=\"none\" stroke=\"black\" d=\"M619.5,-88.9485C619.5,-80.7153 619.5,-71.848 619.5,-63.4814\"/>\r\n",
       "<polygon fill=\"black\" stroke=\"black\" points=\"623,-63.2367 619.5,-53.2367 616,-63.2367 623,-63.2367\"/>\r\n",
       "</g>\r\n",
       "<!-- 11 -->\r\n",
       "<g id=\"node12\" class=\"node\"><title>11</title>\r\n",
       "<polygon fill=\"none\" stroke=\"black\" points=\"826.5,-53 700.5,-53 700.5,-0 826.5,-0 826.5,-53\"/>\r\n",
       "<text text-anchor=\"middle\" x=\"763.5\" y=\"-37.8\" font-family=\"Times New Roman,serif\" font-size=\"14.00\">mse = 5039361.076</text>\r\n",
       "<text text-anchor=\"middle\" x=\"763.5\" y=\"-22.8\" font-family=\"Times New Roman,serif\" font-size=\"14.00\">samples = 12</text>\r\n",
       "<text text-anchor=\"middle\" x=\"763.5\" y=\"-7.8\" font-family=\"Times New Roman,serif\" font-size=\"14.00\">value = 15971.917</text>\r\n",
       "</g>\r\n",
       "<!-- 9&#45;&gt;11 -->\r\n",
       "<g id=\"edge11\" class=\"edge\"><title>9&#45;&gt;11</title>\r\n",
       "<path fill=\"none\" stroke=\"black\" d=\"M669.864,-88.9485C684.78,-79.1601 701.061,-68.4756 715.803,-58.8015\"/>\r\n",
       "<polygon fill=\"black\" stroke=\"black\" points=\"717.842,-61.6495 724.282,-53.2367 714.001,-55.7971 717.842,-61.6495\"/>\r\n",
       "</g>\r\n",
       "</g>\r\n",
       "</svg>\r\n"
      ],
      "text/plain": [
       "<graphviz.files.Source at 0x211eacf6f98>"
      ]
     },
     "execution_count": 40,
     "metadata": {},
     "output_type": "execute_result"
    }
   ],
   "source": [
    "graphviz.Source(open('college_tree.dot').read())"
   ]
  },
  {
   "cell_type": "markdown",
   "metadata": {},
   "source": [
    "This tree has 6 terminal nodes."
   ]
  },
  {
   "cell_type": "markdown",
   "metadata": {},
   "source": [
    "#### b.\tPrint: Training Accuracy and Test Accuracy, and  Test MSE."
   ]
  },
  {
   "cell_type": "code",
   "execution_count": 24,
   "metadata": {},
   "outputs": [
    {
     "name": "stdout",
     "output_type": "stream",
     "text": [
      "Training Accuracy:  0.9195418960604136\n",
      "Test Accuracy:  0.8339963262740235\n",
      "MSE: 2195804.7653621435\n"
     ]
    }
   ],
   "source": [
    "y_pred = regr_tree_college.predict(X_test)\n",
    "print('Training Accuracy: ',regr_tree_college.score(X_train, y_train))\n",
    "print('Test Accuracy: ',regr_tree_college.score(X_test, y_test)) \n",
    "print(\"MSE:\", mean_squared_error(y_test, y_pred))"
   ]
  },
  {
   "cell_type": "markdown",
   "metadata": {},
   "source": [
    "#### c.\tNow to find the optimal depth that will improve performance use cost complexity pruning to prune the decision tree. \t"
   ]
  },
  {
   "cell_type": "code",
   "execution_count": 25,
   "metadata": {},
   "outputs": [],
   "source": [
    "path = DecisionTreeRegressor(random_state = 1).cost_complexity_pruning_path(X_train, y_train)\n",
    "ccp_alphas, impurities = path.ccp_alphas, path.impurities"
   ]
  },
  {
   "cell_type": "markdown",
   "metadata": {},
   "source": [
    "#### d.\tBased on part (c), produce a plot to observe total impurity versus effective alpha for training set. What do you observe? "
   ]
  },
  {
   "cell_type": "code",
   "execution_count": 26,
   "metadata": {},
   "outputs": [
    {
     "data": {
      "image/png": "[encoded data removed]",
      "text/plain": [
       "<Figure size 432x288 with 1 Axes>"
      ]
     },
     "metadata": {
      "needs_background": "light"
     },
     "output_type": "display_data"
    }
   ],
   "source": [
    "plt.plot(ccp_alphas[:-1], impurities[:-1], marker = 'o', drawstyle = \"steps-post\")\n",
    "plt.xlabel(\"Effective Alpha\")\n",
    "plt.ylabel(\"Total Impurity\")\n",
    "plt.title(\"Total Impurity vs. Effective Alpha for Training Data\")\n",
    "plt.show()"
   ]
  },
  {
   "cell_type": "markdown",
   "metadata": {},
   "source": [
    "It is evidenced that the total impurity of the leaves increases as the alpha increases with more of the tree pruned; in other words, we observe that as alpha is increasing, more of the tree is pruned which leads to an increase in the total impurity of its leaves."
   ]
  },
  {
   "cell_type": "markdown",
   "metadata": {},
   "source": [
    "#### e.\tConstruct plots to display Number of Nodes versus Alpha and Tree Depth versus Alpha. What do you observe? "
   ]
  },
  {
   "cell_type": "code",
   "execution_count": 27,
   "metadata": {},
   "outputs": [],
   "source": [
    "clf = DecisionTreeRegressor(random_state = 0)\n",
    "path = clf.cost_complexity_pruning_path(X_train, y_train)\n",
    "ccp_alphas, impurities = path.ccp_alphas, path.impurities"
   ]
  },
  {
   "cell_type": "code",
   "execution_count": 28,
   "metadata": {},
   "outputs": [
    {
     "name": "stdout",
     "output_type": "stream",
     "text": [
      "Number of nodes in the last tree is: 1 with ccp_alpha: 8530343.50201896\n"
     ]
    }
   ],
   "source": [
    "clfs = []\n",
    "for ccp_alpha in ccp_alphas:\n",
    "    clf = DecisionTreeRegressor(random_state = 0, ccp_alpha = ccp_alpha)\n",
    "    clf.fit(X_train, y_train)\n",
    "    clfs.append(clf)\n",
    "print(\"Number of nodes in the last tree is: {} with ccp_alpha: {}\".format(clfs[-1].tree_.node_count, ccp_alphas[-1]))"
   ]
  },
  {
   "cell_type": "code",
   "execution_count": 29,
   "metadata": {
    "scrolled": true
   },
   "outputs": [
    {
     "data": {
      "image/png": "[encoded data removed]",
      "text/plain": [
       "<Figure size 432x288 with 2 Axes>"
      ]
     },
     "metadata": {
      "needs_background": "light"
     },
     "output_type": "display_data"
    }
   ],
   "source": [
    "clfs = clfs[:-1] \n",
    "ccp_alphas = ccp_alphas[:-1]\n",
    "\n",
    "node_counts = [clf.tree_.node_count for clf in clfs]\n",
    "depth = [clf.tree_.max_depth for clf in clfs]\n",
    "fig, ax = plt.subplots(2, 1)\n",
    "ax[0].plot(ccp_alphas, node_counts, marker = 'o', drawstyle = \"steps-post\")\n",
    "ax[0].set_xlabel(\"Alpha\")\n",
    "ax[0].set_ylabel(\"Number of Nodes\")\n",
    "ax[0].set_title(\"Number of Nodes vs. Alpha\")\n",
    "ax[1].plot(ccp_alphas, depth, marker = 'o', drawstyle = \"steps-post\")\n",
    "ax[1].set_xlabel(\"Alpha\")\n",
    "ax[1].set_ylabel(\"Tree Depth\")\n",
    "ax[1].set_title(\"Tree Depth vs. Alpha\")\n",
    "fig.tight_layout()"
   ]
  },
  {
   "cell_type": "markdown",
   "metadata": {},
   "source": [
    "It is observed that the # of nodes and depth have negative relations with alpha.\n",
    "As alpha increases, the # of nodes and depth decreases."
   ]
  },
  {
   "cell_type": "markdown",
   "metadata": {},
   "source": [
    "#### f.\tConstruct plot to observe changes of training and test accuracy with respect to alpha.  What do you observe?  "
   ]
  },
  {
   "cell_type": "code",
   "execution_count": 30,
   "metadata": {
    "scrolled": true
   },
   "outputs": [
    {
     "data": {
      "image/png": "[encoded data removed]",
      "text/plain": [
       "<Figure size 432x288 with 1 Axes>"
      ]
     },
     "metadata": {
      "needs_background": "light"
     },
     "output_type": "display_data"
    }
   ],
   "source": [
    "train_scores = [clf.score(X_train, y_train) for clf in clfs]\n",
    "test_scores = [clf.score(X_test, y_test) for clf in clfs]\n",
    "\n",
    "plt.xlabel(\"Alpha\")\n",
    "plt.ylabel(\"Accuracy\")\n",
    "plt.title(\"Accuracy vs. Alpha for Training and Testing sets\")\n",
    "plt.plot(ccp_alphas, train_scores, marker = 'o', label = \"Train\", drawstyle = \"steps-post\")\n",
    "plt.plot(ccp_alphas, test_scores, marker = 'o', label = \"Test\", drawstyle = \"steps-post\")\n",
    "plt.legend()\n",
    "plt.show()"
   ]
  },
  {
   "cell_type": "markdown",
   "metadata": {},
   "source": [
    "When alpha is zero and keeping the other default parameters of DecisionTreeClassifier, the tree overfits, leading to a 100% training accuracy and about relatively high testing accuracy. At every value of alpha, he training accuracy is always greater than testing accuracy. The optimal alpha seems to be around circling 0.5. Past that, as alpha increases, more of the nodes of the tree are pruned and the accuracies of the testing and training starts declining from there."
   ]
  },
  {
   "cell_type": "markdown",
   "metadata": {},
   "source": [
    "#### g.\tFind which alpha corresponds to the highest test score? Find the depth of the tree corresponding to the best alpha and create the tree using that depth. Print the decision tree.  Compute the mean squared test error corresponding to the tree with best alpha.  What do you observe? "
   ]
  },
  {
   "cell_type": "code",
   "execution_count": 32,
   "metadata": {},
   "outputs": [
    {
     "name": "stdout",
     "output_type": "stream",
     "text": [
      "514 is the index at which alpha corresponds to the highest test score.\n",
      "0.8658884542688239 is the alpha that corresponds to the highest test score.\n"
     ]
    }
   ],
   "source": [
    "index, value = max(enumerate(test_scores), key = operator.itemgetter(1))\n",
    "print(index, 'is the index at which alpha corresponds to the highest test score.')\n",
    "print(value, 'is the alpha that corresponds to the highest test score.')"
   ]
  },
  {
   "cell_type": "code",
   "execution_count": 33,
   "metadata": {},
   "outputs": [
    {
     "name": "stdout",
     "output_type": "stream",
     "text": [
      "5 is the depth of the tree corresponding to the best alpha.\n"
     ]
    }
   ],
   "source": [
    "print(clfs[index].tree_.max_depth, 'is the depth of the tree corresponding to the best alpha.')"
   ]
  },
  {
   "cell_type": "code",
   "execution_count": 34,
   "metadata": {},
   "outputs": [
    {
     "data": {
      "text/plain": [
       "DecisionTreeRegressor(max_depth=5)"
      ]
     },
     "execution_count": 34,
     "metadata": {},
     "output_type": "execute_result"
    }
   ],
   "source": [
    "#Creating and fitting a Regression Tree Model wth a max depth corresponding to the best alpha.\n",
    "regr_tree_college_best_alpha = DecisionTreeRegressor(max_depth = clfs[index].tree_.max_depth) \n",
    "regr_tree_college_best_alpha.fit(X_train, y_train)"
   ]
  },
  {
   "cell_type": "code",
   "execution_count": 35,
   "metadata": {
    "scrolled": false
   },
   "outputs": [
    {
     "data": {
      "image/svg+xml": [
       "<?xml version=\"1.0\" encoding=\"UTF-8\" standalone=\"no\"?>\r\n",
       "<!DOCTYPE svg PUBLIC \"-//W3C//DTD SVG 1.1//EN\"\r\n",
       " \"http://www.w3.org/Graphics/SVG/1.1/DTD/svg11.dtd\">\r\n",
       "<!-- Generated by graphviz version 2.38.0 (20140413.2041)\r\n",
       " -->\r\n",
       "<!-- Title: Tree Pages: 1 -->\r\n",
       "<svg width=\"3130pt\" height=\"581pt\"\r\n",
       " viewBox=\"0.00 0.00 3130.00 581.00\" xmlns=\"http://www.w3.org/2000/svg\" xmlns:xlink=\"http://www.w3.org/1999/xlink\">\r\n",
       "<g id=\"graph0\" class=\"graph\" transform=\"scale(1 1) rotate(0) translate(4 577)\">\r\n",
       "<title>Tree</title>\r\n",
       "<polygon fill=\"white\" stroke=\"none\" points=\"-4,4 -4,-577 3126,-577 3126,4 -4,4\"/>\r\n",
       "<!-- 0 -->\r\n",
       "<g id=\"node1\" class=\"node\"><title>0</title>\r\n",
       "<polygon fill=\"none\" stroke=\"black\" points=\"2046,-573 1913,-573 1913,-505 2046,-505 2046,-573\"/>\r\n",
       "<text text-anchor=\"middle\" x=\"1979.5\" y=\"-557.8\" font-family=\"Times New Roman,serif\" font-size=\"14.00\">X[0] &lt;= 4509.0</text>\r\n",
       "<text text-anchor=\"middle\" x=\"1979.5\" y=\"-542.8\" font-family=\"Times New Roman,serif\" font-size=\"14.00\">mse = 15703612.029</text>\r\n",
       "<text text-anchor=\"middle\" x=\"1979.5\" y=\"-527.8\" font-family=\"Times New Roman,serif\" font-size=\"14.00\">samples = 543</text>\r\n",
       "<text text-anchor=\"middle\" x=\"1979.5\" y=\"-512.8\" font-family=\"Times New Roman,serif\" font-size=\"14.00\">value = 3025.197</text>\r\n",
       "</g>\r\n",
       "<!-- 1 -->\r\n",
       "<g id=\"node2\" class=\"node\"><title>1</title>\r\n",
       "<polygon fill=\"none\" stroke=\"black\" points=\"1623.5,-469 1497.5,-469 1497.5,-401 1623.5,-401 1623.5,-469\"/>\r\n",
       "<text text-anchor=\"middle\" x=\"1560.5\" y=\"-453.8\" font-family=\"Times New Roman,serif\" font-size=\"14.00\">X[0] &lt;= 1920.0</text>\r\n",
       "<text text-anchor=\"middle\" x=\"1560.5\" y=\"-438.8\" font-family=\"Times New Roman,serif\" font-size=\"14.00\">mse = 3612479.062</text>\r\n",
       "<text text-anchor=\"middle\" x=\"1560.5\" y=\"-423.8\" font-family=\"Times New Roman,serif\" font-size=\"14.00\">samples = 481</text>\r\n",
       "<text text-anchor=\"middle\" x=\"1560.5\" y=\"-408.8\" font-family=\"Times New Roman,serif\" font-size=\"14.00\">value = 1976.605</text>\r\n",
       "</g>\r\n",
       "<!-- 0&#45;&gt;1 -->\r\n",
       "<g id=\"edge1\" class=\"edge\"><title>0&#45;&gt;1</title>\r\n",
       "<path fill=\"none\" stroke=\"black\" d=\"M1912.64,-521.725C1836.43,-503.17 1712.23,-472.938 1633.53,-453.778\"/>\r\n",
       "<polygon fill=\"black\" stroke=\"black\" points=\"1634.23,-450.347 1623.69,-451.383 1632.58,-457.149 1634.23,-450.347\"/>\r\n",
       "<text text-anchor=\"middle\" x=\"1636.68\" y=\"-469.04\" font-family=\"Times New Roman,serif\" font-size=\"14.00\">True</text>\r\n",
       "</g>\r\n",
       "<!-- 32 -->\r\n",
       "<g id=\"node33\" class=\"node\"><title>32</title>\r\n",
       "<polygon fill=\"none\" stroke=\"black\" points=\"2409,-469 2276,-469 2276,-401 2409,-401 2409,-469\"/>\r\n",
       "<text text-anchor=\"middle\" x=\"2342.5\" y=\"-453.8\" font-family=\"Times New Roman,serif\" font-size=\"14.00\">X[0] &lt;= 19786.5</text>\r\n",
       "<text text-anchor=\"middle\" x=\"2342.5\" y=\"-438.8\" font-family=\"Times New Roman,serif\" font-size=\"14.00\">mse = 34798102.925</text>\r\n",
       "<text text-anchor=\"middle\" x=\"2342.5\" y=\"-423.8\" font-family=\"Times New Roman,serif\" font-size=\"14.00\">samples = 62</text>\r\n",
       "<text text-anchor=\"middle\" x=\"2342.5\" y=\"-408.8\" font-family=\"Times New Roman,serif\" font-size=\"14.00\">value = 11160.242</text>\r\n",
       "</g>\r\n",
       "<!-- 0&#45;&gt;32 -->\r\n",
       "<g id=\"edge32\" class=\"edge\"><title>0&#45;&gt;32</title>\r\n",
       "<path fill=\"none\" stroke=\"black\" d=\"M2046.08,-519.292C2108.18,-501.841 2200.78,-475.821 2265.92,-457.518\"/>\r\n",
       "<polygon fill=\"black\" stroke=\"black\" points=\"2267.05,-460.837 2275.73,-454.762 2265.15,-454.098 2267.05,-460.837\"/>\r\n",
       "<text text-anchor=\"middle\" x=\"2263.49\" y=\"-472.863\" font-family=\"Times New Roman,serif\" font-size=\"14.00\">False</text>\r\n",
       "</g>\r\n",
       "<!-- 2 -->\r\n",
       "<g id=\"node3\" class=\"node\"><title>2</title>\r\n",
       "<polygon fill=\"none\" stroke=\"black\" points=\"832,-365 713,-365 713,-297 832,-297 832,-365\"/>\r\n",
       "<text text-anchor=\"middle\" x=\"772.5\" y=\"-349.8\" font-family=\"Times New Roman,serif\" font-size=\"14.00\">X[0] &lt;= 952.0</text>\r\n",
       "<text text-anchor=\"middle\" x=\"772.5\" y=\"-334.8\" font-family=\"Times New Roman,serif\" font-size=\"14.00\">mse = 599825.068</text>\r\n",
       "<text text-anchor=\"middle\" x=\"772.5\" y=\"-319.8\" font-family=\"Times New Roman,serif\" font-size=\"14.00\">samples = 370</text>\r\n",
       "<text text-anchor=\"middle\" x=\"772.5\" y=\"-304.8\" font-family=\"Times New Roman,serif\" font-size=\"14.00\">value = 1177.114</text>\r\n",
       "</g>\r\n",
       "<!-- 1&#45;&gt;2 -->\r\n",
       "<g id=\"edge2\" class=\"edge\"><title>1&#45;&gt;2</title>\r\n",
       "<path fill=\"none\" stroke=\"black\" d=\"M1497.35,-425.825C1351.86,-406.994 993.996,-360.671 842.287,-341.033\"/>\r\n",
       "<polygon fill=\"black\" stroke=\"black\" points=\"842.528,-337.535 832.161,-339.723 841.629,-344.477 842.528,-337.535\"/>\r\n",
       "</g>\r\n",
       "<!-- 17 -->\r\n",
       "<g id=\"node18\" class=\"node\"><title>17</title>\r\n",
       "<polygon fill=\"none\" stroke=\"black\" points=\"1623.5,-365 1497.5,-365 1497.5,-297 1623.5,-297 1623.5,-365\"/>\r\n",
       "<text text-anchor=\"middle\" x=\"1560.5\" y=\"-349.8\" font-family=\"Times New Roman,serif\" font-size=\"14.00\">X[3] &lt;= 91.0</text>\r\n",
       "<text text-anchor=\"middle\" x=\"1560.5\" y=\"-334.8\" font-family=\"Times New Roman,serif\" font-size=\"14.00\">mse = 4421963.415</text>\r\n",
       "<text text-anchor=\"middle\" x=\"1560.5\" y=\"-319.8\" font-family=\"Times New Roman,serif\" font-size=\"14.00\">samples = 111</text>\r\n",
       "<text text-anchor=\"middle\" x=\"1560.5\" y=\"-304.8\" font-family=\"Times New Roman,serif\" font-size=\"14.00\">value = 4641.577</text>\r\n",
       "</g>\r\n",
       "<!-- 1&#45;&gt;17 -->\r\n",
       "<g id=\"edge17\" class=\"edge\"><title>1&#45;&gt;17</title>\r\n",
       "<path fill=\"none\" stroke=\"black\" d=\"M1560.5,-400.884C1560.5,-392.778 1560.5,-383.982 1560.5,-375.472\"/>\r\n",
       "<polygon fill=\"black\" stroke=\"black\" points=\"1564,-375.299 1560.5,-365.299 1557,-375.299 1564,-375.299\"/>\r\n",
       "</g>\r\n",
       "<!-- 3 -->\r\n",
       "<g id=\"node4\" class=\"node\"><title>3</title>\r\n",
       "<polygon fill=\"none\" stroke=\"black\" points=\"439,-261 320,-261 320,-193 439,-193 439,-261\"/>\r\n",
       "<text text-anchor=\"middle\" x=\"379.5\" y=\"-245.8\" font-family=\"Times New Roman,serif\" font-size=\"14.00\">X[0] &lt;= 568.5</text>\r\n",
       "<text text-anchor=\"middle\" x=\"379.5\" y=\"-230.8\" font-family=\"Times New Roman,serif\" font-size=\"14.00\">mse = 106725.588</text>\r\n",
       "<text text-anchor=\"middle\" x=\"379.5\" y=\"-215.8\" font-family=\"Times New Roman,serif\" font-size=\"14.00\">samples = 238</text>\r\n",
       "<text text-anchor=\"middle\" x=\"379.5\" y=\"-200.8\" font-family=\"Times New Roman,serif\" font-size=\"14.00\">value = 725.16</text>\r\n",
       "</g>\r\n",
       "<!-- 2&#45;&gt;3 -->\r\n",
       "<g id=\"edge3\" class=\"edge\"><title>2&#45;&gt;3</title>\r\n",
       "<path fill=\"none\" stroke=\"black\" d=\"M712.812,-314.508C641.914,-296.107 523.844,-265.463 448.927,-246.019\"/>\r\n",
       "<polygon fill=\"black\" stroke=\"black\" points=\"449.663,-242.594 439.105,-243.47 447.905,-249.37 449.663,-242.594\"/>\r\n",
       "</g>\r\n",
       "<!-- 10 -->\r\n",
       "<g id=\"node11\" class=\"node\"><title>10</title>\r\n",
       "<polygon fill=\"none\" stroke=\"black\" points=\"832,-261 713,-261 713,-193 832,-193 832,-261\"/>\r\n",
       "<text text-anchor=\"middle\" x=\"772.5\" y=\"-245.8\" font-family=\"Times New Roman,serif\" font-size=\"14.00\">X[0] &lt;= 1411.5</text>\r\n",
       "<text text-anchor=\"middle\" x=\"772.5\" y=\"-230.8\" font-family=\"Times New Roman,serif\" font-size=\"14.00\">mse = 456567.303</text>\r\n",
       "<text text-anchor=\"middle\" x=\"772.5\" y=\"-215.8\" font-family=\"Times New Roman,serif\" font-size=\"14.00\">samples = 132</text>\r\n",
       "<text text-anchor=\"middle\" x=\"772.5\" y=\"-200.8\" font-family=\"Times New Roman,serif\" font-size=\"14.00\">value = 1992.0</text>\r\n",
       "</g>\r\n",
       "<!-- 2&#45;&gt;10 -->\r\n",
       "<g id=\"edge10\" class=\"edge\"><title>2&#45;&gt;10</title>\r\n",
       "<path fill=\"none\" stroke=\"black\" d=\"M772.5,-296.884C772.5,-288.778 772.5,-279.982 772.5,-271.472\"/>\r\n",
       "<polygon fill=\"black\" stroke=\"black\" points=\"776,-271.299 772.5,-261.299 769,-271.299 776,-271.299\"/>\r\n",
       "</g>\r\n",
       "<!-- 4 -->\r\n",
       "<g id=\"node5\" class=\"node\"><title>4</title>\r\n",
       "<polygon fill=\"none\" stroke=\"black\" points=\"241,-157 128,-157 128,-89 241,-89 241,-157\"/>\r\n",
       "<text text-anchor=\"middle\" x=\"184.5\" y=\"-141.8\" font-family=\"Times New Roman,serif\" font-size=\"14.00\">X[0] &lt;= 370.5</text>\r\n",
       "<text text-anchor=\"middle\" x=\"184.5\" y=\"-126.8\" font-family=\"Times New Roman,serif\" font-size=\"14.00\">mse = 29427.949</text>\r\n",
       "<text text-anchor=\"middle\" x=\"184.5\" y=\"-111.8\" font-family=\"Times New Roman,serif\" font-size=\"14.00\">samples = 127</text>\r\n",
       "<text text-anchor=\"middle\" x=\"184.5\" y=\"-96.8\" font-family=\"Times New Roman,serif\" font-size=\"14.00\">value = 484.937</text>\r\n",
       "</g>\r\n",
       "<!-- 3&#45;&gt;4 -->\r\n",
       "<g id=\"edge4\" class=\"edge\"><title>3&#45;&gt;4</title>\r\n",
       "<path fill=\"none\" stroke=\"black\" d=\"M319.934,-194.842C297.785,-183.257 272.542,-170.053 249.899,-158.209\"/>\r\n",
       "<polygon fill=\"black\" stroke=\"black\" points=\"251.516,-155.105 241.033,-153.571 248.272,-161.307 251.516,-155.105\"/>\r\n",
       "</g>\r\n",
       "<!-- 7 -->\r\n",
       "<g id=\"node8\" class=\"node\"><title>7</title>\r\n",
       "<polygon fill=\"none\" stroke=\"black\" points=\"436,-157 323,-157 323,-89 436,-89 436,-157\"/>\r\n",
       "<text text-anchor=\"middle\" x=\"379.5\" y=\"-141.8\" font-family=\"Times New Roman,serif\" font-size=\"14.00\">X[0] &lt;= 837.5</text>\r\n",
       "<text text-anchor=\"middle\" x=\"379.5\" y=\"-126.8\" font-family=\"Times New Roman,serif\" font-size=\"14.00\">mse = 53598.027</text>\r\n",
       "<text text-anchor=\"middle\" x=\"379.5\" y=\"-111.8\" font-family=\"Times New Roman,serif\" font-size=\"14.00\">samples = 111</text>\r\n",
       "<text text-anchor=\"middle\" x=\"379.5\" y=\"-96.8\" font-family=\"Times New Roman,serif\" font-size=\"14.00\">value = 1000.009</text>\r\n",
       "</g>\r\n",
       "<!-- 3&#45;&gt;7 -->\r\n",
       "<g id=\"edge7\" class=\"edge\"><title>3&#45;&gt;7</title>\r\n",
       "<path fill=\"none\" stroke=\"black\" d=\"M379.5,-192.884C379.5,-184.778 379.5,-175.982 379.5,-167.472\"/>\r\n",
       "<polygon fill=\"black\" stroke=\"black\" points=\"383,-167.299 379.5,-157.299 376,-167.299 383,-167.299\"/>\r\n",
       "</g>\r\n",
       "<!-- 5 -->\r\n",
       "<g id=\"node6\" class=\"node\"><title>5</title>\r\n",
       "<polygon fill=\"none\" stroke=\"black\" points=\"113,-53 0,-53 0,-0 113,-0 113,-53\"/>\r\n",
       "<text text-anchor=\"middle\" x=\"56.5\" y=\"-37.8\" font-family=\"Times New Roman,serif\" font-size=\"14.00\">mse = 15235.682</text>\r\n",
       "<text text-anchor=\"middle\" x=\"56.5\" y=\"-22.8\" font-family=\"Times New Roman,serif\" font-size=\"14.00\">samples = 54</text>\r\n",
       "<text text-anchor=\"middle\" x=\"56.5\" y=\"-7.8\" font-family=\"Times New Roman,serif\" font-size=\"14.00\">value = 336.278</text>\r\n",
       "</g>\r\n",
       "<!-- 4&#45;&gt;5 -->\r\n",
       "<g id=\"edge5\" class=\"edge\"><title>4&#45;&gt;5</title>\r\n",
       "<path fill=\"none\" stroke=\"black\" d=\"M139.732,-88.9485C126.721,-79.3431 112.542,-68.8747 99.634,-59.345\"/>\r\n",
       "<polygon fill=\"black\" stroke=\"black\" points=\"101.484,-56.3605 91.3603,-53.2367 97.3265,-61.992 101.484,-56.3605\"/>\r\n",
       "</g>\r\n",
       "<!-- 6 -->\r\n",
       "<g id=\"node7\" class=\"node\"><title>6</title>\r\n",
       "<polygon fill=\"none\" stroke=\"black\" points=\"237.5,-53 131.5,-53 131.5,-0 237.5,-0 237.5,-53\"/>\r\n",
       "<text text-anchor=\"middle\" x=\"184.5\" y=\"-37.8\" font-family=\"Times New Roman,serif\" font-size=\"14.00\">mse = 11485.95</text>\r\n",
       "<text text-anchor=\"middle\" x=\"184.5\" y=\"-22.8\" font-family=\"Times New Roman,serif\" font-size=\"14.00\">samples = 73</text>\r\n",
       "<text text-anchor=\"middle\" x=\"184.5\" y=\"-7.8\" font-family=\"Times New Roman,serif\" font-size=\"14.00\">value = 594.904</text>\r\n",
       "</g>\r\n",
       "<!-- 4&#45;&gt;6 -->\r\n",
       "<g id=\"edge6\" class=\"edge\"><title>4&#45;&gt;6</title>\r\n",
       "<path fill=\"none\" stroke=\"black\" d=\"M184.5,-88.9485C184.5,-80.7153 184.5,-71.848 184.5,-63.4814\"/>\r\n",
       "<polygon fill=\"black\" stroke=\"black\" points=\"188,-63.2367 184.5,-53.2367 181,-63.2367 188,-63.2367\"/>\r\n",
       "</g>\r\n",
       "<!-- 8 -->\r\n",
       "<g id=\"node9\" class=\"node\"><title>8</title>\r\n",
       "<polygon fill=\"none\" stroke=\"black\" points=\"369,-53 256,-53 256,-0 369,-0 369,-53\"/>\r\n",
       "<text text-anchor=\"middle\" x=\"312.5\" y=\"-37.8\" font-family=\"Times New Roman,serif\" font-size=\"14.00\">mse = 37170.637</text>\r\n",
       "<text text-anchor=\"middle\" x=\"312.5\" y=\"-22.8\" font-family=\"Times New Roman,serif\" font-size=\"14.00\">samples = 83</text>\r\n",
       "<text text-anchor=\"middle\" x=\"312.5\" y=\"-7.8\" font-family=\"Times New Roman,serif\" font-size=\"14.00\">value = 930.651</text>\r\n",
       "</g>\r\n",
       "<!-- 7&#45;&gt;8 -->\r\n",
       "<g id=\"edge8\" class=\"edge\"><title>7&#45;&gt;8</title>\r\n",
       "<path fill=\"none\" stroke=\"black\" d=\"M356.067,-88.9485C349.775,-80.0749 342.962,-70.4648 336.633,-61.5388\"/>\r\n",
       "<polygon fill=\"black\" stroke=\"black\" points=\"339.386,-59.3701 330.747,-53.2367 333.676,-63.4188 339.386,-59.3701\"/>\r\n",
       "</g>\r\n",
       "<!-- 9 -->\r\n",
       "<g id=\"node10\" class=\"node\"><title>9</title>\r\n",
       "<polygon fill=\"none\" stroke=\"black\" points=\"500,-53 387,-53 387,-0 500,-0 500,-53\"/>\r\n",
       "<text text-anchor=\"middle\" x=\"443.5\" y=\"-37.8\" font-family=\"Times New Roman,serif\" font-size=\"14.00\">mse = 45762.953</text>\r\n",
       "<text text-anchor=\"middle\" x=\"443.5\" y=\"-22.8\" font-family=\"Times New Roman,serif\" font-size=\"14.00\">samples = 28</text>\r\n",
       "<text text-anchor=\"middle\" x=\"443.5\" y=\"-7.8\" font-family=\"Times New Roman,serif\" font-size=\"14.00\">value = 1205.607</text>\r\n",
       "</g>\r\n",
       "<!-- 7&#45;&gt;9 -->\r\n",
       "<g id=\"edge9\" class=\"edge\"><title>7&#45;&gt;9</title>\r\n",
       "<path fill=\"none\" stroke=\"black\" d=\"M401.884,-88.9485C407.894,-80.0749 414.402,-70.4648 420.447,-61.5388\"/>\r\n",
       "<polygon fill=\"black\" stroke=\"black\" points=\"423.36,-63.4792 426.07,-53.2367 417.564,-59.5539 423.36,-63.4792\"/>\r\n",
       "</g>\r\n",
       "<!-- 11 -->\r\n",
       "<g id=\"node12\" class=\"node\"><title>11</title>\r\n",
       "<polygon fill=\"none\" stroke=\"black\" points=\"763,-157 644,-157 644,-89 763,-89 763,-157\"/>\r\n",
       "<text text-anchor=\"middle\" x=\"703.5\" y=\"-141.8\" font-family=\"Times New Roman,serif\" font-size=\"14.00\">X[2] &lt;= 51.5</text>\r\n",
       "<text text-anchor=\"middle\" x=\"703.5\" y=\"-126.8\" font-family=\"Times New Roman,serif\" font-size=\"14.00\">mse = 286488.136</text>\r\n",
       "<text text-anchor=\"middle\" x=\"703.5\" y=\"-111.8\" font-family=\"Times New Roman,serif\" font-size=\"14.00\">samples = 73</text>\r\n",
       "<text text-anchor=\"middle\" x=\"703.5\" y=\"-96.8\" font-family=\"Times New Roman,serif\" font-size=\"14.00\">value = 1670.205</text>\r\n",
       "</g>\r\n",
       "<!-- 10&#45;&gt;11 -->\r\n",
       "<g id=\"edge11\" class=\"edge\"><title>10&#45;&gt;11</title>\r\n",
       "<path fill=\"none\" stroke=\"black\" d=\"M750.098,-192.884C744.253,-184.243 737.878,-174.819 731.772,-165.793\"/>\r\n",
       "<polygon fill=\"black\" stroke=\"black\" points=\"734.528,-163.621 726.026,-157.299 728.73,-167.543 734.528,-163.621\"/>\r\n",
       "</g>\r\n",
       "<!-- 14 -->\r\n",
       "<g id=\"node15\" class=\"node\"><title>14</title>\r\n",
       "<polygon fill=\"none\" stroke=\"black\" points=\"900,-157 781,-157 781,-89 900,-89 900,-157\"/>\r\n",
       "<text text-anchor=\"middle\" x=\"840.5\" y=\"-141.8\" font-family=\"Times New Roman,serif\" font-size=\"14.00\">X[4] &lt;= 1050.0</text>\r\n",
       "<text text-anchor=\"middle\" x=\"840.5\" y=\"-126.8\" font-family=\"Times New Roman,serif\" font-size=\"14.00\">mse = 380355.485</text>\r\n",
       "<text text-anchor=\"middle\" x=\"840.5\" y=\"-111.8\" font-family=\"Times New Roman,serif\" font-size=\"14.00\">samples = 59</text>\r\n",
       "<text text-anchor=\"middle\" x=\"840.5\" y=\"-96.8\" font-family=\"Times New Roman,serif\" font-size=\"14.00\">value = 2390.153</text>\r\n",
       "</g>\r\n",
       "<!-- 10&#45;&gt;14 -->\r\n",
       "<g id=\"edge14\" class=\"edge\"><title>10&#45;&gt;14</title>\r\n",
       "<path fill=\"none\" stroke=\"black\" d=\"M794.578,-192.884C800.338,-184.243 806.621,-174.819 812.638,-165.793\"/>\r\n",
       "<polygon fill=\"black\" stroke=\"black\" points=\"815.666,-167.561 818.3,-157.299 809.841,-163.678 815.666,-167.561\"/>\r\n",
       "</g>\r\n",
       "<!-- 12 -->\r\n",
       "<g id=\"node13\" class=\"node\"><title>12</title>\r\n",
       "<polygon fill=\"none\" stroke=\"black\" points=\"631,-53 518,-53 518,-0 631,-0 631,-53\"/>\r\n",
       "<text text-anchor=\"middle\" x=\"574.5\" y=\"-37.8\" font-family=\"Times New Roman,serif\" font-size=\"14.00\">mse = 60918.848</text>\r\n",
       "<text text-anchor=\"middle\" x=\"574.5\" y=\"-22.8\" font-family=\"Times New Roman,serif\" font-size=\"14.00\">samples = 66</text>\r\n",
       "<text text-anchor=\"middle\" x=\"574.5\" y=\"-7.8\" font-family=\"Times New Roman,serif\" font-size=\"14.00\">value = 1531.03</text>\r\n",
       "</g>\r\n",
       "<!-- 11&#45;&gt;12 -->\r\n",
       "<g id=\"edge12\" class=\"edge\"><title>11&#45;&gt;12</title>\r\n",
       "<path fill=\"none\" stroke=\"black\" d=\"M658.382,-88.9485C645.27,-79.3431 630.98,-68.8747 617.971,-59.345\"/>\r\n",
       "<polygon fill=\"black\" stroke=\"black\" points=\"619.768,-56.3228 609.633,-53.2367 615.631,-61.9698 619.768,-56.3228\"/>\r\n",
       "</g>\r\n",
       "<!-- 13 -->\r\n",
       "<g id=\"node14\" class=\"node\"><title>13</title>\r\n",
       "<polygon fill=\"none\" stroke=\"black\" points=\"768,-53 649,-53 649,-0 768,-0 768,-53\"/>\r\n",
       "<text text-anchor=\"middle\" x=\"708.5\" y=\"-37.8\" font-family=\"Times New Roman,serif\" font-size=\"14.00\">mse = 508725.959</text>\r\n",
       "<text text-anchor=\"middle\" x=\"708.5\" y=\"-22.8\" font-family=\"Times New Roman,serif\" font-size=\"14.00\">samples = 7</text>\r\n",
       "<text text-anchor=\"middle\" x=\"708.5\" y=\"-7.8\" font-family=\"Times New Roman,serif\" font-size=\"14.00\">value = 2982.429</text>\r\n",
       "</g>\r\n",
       "<!-- 11&#45;&gt;13 -->\r\n",
       "<g id=\"edge13\" class=\"edge\"><title>11&#45;&gt;13</title>\r\n",
       "<path fill=\"none\" stroke=\"black\" d=\"M705.249,-88.9485C705.684,-80.7153 706.154,-71.848 706.596,-63.4814\"/>\r\n",
       "<polygon fill=\"black\" stroke=\"black\" points=\"710.105,-63.4077 707.138,-53.2367 703.115,-63.0378 710.105,-63.4077\"/>\r\n",
       "</g>\r\n",
       "<!-- 15 -->\r\n",
       "<g id=\"node16\" class=\"node\"><title>15</title>\r\n",
       "<polygon fill=\"none\" stroke=\"black\" points=\"884.5,-53 786.5,-53 786.5,-0 884.5,-0 884.5,-53\"/>\r\n",
       "<text text-anchor=\"middle\" x=\"835.5\" y=\"-37.8\" font-family=\"Times New Roman,serif\" font-size=\"14.00\">mse = 0.0</text>\r\n",
       "<text text-anchor=\"middle\" x=\"835.5\" y=\"-22.8\" font-family=\"Times New Roman,serif\" font-size=\"14.00\">samples = 1</text>\r\n",
       "<text text-anchor=\"middle\" x=\"835.5\" y=\"-7.8\" font-family=\"Times New Roman,serif\" font-size=\"14.00\">value = 4414.0</text>\r\n",
       "</g>\r\n",
       "<!-- 14&#45;&gt;15 -->\r\n",
       "<g id=\"edge15\" class=\"edge\"><title>14&#45;&gt;15</title>\r\n",
       "<path fill=\"none\" stroke=\"black\" d=\"M838.751,-88.9485C838.316,-80.7153 837.846,-71.848 837.404,-63.4814\"/>\r\n",
       "<polygon fill=\"black\" stroke=\"black\" points=\"840.885,-63.0378 836.862,-53.2367 833.895,-63.4077 840.885,-63.0378\"/>\r\n",
       "</g>\r\n",
       "<!-- 16 -->\r\n",
       "<g id=\"node17\" class=\"node\"><title>16</title>\r\n",
       "<polygon fill=\"none\" stroke=\"black\" points=\"1022,-53 903,-53 903,-0 1022,-0 1022,-53\"/>\r\n",
       "<text text-anchor=\"middle\" x=\"962.5\" y=\"-37.8\" font-family=\"Times New Roman,serif\" font-size=\"14.00\">mse = 315075.778</text>\r\n",
       "<text text-anchor=\"middle\" x=\"962.5\" y=\"-22.8\" font-family=\"Times New Roman,serif\" font-size=\"14.00\">samples = 58</text>\r\n",
       "<text text-anchor=\"middle\" x=\"962.5\" y=\"-7.8\" font-family=\"Times New Roman,serif\" font-size=\"14.00\">value = 2355.259</text>\r\n",
       "</g>\r\n",
       "<!-- 14&#45;&gt;16 -->\r\n",
       "<g id=\"edge16\" class=\"edge\"><title>14&#45;&gt;16</title>\r\n",
       "<path fill=\"none\" stroke=\"black\" d=\"M883.17,-88.9485C895.452,-79.4346 908.828,-69.074 921.036,-59.6175\"/>\r\n",
       "<polygon fill=\"black\" stroke=\"black\" points=\"923.511,-62.1274 929.274,-53.2367 919.225,-56.5934 923.511,-62.1274\"/>\r\n",
       "</g>\r\n",
       "<!-- 18 -->\r\n",
       "<g id=\"node19\" class=\"node\"><title>18</title>\r\n",
       "<polygon fill=\"none\" stroke=\"black\" points=\"1495.5,-261 1369.5,-261 1369.5,-193 1495.5,-193 1495.5,-261\"/>\r\n",
       "<text text-anchor=\"middle\" x=\"1432.5\" y=\"-245.8\" font-family=\"Times New Roman,serif\" font-size=\"14.00\">X[0] &lt;= 2887.0</text>\r\n",
       "<text text-anchor=\"middle\" x=\"1432.5\" y=\"-230.8\" font-family=\"Times New Roman,serif\" font-size=\"14.00\">mse = 1937791.636</text>\r\n",
       "<text text-anchor=\"middle\" x=\"1432.5\" y=\"-215.8\" font-family=\"Times New Roman,serif\" font-size=\"14.00\">samples = 101</text>\r\n",
       "<text text-anchor=\"middle\" x=\"1432.5\" y=\"-200.8\" font-family=\"Times New Roman,serif\" font-size=\"14.00\">value = 4195.515</text>\r\n",
       "</g>\r\n",
       "<!-- 17&#45;&gt;18 -->\r\n",
       "<g id=\"edge18\" class=\"edge\"><title>17&#45;&gt;18</title>\r\n",
       "<path fill=\"none\" stroke=\"black\" d=\"M1518.94,-296.884C1507.21,-287.531 1494.32,-277.259 1482.15,-267.568\"/>\r\n",
       "<polygon fill=\"black\" stroke=\"black\" points=\"1484.29,-264.794 1474.29,-261.299 1479.93,-270.269 1484.29,-264.794\"/>\r\n",
       "</g>\r\n",
       "<!-- 25 -->\r\n",
       "<g id=\"node26\" class=\"node\"><title>25</title>\r\n",
       "<polygon fill=\"none\" stroke=\"black\" points=\"1747,-261 1628,-261 1628,-193 1747,-193 1747,-261\"/>\r\n",
       "<text text-anchor=\"middle\" x=\"1687.5\" y=\"-245.8\" font-family=\"Times New Roman,serif\" font-size=\"14.00\">X[8] &lt;= 615.0</text>\r\n",
       "<text text-anchor=\"middle\" x=\"1687.5\" y=\"-230.8\" font-family=\"Times New Roman,serif\" font-size=\"14.00\">mse = 7205452.56</text>\r\n",
       "<text text-anchor=\"middle\" x=\"1687.5\" y=\"-215.8\" font-family=\"Times New Roman,serif\" font-size=\"14.00\">samples = 10</text>\r\n",
       "<text text-anchor=\"middle\" x=\"1687.5\" y=\"-200.8\" font-family=\"Times New Roman,serif\" font-size=\"14.00\">value = 9146.8</text>\r\n",
       "</g>\r\n",
       "<!-- 17&#45;&gt;25 -->\r\n",
       "<g id=\"edge25\" class=\"edge\"><title>17&#45;&gt;25</title>\r\n",
       "<path fill=\"none\" stroke=\"black\" d=\"M1601.73,-296.884C1613.38,-287.531 1626.17,-277.259 1638.23,-267.568\"/>\r\n",
       "<polygon fill=\"black\" stroke=\"black\" points=\"1640.43,-270.29 1646.04,-261.299 1636.05,-264.832 1640.43,-270.29\"/>\r\n",
       "</g>\r\n",
       "<!-- 19 -->\r\n",
       "<g id=\"node20\" class=\"node\"><title>19</title>\r\n",
       "<polygon fill=\"none\" stroke=\"black\" points=\"1296,-157 1177,-157 1177,-89 1296,-89 1296,-157\"/>\r\n",
       "<text text-anchor=\"middle\" x=\"1236.5\" y=\"-141.8\" font-family=\"Times New Roman,serif\" font-size=\"14.00\">X[0] &lt;= 2322.0</text>\r\n",
       "<text text-anchor=\"middle\" x=\"1236.5\" y=\"-126.8\" font-family=\"Times New Roman,serif\" font-size=\"14.00\">mse = 728023.871</text>\r\n",
       "<text text-anchor=\"middle\" x=\"1236.5\" y=\"-111.8\" font-family=\"Times New Roman,serif\" font-size=\"14.00\">samples = 57</text>\r\n",
       "<text text-anchor=\"middle\" x=\"1236.5\" y=\"-96.8\" font-family=\"Times New Roman,serif\" font-size=\"14.00\">value = 3378.667</text>\r\n",
       "</g>\r\n",
       "<!-- 18&#45;&gt;19 -->\r\n",
       "<g id=\"edge19\" class=\"edge\"><title>18&#45;&gt;19</title>\r\n",
       "<path fill=\"none\" stroke=\"black\" d=\"M1369.41,-193.165C1348.93,-182.512 1326.13,-170.642 1305.26,-159.785\"/>\r\n",
       "<polygon fill=\"black\" stroke=\"black\" points=\"1306.63,-156.55 1296.14,-155.038 1303.4,-162.759 1306.63,-156.55\"/>\r\n",
       "</g>\r\n",
       "<!-- 22 -->\r\n",
       "<g id=\"node23\" class=\"node\"><title>22</title>\r\n",
       "<polygon fill=\"none\" stroke=\"black\" points=\"1495.5,-157 1369.5,-157 1369.5,-89 1495.5,-89 1495.5,-157\"/>\r\n",
       "<text text-anchor=\"middle\" x=\"1432.5\" y=\"-141.8\" font-family=\"Times New Roman,serif\" font-size=\"14.00\">X[0] &lt;= 3506.0</text>\r\n",
       "<text text-anchor=\"middle\" x=\"1432.5\" y=\"-126.8\" font-family=\"Times New Roman,serif\" font-size=\"14.00\">mse = 1520845.026</text>\r\n",
       "<text text-anchor=\"middle\" x=\"1432.5\" y=\"-111.8\" font-family=\"Times New Roman,serif\" font-size=\"14.00\">samples = 44</text>\r\n",
       "<text text-anchor=\"middle\" x=\"1432.5\" y=\"-96.8\" font-family=\"Times New Roman,serif\" font-size=\"14.00\">value = 5253.705</text>\r\n",
       "</g>\r\n",
       "<!-- 18&#45;&gt;22 -->\r\n",
       "<g id=\"edge22\" class=\"edge\"><title>18&#45;&gt;22</title>\r\n",
       "<path fill=\"none\" stroke=\"black\" d=\"M1432.5,-192.884C1432.5,-184.778 1432.5,-175.982 1432.5,-167.472\"/>\r\n",
       "<polygon fill=\"black\" stroke=\"black\" points=\"1436,-167.299 1432.5,-157.299 1429,-167.299 1436,-167.299\"/>\r\n",
       "</g>\r\n",
       "<!-- 20 -->\r\n",
       "<g id=\"node21\" class=\"node\"><title>20</title>\r\n",
       "<polygon fill=\"none\" stroke=\"black\" points=\"1159,-53 1040,-53 1040,-0 1159,-0 1159,-53\"/>\r\n",
       "<text text-anchor=\"middle\" x=\"1099.5\" y=\"-37.8\" font-family=\"Times New Roman,serif\" font-size=\"14.00\">mse = 378369.133</text>\r\n",
       "<text text-anchor=\"middle\" x=\"1099.5\" y=\"-22.8\" font-family=\"Times New Roman,serif\" font-size=\"14.00\">samples = 28</text>\r\n",
       "<text text-anchor=\"middle\" x=\"1099.5\" y=\"-7.8\" font-family=\"Times New Roman,serif\" font-size=\"14.00\">value = 2923.286</text>\r\n",
       "</g>\r\n",
       "<!-- 19&#45;&gt;20 -->\r\n",
       "<g id=\"edge20\" class=\"edge\"><title>19&#45;&gt;20</title>\r\n",
       "<path fill=\"none\" stroke=\"black\" d=\"M1188.58,-88.9485C1174.53,-79.2516 1159.19,-68.6752 1145.27,-59.073\"/>\r\n",
       "<polygon fill=\"black\" stroke=\"black\" points=\"1147.03,-56.0337 1136.81,-53.2367 1143.06,-61.7959 1147.03,-56.0337\"/>\r\n",
       "</g>\r\n",
       "<!-- 21 -->\r\n",
       "<g id=\"node22\" class=\"node\"><title>21</title>\r\n",
       "<polygon fill=\"none\" stroke=\"black\" points=\"1296,-53 1177,-53 1177,-0 1296,-0 1296,-53\"/>\r\n",
       "<text text-anchor=\"middle\" x=\"1236.5\" y=\"-37.8\" font-family=\"Times New Roman,serif\" font-size=\"14.00\">mse = 672083.605</text>\r\n",
       "<text text-anchor=\"middle\" x=\"1236.5\" y=\"-22.8\" font-family=\"Times New Roman,serif\" font-size=\"14.00\">samples = 29</text>\r\n",
       "<text text-anchor=\"middle\" x=\"1236.5\" y=\"-7.8\" font-family=\"Times New Roman,serif\" font-size=\"14.00\">value = 3818.345</text>\r\n",
       "</g>\r\n",
       "<!-- 19&#45;&gt;21 -->\r\n",
       "<g id=\"edge21\" class=\"edge\"><title>19&#45;&gt;21</title>\r\n",
       "<path fill=\"none\" stroke=\"black\" d=\"M1236.5,-88.9485C1236.5,-80.7153 1236.5,-71.848 1236.5,-63.4814\"/>\r\n",
       "<polygon fill=\"black\" stroke=\"black\" points=\"1240,-63.2367 1236.5,-53.2367 1233,-63.2367 1240,-63.2367\"/>\r\n",
       "</g>\r\n",
       "<!-- 23 -->\r\n",
       "<g id=\"node24\" class=\"node\"><title>23</title>\r\n",
       "<polygon fill=\"none\" stroke=\"black\" points=\"1420.5,-53 1314.5,-53 1314.5,-0 1420.5,-0 1420.5,-53\"/>\r\n",
       "<text text-anchor=\"middle\" x=\"1367.5\" y=\"-37.8\" font-family=\"Times New Roman,serif\" font-size=\"14.00\">mse = 902045.3</text>\r\n",
       "<text text-anchor=\"middle\" x=\"1367.5\" y=\"-22.8\" font-family=\"Times New Roman,serif\" font-size=\"14.00\">samples = 20</text>\r\n",
       "<text text-anchor=\"middle\" x=\"1367.5\" y=\"-7.8\" font-family=\"Times New Roman,serif\" font-size=\"14.00\">value = 4595.0</text>\r\n",
       "</g>\r\n",
       "<!-- 22&#45;&gt;23 -->\r\n",
       "<g id=\"edge23\" class=\"edge\"><title>22&#45;&gt;23</title>\r\n",
       "<path fill=\"none\" stroke=\"black\" d=\"M1409.77,-88.9485C1403.66,-80.0749 1397.05,-70.4648 1390.91,-61.5388\"/>\r\n",
       "<polygon fill=\"black\" stroke=\"black\" points=\"1393.75,-59.4924 1385.2,-53.2367 1387.99,-63.4594 1393.75,-59.4924\"/>\r\n",
       "</g>\r\n",
       "<!-- 24 -->\r\n",
       "<g id=\"node25\" class=\"node\"><title>24</title>\r\n",
       "<polygon fill=\"none\" stroke=\"black\" points=\"1564.5,-53 1438.5,-53 1438.5,-0 1564.5,-0 1564.5,-53\"/>\r\n",
       "<text text-anchor=\"middle\" x=\"1501.5\" y=\"-37.8\" font-family=\"Times New Roman,serif\" font-size=\"14.00\">mse = 1373621.401</text>\r\n",
       "<text text-anchor=\"middle\" x=\"1501.5\" y=\"-22.8\" font-family=\"Times New Roman,serif\" font-size=\"14.00\">samples = 24</text>\r\n",
       "<text text-anchor=\"middle\" x=\"1501.5\" y=\"-7.8\" font-family=\"Times New Roman,serif\" font-size=\"14.00\">value = 5802.625</text>\r\n",
       "</g>\r\n",
       "<!-- 22&#45;&gt;24 -->\r\n",
       "<g id=\"edge24\" class=\"edge\"><title>22&#45;&gt;24</title>\r\n",
       "<path fill=\"none\" stroke=\"black\" d=\"M1456.63,-88.9485C1463.11,-80.0749 1470.13,-70.4648 1476.65,-61.5388\"/>\r\n",
       "<polygon fill=\"black\" stroke=\"black\" points=\"1479.64,-63.3769 1482.71,-53.2367 1473.98,-59.249 1479.64,-63.3769\"/>\r\n",
       "</g>\r\n",
       "<!-- 26 -->\r\n",
       "<g id=\"node27\" class=\"node\"><title>26</title>\r\n",
       "<polygon fill=\"none\" stroke=\"black\" points=\"1750.5,-157 1624.5,-157 1624.5,-89 1750.5,-89 1750.5,-157\"/>\r\n",
       "<text text-anchor=\"middle\" x=\"1687.5\" y=\"-141.8\" font-family=\"Times New Roman,serif\" font-size=\"14.00\">X[13] &lt;= 17.0</text>\r\n",
       "<text text-anchor=\"middle\" x=\"1687.5\" y=\"-126.8\" font-family=\"Times New Roman,serif\" font-size=\"14.00\">mse = 2841355.889</text>\r\n",
       "<text text-anchor=\"middle\" x=\"1687.5\" y=\"-111.8\" font-family=\"Times New Roman,serif\" font-size=\"14.00\">samples = 6</text>\r\n",
       "<text text-anchor=\"middle\" x=\"1687.5\" y=\"-96.8\" font-family=\"Times New Roman,serif\" font-size=\"14.00\">value = 7307.333</text>\r\n",
       "</g>\r\n",
       "<!-- 25&#45;&gt;26 -->\r\n",
       "<g id=\"edge26\" class=\"edge\"><title>25&#45;&gt;26</title>\r\n",
       "<path fill=\"none\" stroke=\"black\" d=\"M1687.5,-192.884C1687.5,-184.778 1687.5,-175.982 1687.5,-167.472\"/>\r\n",
       "<polygon fill=\"black\" stroke=\"black\" points=\"1691,-167.299 1687.5,-157.299 1684,-167.299 1691,-167.299\"/>\r\n",
       "</g>\r\n",
       "<!-- 29 -->\r\n",
       "<g id=\"node30\" class=\"node\"><title>29</title>\r\n",
       "<polygon fill=\"none\" stroke=\"black\" points=\"1939,-157 1826,-157 1826,-89 1939,-89 1939,-157\"/>\r\n",
       "<text text-anchor=\"middle\" x=\"1882.5\" y=\"-141.8\" font-family=\"Times New Roman,serif\" font-size=\"14.00\">X[8] &lt;= 672.5</text>\r\n",
       "<text text-anchor=\"middle\" x=\"1882.5\" y=\"-126.8\" font-family=\"Times New Roman,serif\" font-size=\"14.00\">mse = 1062956.5</text>\r\n",
       "<text text-anchor=\"middle\" x=\"1882.5\" y=\"-111.8\" font-family=\"Times New Roman,serif\" font-size=\"14.00\">samples = 4</text>\r\n",
       "<text text-anchor=\"middle\" x=\"1882.5\" y=\"-96.8\" font-family=\"Times New Roman,serif\" font-size=\"14.00\">value = 11906.0</text>\r\n",
       "</g>\r\n",
       "<!-- 25&#45;&gt;29 -->\r\n",
       "<g id=\"edge29\" class=\"edge\"><title>25&#45;&gt;29</title>\r\n",
       "<path fill=\"none\" stroke=\"black\" d=\"M1747.07,-194.842C1769.21,-183.257 1794.46,-170.053 1817.1,-158.209\"/>\r\n",
       "<polygon fill=\"black\" stroke=\"black\" points=\"1818.73,-161.307 1825.97,-153.571 1815.48,-155.105 1818.73,-161.307\"/>\r\n",
       "</g>\r\n",
       "<!-- 27 -->\r\n",
       "<g id=\"node28\" class=\"node\"><title>27</title>\r\n",
       "<polygon fill=\"none\" stroke=\"black\" points=\"1680.5,-53 1582.5,-53 1582.5,-0 1680.5,-0 1680.5,-53\"/>\r\n",
       "<text text-anchor=\"middle\" x=\"1631.5\" y=\"-37.8\" font-family=\"Times New Roman,serif\" font-size=\"14.00\">mse = 0.0</text>\r\n",
       "<text text-anchor=\"middle\" x=\"1631.5\" y=\"-22.8\" font-family=\"Times New Roman,serif\" font-size=\"14.00\">samples = 1</text>\r\n",
       "<text text-anchor=\"middle\" x=\"1631.5\" y=\"-7.8\" font-family=\"Times New Roman,serif\" font-size=\"14.00\">value = 3821.0</text>\r\n",
       "</g>\r\n",
       "<!-- 26&#45;&gt;27 -->\r\n",
       "<g id=\"edge27\" class=\"edge\"><title>26&#45;&gt;27</title>\r\n",
       "<path fill=\"none\" stroke=\"black\" d=\"M1667.91,-88.9485C1662.76,-80.2579 1657.2,-70.8608 1652,-62.0917\"/>\r\n",
       "<polygon fill=\"black\" stroke=\"black\" points=\"1654.86,-60.0553 1646.75,-53.2367 1648.84,-63.624 1654.86,-60.0553\"/>\r\n",
       "</g>\r\n",
       "<!-- 28 -->\r\n",
       "<g id=\"node29\" class=\"node\"><title>28</title>\r\n",
       "<polygon fill=\"none\" stroke=\"black\" points=\"1812,-53 1699,-53 1699,-0 1812,-0 1812,-53\"/>\r\n",
       "<text text-anchor=\"middle\" x=\"1755.5\" y=\"-37.8\" font-family=\"Times New Roman,serif\" font-size=\"14.00\">mse = 492542.24</text>\r\n",
       "<text text-anchor=\"middle\" x=\"1755.5\" y=\"-22.8\" font-family=\"Times New Roman,serif\" font-size=\"14.00\">samples = 5</text>\r\n",
       "<text text-anchor=\"middle\" x=\"1755.5\" y=\"-7.8\" font-family=\"Times New Roman,serif\" font-size=\"14.00\">value = 8004.6</text>\r\n",
       "</g>\r\n",
       "<!-- 26&#45;&gt;28 -->\r\n",
       "<g id=\"edge28\" class=\"edge\"><title>26&#45;&gt;28</title>\r\n",
       "<path fill=\"none\" stroke=\"black\" d=\"M1711.28,-88.9485C1717.67,-80.0749 1724.58,-70.4648 1731.01,-61.5388\"/>\r\n",
       "<polygon fill=\"black\" stroke=\"black\" points=\"1733.98,-63.398 1736.98,-53.2367 1728.3,-59.3094 1733.98,-63.398\"/>\r\n",
       "</g>\r\n",
       "<!-- 30 -->\r\n",
       "<g id=\"node31\" class=\"node\"><title>30</title>\r\n",
       "<polygon fill=\"none\" stroke=\"black\" points=\"1935,-53 1830,-53 1830,-0 1935,-0 1935,-53\"/>\r\n",
       "<text text-anchor=\"middle\" x=\"1882.5\" y=\"-37.8\" font-family=\"Times New Roman,serif\" font-size=\"14.00\">mse = 42025.0</text>\r\n",
       "<text text-anchor=\"middle\" x=\"1882.5\" y=\"-22.8\" font-family=\"Times New Roman,serif\" font-size=\"14.00\">samples = 2</text>\r\n",
       "<text text-anchor=\"middle\" x=\"1882.5\" y=\"-7.8\" font-family=\"Times New Roman,serif\" font-size=\"14.00\">value = 10910.0</text>\r\n",
       "</g>\r\n",
       "<!-- 29&#45;&gt;30 -->\r\n",
       "<g id=\"edge30\" class=\"edge\"><title>29&#45;&gt;30</title>\r\n",
       "<path fill=\"none\" stroke=\"black\" d=\"M1882.5,-88.9485C1882.5,-80.7153 1882.5,-71.848 1882.5,-63.4814\"/>\r\n",
       "<polygon fill=\"black\" stroke=\"black\" points=\"1886,-63.2367 1882.5,-53.2367 1879,-63.2367 1886,-63.2367\"/>\r\n",
       "</g>\r\n",
       "<!-- 31 -->\r\n",
       "<g id=\"node32\" class=\"node\"><title>31</title>\r\n",
       "<polygon fill=\"none\" stroke=\"black\" points=\"2058,-53 1953,-53 1953,-0 2058,-0 2058,-53\"/>\r\n",
       "<text text-anchor=\"middle\" x=\"2005.5\" y=\"-37.8\" font-family=\"Times New Roman,serif\" font-size=\"14.00\">mse = 99856.0</text>\r\n",
       "<text text-anchor=\"middle\" x=\"2005.5\" y=\"-22.8\" font-family=\"Times New Roman,serif\" font-size=\"14.00\">samples = 2</text>\r\n",
       "<text text-anchor=\"middle\" x=\"2005.5\" y=\"-7.8\" font-family=\"Times New Roman,serif\" font-size=\"14.00\">value = 12902.0</text>\r\n",
       "</g>\r\n",
       "<!-- 29&#45;&gt;31 -->\r\n",
       "<g id=\"edge31\" class=\"edge\"><title>29&#45;&gt;31</title>\r\n",
       "<path fill=\"none\" stroke=\"black\" d=\"M1925.52,-88.9485C1938.02,-79.3431 1951.65,-68.8747 1964.05,-59.345\"/>\r\n",
       "<polygon fill=\"black\" stroke=\"black\" points=\"1966.2,-62.1046 1972,-53.2367 1961.94,-56.5537 1966.2,-62.1046\"/>\r\n",
       "</g>\r\n",
       "<!-- 33 -->\r\n",
       "<g id=\"node34\" class=\"node\"><title>33</title>\r\n",
       "<polygon fill=\"none\" stroke=\"black\" points=\"2409,-365 2276,-365 2276,-297 2409,-297 2409,-365\"/>\r\n",
       "<text text-anchor=\"middle\" x=\"2342.5\" y=\"-349.8\" font-family=\"Times New Roman,serif\" font-size=\"14.00\">X[0] &lt;= 9204.0</text>\r\n",
       "<text text-anchor=\"middle\" x=\"2342.5\" y=\"-334.8\" font-family=\"Times New Roman,serif\" font-size=\"14.00\">mse = 12639632.144</text>\r\n",
       "<text text-anchor=\"middle\" x=\"2342.5\" y=\"-319.8\" font-family=\"Times New Roman,serif\" font-size=\"14.00\">samples = 61</text>\r\n",
       "<text text-anchor=\"middle\" x=\"2342.5\" y=\"-304.8\" font-family=\"Times New Roman,serif\" font-size=\"14.00\">value = 10554.77</text>\r\n",
       "</g>\r\n",
       "<!-- 32&#45;&gt;33 -->\r\n",
       "<g id=\"edge33\" class=\"edge\"><title>32&#45;&gt;33</title>\r\n",
       "<path fill=\"none\" stroke=\"black\" d=\"M2342.5,-400.884C2342.5,-392.778 2342.5,-383.982 2342.5,-375.472\"/>\r\n",
       "<polygon fill=\"black\" stroke=\"black\" points=\"2346,-375.299 2342.5,-365.299 2339,-375.299 2346,-375.299\"/>\r\n",
       "</g>\r\n",
       "<!-- 48 -->\r\n",
       "<g id=\"node49\" class=\"node\"><title>48</title>\r\n",
       "<polygon fill=\"none\" stroke=\"black\" points=\"2532,-357.5 2427,-357.5 2427,-304.5 2532,-304.5 2532,-357.5\"/>\r\n",
       "<text text-anchor=\"middle\" x=\"2479.5\" y=\"-342.3\" font-family=\"Times New Roman,serif\" font-size=\"14.00\">mse = 0.0</text>\r\n",
       "<text text-anchor=\"middle\" x=\"2479.5\" y=\"-327.3\" font-family=\"Times New Roman,serif\" font-size=\"14.00\">samples = 1</text>\r\n",
       "<text text-anchor=\"middle\" x=\"2479.5\" y=\"-312.3\" font-family=\"Times New Roman,serif\" font-size=\"14.00\">value = 48094.0</text>\r\n",
       "</g>\r\n",
       "<!-- 32&#45;&gt;48 -->\r\n",
       "<g id=\"edge48\" class=\"edge\"><title>32&#45;&gt;48</title>\r\n",
       "<path fill=\"none\" stroke=\"black\" d=\"M2386.98,-400.884C2403.08,-388.896 2421.21,-375.399 2437.12,-363.549\"/>\r\n",
       "<polygon fill=\"black\" stroke=\"black\" points=\"2439.29,-366.299 2445.22,-357.52 2435.11,-360.684 2439.29,-366.299\"/>\r\n",
       "</g>\r\n",
       "<!-- 34 -->\r\n",
       "<g id=\"node35\" class=\"node\"><title>34</title>\r\n",
       "<polygon fill=\"none\" stroke=\"black\" points=\"2405.5,-261 2279.5,-261 2279.5,-193 2405.5,-193 2405.5,-261\"/>\r\n",
       "<text text-anchor=\"middle\" x=\"2342.5\" y=\"-245.8\" font-family=\"Times New Roman,serif\" font-size=\"14.00\">X[3] &lt;= 76.5</text>\r\n",
       "<text text-anchor=\"middle\" x=\"2342.5\" y=\"-230.8\" font-family=\"Times New Roman,serif\" font-size=\"14.00\">mse = 5554281.618</text>\r\n",
       "<text text-anchor=\"middle\" x=\"2342.5\" y=\"-215.8\" font-family=\"Times New Roman,serif\" font-size=\"14.00\">samples = 49</text>\r\n",
       "<text text-anchor=\"middle\" x=\"2342.5\" y=\"-200.8\" font-family=\"Times New Roman,serif\" font-size=\"14.00\">value = 9228.122</text>\r\n",
       "</g>\r\n",
       "<!-- 33&#45;&gt;34 -->\r\n",
       "<g id=\"edge34\" class=\"edge\"><title>33&#45;&gt;34</title>\r\n",
       "<path fill=\"none\" stroke=\"black\" d=\"M2342.5,-296.884C2342.5,-288.778 2342.5,-279.982 2342.5,-271.472\"/>\r\n",
       "<polygon fill=\"black\" stroke=\"black\" points=\"2346,-271.299 2342.5,-261.299 2339,-271.299 2346,-271.299\"/>\r\n",
       "</g>\r\n",
       "<!-- 41 -->\r\n",
       "<g id=\"node42\" class=\"node\"><title>41</title>\r\n",
       "<polygon fill=\"none\" stroke=\"black\" points=\"2808.5,-261 2682.5,-261 2682.5,-193 2808.5,-193 2808.5,-261\"/>\r\n",
       "<text text-anchor=\"middle\" x=\"2745.5\" y=\"-245.8\" font-family=\"Times New Roman,serif\" font-size=\"14.00\">X[6] &lt;= 10452.5</text>\r\n",
       "<text text-anchor=\"middle\" x=\"2745.5\" y=\"-230.8\" font-family=\"Times New Roman,serif\" font-size=\"14.00\">mse = 5039361.076</text>\r\n",
       "<text text-anchor=\"middle\" x=\"2745.5\" y=\"-215.8\" font-family=\"Times New Roman,serif\" font-size=\"14.00\">samples = 12</text>\r\n",
       "<text text-anchor=\"middle\" x=\"2745.5\" y=\"-200.8\" font-family=\"Times New Roman,serif\" font-size=\"14.00\">value = 15971.917</text>\r\n",
       "</g>\r\n",
       "<!-- 33&#45;&gt;41 -->\r\n",
       "<g id=\"edge41\" class=\"edge\"><title>33&#45;&gt;41</title>\r\n",
       "<path fill=\"none\" stroke=\"black\" d=\"M2409.29,-299.792C2412.05,-298.806 2414.79,-297.87 2417.5,-297 2503.13,-269.483 2604.93,-250.041 2672.15,-238.954\"/>\r\n",
       "<polygon fill=\"black\" stroke=\"black\" points=\"2672.92,-242.375 2682.23,-237.312 2671.79,-235.466 2672.92,-242.375\"/>\r\n",
       "</g>\r\n",
       "<!-- 35 -->\r\n",
       "<g id=\"node36\" class=\"node\"><title>35</title>\r\n",
       "<polygon fill=\"none\" stroke=\"black\" points=\"2335.5,-157 2209.5,-157 2209.5,-89 2335.5,-89 2335.5,-157\"/>\r\n",
       "<text text-anchor=\"middle\" x=\"2272.5\" y=\"-141.8\" font-family=\"Times New Roman,serif\" font-size=\"14.00\">X[0] &lt;= 6989.0</text>\r\n",
       "<text text-anchor=\"middle\" x=\"2272.5\" y=\"-126.8\" font-family=\"Times New Roman,serif\" font-size=\"14.00\">mse = 2658444.707</text>\r\n",
       "<text text-anchor=\"middle\" x=\"2272.5\" y=\"-111.8\" font-family=\"Times New Roman,serif\" font-size=\"14.00\">samples = 35</text>\r\n",
       "<text text-anchor=\"middle\" x=\"2272.5\" y=\"-96.8\" font-family=\"Times New Roman,serif\" font-size=\"14.00\">value = 8380.086</text>\r\n",
       "</g>\r\n",
       "<!-- 34&#45;&gt;35 -->\r\n",
       "<g id=\"edge35\" class=\"edge\"><title>34&#45;&gt;35</title>\r\n",
       "<path fill=\"none\" stroke=\"black\" d=\"M2319.77,-192.884C2313.84,-184.243 2307.38,-174.819 2301.18,-165.793\"/>\r\n",
       "<polygon fill=\"black\" stroke=\"black\" points=\"2303.9,-163.564 2295.35,-157.299 2298.13,-167.525 2303.9,-163.564\"/>\r\n",
       "</g>\r\n",
       "<!-- 38 -->\r\n",
       "<g id=\"node39\" class=\"node\"><title>38</title>\r\n",
       "<polygon fill=\"none\" stroke=\"black\" points=\"2473,-157 2354,-157 2354,-89 2473,-89 2473,-157\"/>\r\n",
       "<text text-anchor=\"middle\" x=\"2413.5\" y=\"-141.8\" font-family=\"Times New Roman,serif\" font-size=\"14.00\">X[8] &lt;= 763.5</text>\r\n",
       "<text text-anchor=\"middle\" x=\"2413.5\" y=\"-126.8\" font-family=\"Times New Roman,serif\" font-size=\"14.00\">mse = 6501168.74</text>\r\n",
       "<text text-anchor=\"middle\" x=\"2413.5\" y=\"-111.8\" font-family=\"Times New Roman,serif\" font-size=\"14.00\">samples = 14</text>\r\n",
       "<text text-anchor=\"middle\" x=\"2413.5\" y=\"-96.8\" font-family=\"Times New Roman,serif\" font-size=\"14.00\">value = 11348.214</text>\r\n",
       "</g>\r\n",
       "<!-- 34&#45;&gt;38 -->\r\n",
       "<g id=\"edge38\" class=\"edge\"><title>34&#45;&gt;38</title>\r\n",
       "<path fill=\"none\" stroke=\"black\" d=\"M2365.55,-192.884C2371.63,-184.154 2378.26,-174.625 2384.6,-165.514\"/>\r\n",
       "<polygon fill=\"black\" stroke=\"black\" points=\"2387.48,-167.506 2390.32,-157.299 2381.74,-163.507 2387.48,-167.506\"/>\r\n",
       "</g>\r\n",
       "<!-- 36 -->\r\n",
       "<g id=\"node37\" class=\"node\"><title>36</title>\r\n",
       "<polygon fill=\"none\" stroke=\"black\" points=\"2195,-53 2076,-53 2076,-0 2195,-0 2195,-53\"/>\r\n",
       "<text text-anchor=\"middle\" x=\"2135.5\" y=\"-37.8\" font-family=\"Times New Roman,serif\" font-size=\"14.00\">mse = 1403542.08</text>\r\n",
       "<text text-anchor=\"middle\" x=\"2135.5\" y=\"-22.8\" font-family=\"Times New Roman,serif\" font-size=\"14.00\">samples = 25</text>\r\n",
       "<text text-anchor=\"middle\" x=\"2135.5\" y=\"-7.8\" font-family=\"Times New Roman,serif\" font-size=\"14.00\">value = 7668.0</text>\r\n",
       "</g>\r\n",
       "<!-- 35&#45;&gt;36 -->\r\n",
       "<g id=\"edge36\" class=\"edge\"><title>35&#45;&gt;36</title>\r\n",
       "<path fill=\"none\" stroke=\"black\" d=\"M2224.58,-88.9485C2210.53,-79.2516 2195.19,-68.6752 2181.27,-59.073\"/>\r\n",
       "<polygon fill=\"black\" stroke=\"black\" points=\"2183.03,-56.0337 2172.81,-53.2367 2179.06,-61.7959 2183.03,-56.0337\"/>\r\n",
       "</g>\r\n",
       "<!-- 37 -->\r\n",
       "<g id=\"node38\" class=\"node\"><title>37</title>\r\n",
       "<polygon fill=\"none\" stroke=\"black\" points=\"2332,-53 2213,-53 2213,-0 2332,-0 2332,-53\"/>\r\n",
       "<text text-anchor=\"middle\" x=\"2272.5\" y=\"-37.8\" font-family=\"Times New Roman,serif\" font-size=\"14.00\">mse = 1358873.21</text>\r\n",
       "<text text-anchor=\"middle\" x=\"2272.5\" y=\"-22.8\" font-family=\"Times New Roman,serif\" font-size=\"14.00\">samples = 10</text>\r\n",
       "<text text-anchor=\"middle\" x=\"2272.5\" y=\"-7.8\" font-family=\"Times New Roman,serif\" font-size=\"14.00\">value = 10160.3</text>\r\n",
       "</g>\r\n",
       "<!-- 35&#45;&gt;37 -->\r\n",
       "<g id=\"edge37\" class=\"edge\"><title>35&#45;&gt;37</title>\r\n",
       "<path fill=\"none\" stroke=\"black\" d=\"M2272.5,-88.9485C2272.5,-80.7153 2272.5,-71.848 2272.5,-63.4814\"/>\r\n",
       "<polygon fill=\"black\" stroke=\"black\" points=\"2276,-63.2367 2272.5,-53.2367 2269,-63.2367 2276,-63.2367\"/>\r\n",
       "</g>\r\n",
       "<!-- 39 -->\r\n",
       "<g id=\"node40\" class=\"node\"><title>39</title>\r\n",
       "<polygon fill=\"none\" stroke=\"black\" points=\"2476.5,-53 2350.5,-53 2350.5,-0 2476.5,-0 2476.5,-53\"/>\r\n",
       "<text text-anchor=\"middle\" x=\"2413.5\" y=\"-37.8\" font-family=\"Times New Roman,serif\" font-size=\"14.00\">mse = 3435818.231</text>\r\n",
       "<text text-anchor=\"middle\" x=\"2413.5\" y=\"-22.8\" font-family=\"Times New Roman,serif\" font-size=\"14.00\">samples = 11</text>\r\n",
       "<text text-anchor=\"middle\" x=\"2413.5\" y=\"-7.8\" font-family=\"Times New Roman,serif\" font-size=\"14.00\">value = 12365.364</text>\r\n",
       "</g>\r\n",
       "<!-- 38&#45;&gt;39 -->\r\n",
       "<g id=\"edge39\" class=\"edge\"><title>38&#45;&gt;39</title>\r\n",
       "<path fill=\"none\" stroke=\"black\" d=\"M2413.5,-88.9485C2413.5,-80.7153 2413.5,-71.848 2413.5,-63.4814\"/>\r\n",
       "<polygon fill=\"black\" stroke=\"black\" points=\"2417,-63.2367 2413.5,-53.2367 2410,-63.2367 2417,-63.2367\"/>\r\n",
       "</g>\r\n",
       "<!-- 40 -->\r\n",
       "<g id=\"node41\" class=\"node\"><title>40</title>\r\n",
       "<polygon fill=\"none\" stroke=\"black\" points=\"2608,-53 2495,-53 2495,-0 2608,-0 2608,-53\"/>\r\n",
       "<text text-anchor=\"middle\" x=\"2551.5\" y=\"-37.8\" font-family=\"Times New Roman,serif\" font-size=\"14.00\">mse = 37754.889</text>\r\n",
       "<text text-anchor=\"middle\" x=\"2551.5\" y=\"-22.8\" font-family=\"Times New Roman,serif\" font-size=\"14.00\">samples = 3</text>\r\n",
       "<text text-anchor=\"middle\" x=\"2551.5\" y=\"-7.8\" font-family=\"Times New Roman,serif\" font-size=\"14.00\">value = 7618.667</text>\r\n",
       "</g>\r\n",
       "<!-- 38&#45;&gt;40 -->\r\n",
       "<g id=\"edge40\" class=\"edge\"><title>38&#45;&gt;40</title>\r\n",
       "<path fill=\"none\" stroke=\"black\" d=\"M2461.77,-88.9485C2475.93,-79.2516 2491.37,-68.6752 2505.39,-59.073\"/>\r\n",
       "<polygon fill=\"black\" stroke=\"black\" points=\"2507.64,-61.7746 2513.92,-53.2367 2503.69,-55.999 2507.64,-61.7746\"/>\r\n",
       "</g>\r\n",
       "<!-- 42 -->\r\n",
       "<g id=\"node43\" class=\"node\"><title>42</title>\r\n",
       "<polygon fill=\"none\" stroke=\"black\" points=\"2805,-157 2686,-157 2686,-89 2805,-89 2805,-157\"/>\r\n",
       "<text text-anchor=\"middle\" x=\"2745.5\" y=\"-141.8\" font-family=\"Times New Roman,serif\" font-size=\"14.00\">X[10] &lt;= 86.5</text>\r\n",
       "<text text-anchor=\"middle\" x=\"2745.5\" y=\"-126.8\" font-family=\"Times New Roman,serif\" font-size=\"14.00\">mse = 949992.84</text>\r\n",
       "<text text-anchor=\"middle\" x=\"2745.5\" y=\"-111.8\" font-family=\"Times New Roman,serif\" font-size=\"14.00\">samples = 9</text>\r\n",
       "<text text-anchor=\"middle\" x=\"2745.5\" y=\"-96.8\" font-family=\"Times New Roman,serif\" font-size=\"14.00\">value = 14778.222</text>\r\n",
       "</g>\r\n",
       "<!-- 41&#45;&gt;42 -->\r\n",
       "<g id=\"edge42\" class=\"edge\"><title>41&#45;&gt;42</title>\r\n",
       "<path fill=\"none\" stroke=\"black\" d=\"M2745.5,-192.884C2745.5,-184.778 2745.5,-175.982 2745.5,-167.472\"/>\r\n",
       "<polygon fill=\"black\" stroke=\"black\" points=\"2749,-167.299 2745.5,-157.299 2742,-167.299 2749,-167.299\"/>\r\n",
       "</g>\r\n",
       "<!-- 45 -->\r\n",
       "<g id=\"node46\" class=\"node\"><title>45</title>\r\n",
       "<polygon fill=\"none\" stroke=\"black\" points=\"3006,-157 2887,-157 2887,-89 3006,-89 3006,-157\"/>\r\n",
       "<text text-anchor=\"middle\" x=\"2946.5\" y=\"-141.8\" font-family=\"Times New Roman,serif\" font-size=\"14.00\">X[6] &lt;= 17076.0</text>\r\n",
       "<text text-anchor=\"middle\" x=\"2946.5\" y=\"-126.8\" font-family=\"Times New Roman,serif\" font-size=\"14.00\">mse = 208588.667</text>\r\n",
       "<text text-anchor=\"middle\" x=\"2946.5\" y=\"-111.8\" font-family=\"Times New Roman,serif\" font-size=\"14.00\">samples = 3</text>\r\n",
       "<text text-anchor=\"middle\" x=\"2946.5\" y=\"-96.8\" font-family=\"Times New Roman,serif\" font-size=\"14.00\">value = 19553.0</text>\r\n",
       "</g>\r\n",
       "<!-- 41&#45;&gt;45 -->\r\n",
       "<g id=\"edge45\" class=\"edge\"><title>41&#45;&gt;45</title>\r\n",
       "<path fill=\"none\" stroke=\"black\" d=\"M2808.55,-194.006C2830.5,-182.864 2855.25,-170.308 2877.65,-158.939\"/>\r\n",
       "<polygon fill=\"black\" stroke=\"black\" points=\"2879.43,-161.96 2886.76,-154.314 2876.26,-155.718 2879.43,-161.96\"/>\r\n",
       "</g>\r\n",
       "<!-- 43 -->\r\n",
       "<g id=\"node44\" class=\"node\"><title>43</title>\r\n",
       "<polygon fill=\"none\" stroke=\"black\" points=\"2739,-53 2626,-53 2626,-0 2739,-0 2739,-53\"/>\r\n",
       "<text text-anchor=\"middle\" x=\"2682.5\" y=\"-37.8\" font-family=\"Times New Roman,serif\" font-size=\"14.00\">mse = 191406.25</text>\r\n",
       "<text text-anchor=\"middle\" x=\"2682.5\" y=\"-22.8\" font-family=\"Times New Roman,serif\" font-size=\"14.00\">samples = 2</text>\r\n",
       "<text text-anchor=\"middle\" x=\"2682.5\" y=\"-7.8\" font-family=\"Times New Roman,serif\" font-size=\"14.00\">value = 16149.5</text>\r\n",
       "</g>\r\n",
       "<!-- 42&#45;&gt;43 -->\r\n",
       "<g id=\"edge43\" class=\"edge\"><title>42&#45;&gt;43</title>\r\n",
       "<path fill=\"none\" stroke=\"black\" d=\"M2723.47,-88.9485C2717.61,-80.1664 2711.28,-70.6629 2705.38,-61.815\"/>\r\n",
       "<polygon fill=\"black\" stroke=\"black\" points=\"2708.12,-59.6158 2699.66,-53.2367 2702.29,-63.4987 2708.12,-59.6158\"/>\r\n",
       "</g>\r\n",
       "<!-- 44 -->\r\n",
       "<g id=\"node45\" class=\"node\"><title>44</title>\r\n",
       "<polygon fill=\"none\" stroke=\"black\" points=\"2876,-53 2757,-53 2757,-0 2876,-0 2876,-53\"/>\r\n",
       "<text text-anchor=\"middle\" x=\"2816.5\" y=\"-37.8\" font-family=\"Times New Roman,serif\" font-size=\"14.00\">mse = 475971.673</text>\r\n",
       "<text text-anchor=\"middle\" x=\"2816.5\" y=\"-22.8\" font-family=\"Times New Roman,serif\" font-size=\"14.00\">samples = 7</text>\r\n",
       "<text text-anchor=\"middle\" x=\"2816.5\" y=\"-7.8\" font-family=\"Times New Roman,serif\" font-size=\"14.00\">value = 14386.429</text>\r\n",
       "</g>\r\n",
       "<!-- 42&#45;&gt;44 -->\r\n",
       "<g id=\"edge44\" class=\"edge\"><title>42&#45;&gt;44</title>\r\n",
       "<path fill=\"none\" stroke=\"black\" d=\"M2770.33,-88.9485C2777.07,-79.9834 2784.37,-70.2666 2791.13,-61.2629\"/>\r\n",
       "<polygon fill=\"black\" stroke=\"black\" points=\"2793.95,-63.334 2797.16,-53.2367 2788.36,-59.1293 2793.95,-63.334\"/>\r\n",
       "</g>\r\n",
       "<!-- 46 -->\r\n",
       "<g id=\"node47\" class=\"node\"><title>46</title>\r\n",
       "<polygon fill=\"none\" stroke=\"black\" points=\"2999,-53 2894,-53 2894,-0 2999,-0 2999,-53\"/>\r\n",
       "<text text-anchor=\"middle\" x=\"2946.5\" y=\"-37.8\" font-family=\"Times New Roman,serif\" font-size=\"14.00\">mse = 6642.25</text>\r\n",
       "<text text-anchor=\"middle\" x=\"2946.5\" y=\"-22.8\" font-family=\"Times New Roman,serif\" font-size=\"14.00\">samples = 2</text>\r\n",
       "<text text-anchor=\"middle\" x=\"2946.5\" y=\"-7.8\" font-family=\"Times New Roman,serif\" font-size=\"14.00\">value = 19233.5</text>\r\n",
       "</g>\r\n",
       "<!-- 45&#45;&gt;46 -->\r\n",
       "<g id=\"edge46\" class=\"edge\"><title>45&#45;&gt;46</title>\r\n",
       "<path fill=\"none\" stroke=\"black\" d=\"M2946.5,-88.9485C2946.5,-80.7153 2946.5,-71.848 2946.5,-63.4814\"/>\r\n",
       "<polygon fill=\"black\" stroke=\"black\" points=\"2950,-63.2367 2946.5,-53.2367 2943,-63.2367 2950,-63.2367\"/>\r\n",
       "</g>\r\n",
       "<!-- 47 -->\r\n",
       "<g id=\"node48\" class=\"node\"><title>47</title>\r\n",
       "<polygon fill=\"none\" stroke=\"black\" points=\"3122,-53 3017,-53 3017,-0 3122,-0 3122,-53\"/>\r\n",
       "<text text-anchor=\"middle\" x=\"3069.5\" y=\"-37.8\" font-family=\"Times New Roman,serif\" font-size=\"14.00\">mse = 0.0</text>\r\n",
       "<text text-anchor=\"middle\" x=\"3069.5\" y=\"-22.8\" font-family=\"Times New Roman,serif\" font-size=\"14.00\">samples = 1</text>\r\n",
       "<text text-anchor=\"middle\" x=\"3069.5\" y=\"-7.8\" font-family=\"Times New Roman,serif\" font-size=\"14.00\">value = 20192.0</text>\r\n",
       "</g>\r\n",
       "<!-- 45&#45;&gt;47 -->\r\n",
       "<g id=\"edge47\" class=\"edge\"><title>45&#45;&gt;47</title>\r\n",
       "<path fill=\"none\" stroke=\"black\" d=\"M2989.52,-88.9485C3002.02,-79.3431 3015.65,-68.8747 3028.05,-59.345\"/>\r\n",
       "<polygon fill=\"black\" stroke=\"black\" points=\"3030.2,-62.1046 3036,-53.2367 3025.94,-56.5537 3030.2,-62.1046\"/>\r\n",
       "</g>\r\n",
       "</g>\r\n",
       "</svg>\r\n"
      ],
      "text/plain": [
       "<graphviz.files.Source at 0x211eac58c50>"
      ]
     },
     "execution_count": 35,
     "metadata": {},
     "output_type": "execute_result"
    }
   ],
   "source": [
    "export_graphviz(regr_tree_college_best_alpha, out_file = \"college_tree_ba.dot\")\n",
    "graphviz.Source(open('college_tree_ba.dot').read())"
   ]
  },
  {
   "cell_type": "code",
   "execution_count": 37,
   "metadata": {},
   "outputs": [
    {
     "name": "stdout",
     "output_type": "stream",
     "text": [
      "MSE: 1855396.9991518196\n"
     ]
    }
   ],
   "source": [
    "y_pred = regr_tree_college_best_alpha.predict(X_test) #Calculating this model's MSE\n",
    "mse2g = mean_squared_error(y_test, y_pred)\n",
    "print(\"MSE:\", mean_squared_error(y_test, y_pred))"
   ]
  },
  {
   "cell_type": "markdown",
   "metadata": {},
   "source": [
    "As the value of alpha is approaching the best alpha corresponding with the highest test scores, more of the tree is pruned creating a decision tree that generalizes maximizing the best testing accuracy. "
   ]
  },
  {
   "cell_type": "markdown",
   "metadata": {},
   "source": [
    "#### h.\tCompare the above test error rates in part (g) with the one obtained using LASSO regression (test MSE) in Part 1(d). "
   ]
  },
  {
   "cell_type": "code",
   "execution_count": 38,
   "metadata": {},
   "outputs": [
    {
     "name": "stdout",
     "output_type": "stream",
     "text": [
      "Test Error Rate from part 1D - Lasso Regression MSE: 1297628.4623670129\n",
      "Test Error Rate from Part 2G - Regression Tree MSE: 1855396.9991518196\n",
      "The Lasso Regression Model has a lower MSE than the Regression Tree Model.\n"
     ]
    }
   ],
   "source": [
    "print('Test Error Rate from part 1D - Lasso Regression MSE:', mse1d)\n",
    "print('Test Error Rate from Part 2G - Regression Tree MSE:', mse2g)\n",
    "if mse2g > mse1d:\n",
    "    print('The Lasso Regression Model has a lower MSE than the Regression Tree Model.')\n",
    "else:\n",
    "    print('The Regression Tree Model has a lower MSE than the Lasso Regression Model.')"
   ]
  },
  {
   "cell_type": "markdown",
   "metadata": {},
   "source": [
    "#### i.\tWhich model will you select for this decision problem and why? "
   ]
  },
  {
   "cell_type": "markdown",
   "metadata": {},
   "source": [
    "For the decision problem we choose the Lasso Regression Model over the Tree Regression Model as it produces a substantially lower MSE. This is possibly because Lasso is able reduce the complexity of the model by individually looking at each feature and determine whether to shrink the coefficient to improve how accurately the model can predict the true responses."
   ]
  }
 ],
 "metadata": {
  "kernelspec": {
   "display_name": "Python 3",
   "language": "python",
   "name": "python3"
  },
  "language_info": {
   "codemirror_mode": {
    "name": "ipython",
    "version": 3
   },
   "file_extension": ".py",
   "mimetype": "text/x-python",
   "name": "python",
   "nbconvert_exporter": "python",
   "pygments_lexer": "ipython3",
   "version": "3.7.3"
  }
 },
 "nbformat": 4,
 "nbformat_minor": 2
}
